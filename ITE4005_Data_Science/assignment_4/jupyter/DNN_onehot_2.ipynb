{
 "cells": [
  {
   "cell_type": "markdown",
   "metadata": {},
   "source": [
    "# Import libraries"
   ]
  },
  {
   "cell_type": "code",
   "execution_count": 1,
   "metadata": {},
   "outputs": [
    {
     "name": "stderr",
     "output_type": "stream",
     "text": [
      "Using TensorFlow backend.\n"
     ]
    }
   ],
   "source": [
    "import tensorflow as tf\n",
    "import keras\n",
    "from tensorflow.keras.models import Model, Sequential\n",
    "from tensorflow.keras.layers import Input, Dense, Dropout, Embedding, Reshape, Concatenate, Dot, Multiply\n",
    "\n",
    "import math\n",
    "import numpy as np\n",
    "import pandas as pd\n",
    "\n",
    "import seaborn as sns\n",
    "import matplotlib.pyplot as plt\n",
    "import matplotlib.patheffects as PathEffects\n"
   ]
  },
  {
   "cell_type": "markdown",
   "metadata": {},
   "source": [
    "# Load Dataset"
   ]
  },
  {
   "cell_type": "code",
   "execution_count": 3,
   "metadata": {},
   "outputs": [],
   "source": [
    "def load_dataset(dataset_id = 1):\n",
    "    filename_train = '../data/train/u'+str(dataset_id)+'.base'\n",
    "    filename_test = '../data/train/u'+str(dataset_id)+'.test'\n",
    "    dataset_train_df = pd.read_csv(filename_train, names=['user_id','movie_id','rating','time_stamp'], header=None, delimiter='\\t')\n",
    "    dataset_test_df = pd.read_csv(filename_test, names=['user_id','movie_id','rating','time_stamp'], header=None, delimiter='\\t')\n",
    "    # dataset = dataset_df.to_dict('records')\n",
    "    return dataset_train_df, dataset_test_df  \n",
    "   "
   ]
  },
  {
   "cell_type": "code",
   "execution_count": 4,
   "metadata": {},
   "outputs": [],
   "source": [
    "def one_hot_encoding(labels):\n",
    "    encodeds = [\n",
    "        [1., .0, .0, .0, .0],\n",
    "        [.0, 1., .0, .0, .0],\n",
    "        [.0, .0, 1., .0, .0],\n",
    "        [.0, .0, .0, 1., .0],\n",
    "        [.0, .0, .0, .0, 1.],\n",
    "    ]\n",
    "    labels_encoded = np.array([encodeds[int(label)-1] for label in labels])\n",
    "    return labels_encoded"
   ]
  },
  {
   "cell_type": "code",
   "execution_count": 5,
   "metadata": {},
   "outputs": [],
   "source": [
    "def one_hot_encoding_smoothing(labels):\n",
    "    encodeds = [\n",
    "        [.75, .25, .0, .0, .0],\n",
    "        [.15, .7, .15, .0, .0],\n",
    "        [.0, .15, .7, .15, .0],\n",
    "        [.0, .0, .15, .7, .15],\n",
    "        [.0, .0, .0, .25, .75],\n",
    "    ]\n",
    "    labels_encoded = np.array([encodeds[int(label)-1] for label in labels])\n",
    "    return labels_encoded"
   ]
  },
  {
   "cell_type": "code",
   "execution_count": 6,
   "metadata": {},
   "outputs": [],
   "source": [
    "dataset_train_df, dataset_test_df = load_dataset(dataset_id=1)\n",
    "\n",
    "train_x_user = dataset_train_df['user_id'].values\n",
    "train_x_item = dataset_train_df['movie_id'].values\n",
    "train_y = dataset_train_df['rating'].values\n",
    "train_y_encoded = one_hot_encoding(train_y)\n",
    "train_y_encoded_smoothing = one_hot_encoding_smoothing(train_y)\n",
    "\n",
    "test_x_user = dataset_test_df['user_id'].values\n",
    "test_x_item = dataset_test_df['movie_id'].values\n",
    "test_y = dataset_test_df['rating'].values\n",
    "test_y_encoded = one_hot_encoding(test_y)\n",
    "test_y_encoded_smoothing = one_hot_encoding_smoothing(test_y)\n",
    "\n",
    "num_of_users = dataset_train_df['user_id'].max() + 1\n",
    "num_of_items = dataset_train_df['movie_id'].max() + 1\n",
    "num_of_factors = 100"
   ]
  },
  {
   "cell_type": "markdown",
   "metadata": {},
   "source": [
    "# Scatter results"
   ]
  },
  {
   "cell_type": "code",
   "execution_count": 7,
   "metadata": {},
   "outputs": [],
   "source": [
    "# Define our own plot function\n",
    "def scatter(y, pred_y, subtitle='result.png'):\n",
    "    # We create a scatter plot.\n",
    "    f = plt.figure(figsize=(8, 8))\n",
    "    ax = plt.subplot(aspect='equal')\n",
    "    \n",
    "    \n",
    "    sc = ax.scatter(y, pred_y, lw=0, s=40)\n",
    "    plt.xlim(-2, 7)\n",
    "    plt.ylim(-2, 7)\n",
    "    if subtitle != None:\n",
    "        plt.suptitle(subtitle)\n",
    "        \n",
    "    plt.savefig(subtitle)\n",
    "    "
   ]
  },
  {
   "cell_type": "markdown",
   "metadata": {},
   "source": [
    "### 3) model #3 - DNN with one-hot encoding"
   ]
  },
  {
   "cell_type": "markdown",
   "metadata": {},
   "source": [
    "##### - build model"
   ]
  },
  {
   "cell_type": "code",
   "execution_count": 8,
   "metadata": {},
   "outputs": [],
   "source": [
    "class DNNModel_onehot(Model):\n",
    "    def __init__(self, num_of_users, num_of_items, num_of_factors):\n",
    "        \n",
    "        # tensor_0 : input\n",
    "        input_user_id = Input((1,), name='input_user_id')\n",
    "        input_item_id = Input((1,), name='input_item_id')\n",
    "        \n",
    "        # model_0 : embedding inpput\n",
    "        model_Embedding_user_id = Sequential([\n",
    "            Embedding(num_of_users, num_of_factors, input_length=1, input_shape=(1,)),\n",
    "            Reshape((num_of_factors,)),\n",
    "        ])\n",
    "        model_Embedding_item_id = Sequential([\n",
    "            Embedding(num_of_items, num_of_factors, input_length=1, input_shape=(1,)),\n",
    "            Reshape((num_of_factors,)),\n",
    "        ])\n",
    "        \n",
    "        # tensor_1 : embedded input\n",
    "        embedded_user_id = model_Embedding_user_id(input_user_id)\n",
    "        embedded_item_id = model_Embedding_item_id(input_item_id)\n",
    "        \n",
    "        # tensor_2 : embedded vector\n",
    "        embedded_mul = Multiply()([embedded_user_id, embedded_item_id])\n",
    "        embedded_vector = Concatenate(axis=-1)([embedded_user_id, embedded_item_id, embedded_mul])\n",
    "        \n",
    "        # model_2 : DNN\n",
    "        p_dropout=0.1\n",
    "        model_DNN = Sequential([\n",
    "            Dropout(p_dropout),\n",
    "            Dense(num_of_factors * 3, activation='relu'),\n",
    "            Dropout(p_dropout),\n",
    "            Dense(30, activation='relu'),\n",
    "            Dropout(p_dropout),\n",
    "            Dense(5, activation='softmax'),\n",
    "        ])    \n",
    "        \n",
    "        # tensor_3 : output_label\n",
    "        output_label = model_DNN(embedded_vector)\n",
    "        \n",
    "        super(DNNModel_onehot, self).__init__(\n",
    "            inputs=[input_user_id, input_item_id], \n",
    "            outputs=output_label\n",
    "        )\n",
    "\n",
    "    def score(self, y, pred_y):\n",
    "        return np.sqrt( np.sum(np.square(pred_y.reshape(-1, 1) - y.reshape(-1,1))) / len(y) )\n",
    "        "
   ]
  },
  {
   "cell_type": "markdown",
   "metadata": {},
   "source": [
    "### - train model and get results"
   ]
  },
  {
   "cell_type": "markdown",
   "metadata": {},
   "source": [
    "##### 3_a) one-hot encoding"
   ]
  },
  {
   "cell_type": "code",
   "execution_count": 9,
   "metadata": {},
   "outputs": [],
   "source": [
    "model = DNNModel_onehot(num_of_users, num_of_items, num_of_factors)\n",
    "model.compile(\n",
    "    loss='mse',\n",
    "    optimizer=tf.keras.optimizers.Adam(),\n",
    ")\n",
    "#model.summary()"
   ]
  },
  {
   "cell_type": "code",
   "execution_count": 10,
   "metadata": {},
   "outputs": [
    {
     "name": "stdout",
     "output_type": "stream",
     "text": [
      "Train on 80000 samples, validate on 20000 samples\n",
      "Epoch 1/1000\n",
      "80000/80000 [==============================] - 2s 27us/sample - loss: 0.1423 - val_loss: 0.1349\n",
      "Epoch 2/1000\n",
      "80000/80000 [==============================] - 1s 12us/sample - loss: 0.1323 - val_loss: 0.1331\n",
      "Epoch 3/1000\n",
      "80000/80000 [==============================] - 1s 12us/sample - loss: 0.1297 - val_loss: 0.1332\n",
      "Epoch 4/1000\n",
      "80000/80000 [==============================] - 1s 11us/sample - loss: 0.1278 - val_loss: 0.1332\n",
      "Epoch 5/1000\n",
      "80000/80000 [==============================] - 1s 12us/sample - loss: 0.1261 - val_loss: 0.1337\n",
      "Epoch 6/1000\n",
      "80000/80000 [==============================] - 1s 11us/sample - loss: 0.1245 - val_loss: 0.1344\n",
      "Epoch 7/1000\n",
      "80000/80000 [==============================] - 1s 11us/sample - loss: 0.1228 - val_loss: 0.1351\n"
     ]
    }
   ],
   "source": [
    "callbacks = [\n",
    "    tf.keras.callbacks.EarlyStopping('val_loss', patience=5),\n",
    "]\n",
    "result = model.fit(\n",
    "    [train_x_user, train_x_item], train_y_encoded,\n",
    "    batch_size = 512,\n",
    "    epochs = 1000,\n",
    "    shuffle = True,\n",
    "    verbose = True,\n",
    "    validation_data = ([test_x_user, test_x_item], test_y_encoded),\n",
    "    callbacks = callbacks,\n",
    ")\n",
    "\n",
    "model.save_weights('weights_DNN_onehot.h5')"
   ]
  },
  {
   "cell_type": "code",
   "execution_count": 11,
   "metadata": {},
   "outputs": [
    {
     "name": "stdout",
     "output_type": "stream",
     "text": [
      "RMSE :  1.3567424221273543\n"
     ]
    },
    {
     "data": {
      "image/png": "[encoded data removed]",
      "text/plain": [
       "<Figure size 576x576 with 1 Axes>"
      ]
     },
     "metadata": {
      "needs_background": "light"
     },
     "output_type": "display_data"
    }
   ],
   "source": [
    "pred_y_encoded = model.predict([test_x_user, test_x_item]).reshape(-1,1)\n",
    "pred_y = pred_y_encoded.reshape(-1,5,).argmax(axis=1)\n",
    "\n",
    "print('RMSE : ', model.score(test_y, pred_y))\n",
    "scatter(test_y, pred_y)"
   ]
  },
  {
   "cell_type": "markdown",
   "metadata": {},
   "source": [
    "##### 3_b) one-hot encoding with smoothing"
   ]
  },
  {
   "cell_type": "code",
   "execution_count": 12,
   "metadata": {},
   "outputs": [],
   "source": [
    "model = DNNModel_onehot(num_of_users, num_of_items, num_of_factors)\n",
    "model.compile(\n",
    "    loss='mse',\n",
    "    optimizer=tf.keras.optimizers.Adam(),\n",
    ")\n",
    "#model.summary()"
   ]
  },
  {
   "cell_type": "code",
   "execution_count": 13,
   "metadata": {},
   "outputs": [
    {
     "name": "stdout",
     "output_type": "stream",
     "text": [
      "Train on 80000 samples, validate on 20000 samples\n",
      "Epoch 1/1000\n",
      "80000/80000 [==============================] - 2s 22us/sample - loss: 0.0583 - val_loss: 0.0540\n",
      "Epoch 2/1000\n",
      "80000/80000 [==============================] - 1s 13us/sample - loss: 0.0523 - val_loss: 0.0527\n",
      "Epoch 3/1000\n",
      "80000/80000 [==============================] - 1s 14us/sample - loss: 0.0509 - val_loss: 0.0524\n",
      "Epoch 4/1000\n",
      "80000/80000 [==============================] - 1s 18us/sample - loss: 0.0501 - val_loss: 0.0523\n",
      "Epoch 5/1000\n",
      "80000/80000 [==============================] - 1s 12us/sample - loss: 0.0494 - val_loss: 0.0522\n",
      "Epoch 6/1000\n",
      "80000/80000 [==============================] - 1s 12us/sample - loss: 0.0487 - val_loss: 0.0522\n",
      "Epoch 7/1000\n",
      "80000/80000 [==============================] - 1s 12us/sample - loss: 0.0479 - val_loss: 0.0523\n",
      "Epoch 8/1000\n",
      "80000/80000 [==============================] - 1s 12us/sample - loss: 0.0470 - val_loss: 0.0526\n",
      "Epoch 9/1000\n",
      "80000/80000 [==============================] - 1s 12us/sample - loss: 0.0459 - val_loss: 0.0527\n",
      "Epoch 10/1000\n",
      "80000/80000 [==============================] - 1s 12us/sample - loss: 0.0443 - val_loss: 0.0533\n"
     ]
    }
   ],
   "source": [
    "callbacks = [\n",
    "    tf.keras.callbacks.EarlyStopping('val_loss', patience=5),\n",
    "]\n",
    "result = model.fit(\n",
    "    [train_x_user, train_x_item], train_y_encoded_smoothing,\n",
    "    batch_size = 512,\n",
    "    epochs = 1000,\n",
    "    shuffle = True,\n",
    "    verbose = True,\n",
    "    validation_data = ([test_x_user, test_x_item], test_y_encoded_smoothing),\n",
    "    callbacks = callbacks,\n",
    ")\n",
    "\n",
    "model.save_weights('weights_DNN_onehot_smoothing.h5')"
   ]
  },
  {
   "cell_type": "code",
   "execution_count": 14,
   "metadata": {},
   "outputs": [
    {
     "name": "stdout",
     "output_type": "stream",
     "text": [
      "RMSE :  1.4007141035914503\n"
     ]
    },
    {
     "data": {
      "image/png": "[encoded data removed]",
      "text/plain": [
       "<Figure size 576x576 with 1 Axes>"
      ]
     },
     "metadata": {
      "needs_background": "light"
     },
     "output_type": "display_data"
    }
   ],
   "source": [
    "pred_y_encoded = model.predict([test_x_user, test_x_item]).reshape(-1,1)\n",
    "pred_y = pred_y_encoded.reshape(-1,5,).argmax(axis=1)\n",
    "\n",
    "print('RMSE : ', model.score(test_y, pred_y))\n",
    "scatter(test_y, pred_y)"
   ]
  },
  {
   "cell_type": "code",
   "execution_count": null,
   "metadata": {},
   "outputs": [],
   "source": []
  },
  {
   "cell_type": "markdown",
   "metadata": {},
   "source": [
    "##### 3_c) one-hot encoding - ce"
   ]
  },
  {
   "cell_type": "code",
   "execution_count": 15,
   "metadata": {},
   "outputs": [],
   "source": [
    "model = DNNModel_onehot(num_of_users, num_of_items, num_of_factors)\n",
    "model.compile(\n",
    "    loss='binary_crossentropy',\n",
    "    optimizer=tf.keras.optimizers.Adam(),\n",
    ")\n",
    "#model.summary()"
   ]
  },
  {
   "cell_type": "code",
   "execution_count": 16,
   "metadata": {},
   "outputs": [
    {
     "name": "stdout",
     "output_type": "stream",
     "text": [
      "Train on 80000 samples, validate on 20000 samples\n",
      "Epoch 1/1000\n",
      "80000/80000 [==============================] - 2s 22us/sample - loss: 0.4423 - val_loss: 0.4159\n",
      "Epoch 2/1000\n",
      "80000/80000 [==============================] - 1s 12us/sample - loss: 0.4082 - val_loss: 0.4096\n",
      "Epoch 3/1000\n",
      "80000/80000 [==============================] - 1s 12us/sample - loss: 0.3997 - val_loss: 0.4086\n",
      "Epoch 4/1000\n",
      "80000/80000 [==============================] - 1s 12us/sample - loss: 0.3941 - val_loss: 0.4095\n",
      "Epoch 5/1000\n",
      "80000/80000 [==============================] - 1s 12us/sample - loss: 0.3893 - val_loss: 0.4093\n",
      "Epoch 6/1000\n",
      "80000/80000 [==============================] - 1s 12us/sample - loss: 0.3847 - val_loss: 0.4104\n",
      "Epoch 7/1000\n",
      "80000/80000 [==============================] - 1s 12us/sample - loss: 0.3796 - val_loss: 0.4135\n",
      "Epoch 8/1000\n",
      "80000/80000 [==============================] - 1s 12us/sample - loss: 0.3741 - val_loss: 0.4151\n"
     ]
    }
   ],
   "source": [
    "callbacks = [\n",
    "    tf.keras.callbacks.EarlyStopping('val_loss', patience=5),\n",
    "]\n",
    "result = model.fit(\n",
    "    [train_x_user, train_x_item], train_y_encoded,\n",
    "    batch_size = 512,\n",
    "    epochs = 1000,\n",
    "    shuffle = True,\n",
    "    verbose = True,\n",
    "    validation_data = ([test_x_user, test_x_item], test_y_encoded),\n",
    "    callbacks = callbacks,\n",
    ")\n",
    "\n",
    "model.save_weights('weights_DNN_onehot_ce.h5')"
   ]
  },
  {
   "cell_type": "code",
   "execution_count": 17,
   "metadata": {},
   "outputs": [
    {
     "name": "stdout",
     "output_type": "stream",
     "text": [
      "RMSE :  1.3840700849306729\n"
     ]
    },
    {
     "data": {
      "image/png": "[encoded data removed]",
      "text/plain": [
       "<Figure size 576x576 with 1 Axes>"
      ]
     },
     "metadata": {
      "needs_background": "light"
     },
     "output_type": "display_data"
    }
   ],
   "source": [
    "pred_y_encoded = model.predict([test_x_user, test_x_item]).reshape(-1,1)\n",
    "pred_y = pred_y_encoded.reshape(-1,5,).argmax(axis=1)\n",
    "\n",
    "print('RMSE : ', model.score(test_y, pred_y))\n",
    "scatter(test_y, pred_y)"
   ]
  },
  {
   "cell_type": "markdown",
   "metadata": {},
   "source": [
    "##### 3_d) one-hot encoding with smoothing - ce"
   ]
  },
  {
   "cell_type": "code",
   "execution_count": 18,
   "metadata": {},
   "outputs": [],
   "source": [
    "model = DNNModel_onehot(num_of_users, num_of_items, num_of_factors)\n",
    "model.compile(\n",
    "    loss='binary_crossentropy',\n",
    "    optimizer=tf.keras.optimizers.Adam(),\n",
    ")\n",
    "#model.summary()"
   ]
  },
  {
   "cell_type": "code",
   "execution_count": 19,
   "metadata": {},
   "outputs": [
    {
     "name": "stdout",
     "output_type": "stream",
     "text": [
      "Train on 80000 samples, validate on 20000 samples\n",
      "Epoch 1/1000\n",
      "80000/80000 [==============================] - 2s 24us/sample - loss: 0.4529 - val_loss: 0.4370\n",
      "Epoch 2/1000\n",
      "80000/80000 [==============================] - 1s 12us/sample - loss: 0.4335 - val_loss: 0.4327\n",
      "Epoch 3/1000\n",
      "80000/80000 [==============================] - 1s 12us/sample - loss: 0.4285 - val_loss: 0.4314\n",
      "Epoch 4/1000\n",
      "80000/80000 [==============================] - 1s 13us/sample - loss: 0.4253 - val_loss: 0.4313\n",
      "Epoch 5/1000\n",
      "80000/80000 [==============================] - 1s 12us/sample - loss: 0.4225 - val_loss: 0.4310\n",
      "Epoch 6/1000\n",
      "80000/80000 [==============================] - 1s 12us/sample - loss: 0.4194 - val_loss: 0.4312\n",
      "Epoch 7/1000\n",
      "80000/80000 [==============================] - 1s 12us/sample - loss: 0.4155 - val_loss: 0.4314\n",
      "Epoch 8/1000\n",
      "80000/80000 [==============================] - 1s 12us/sample - loss: 0.4103 - val_loss: 0.4338\n",
      "Epoch 9/1000\n",
      "80000/80000 [==============================] - 1s 12us/sample - loss: 0.4029 - val_loss: 0.4373\n",
      "Epoch 10/1000\n",
      "80000/80000 [==============================] - 1s 12us/sample - loss: 0.3926 - val_loss: 0.4445\n"
     ]
    }
   ],
   "source": [
    "callbacks = [\n",
    "    tf.keras.callbacks.EarlyStopping('val_loss', patience=5),\n",
    "]\n",
    "result = model.fit(\n",
    "    [train_x_user, train_x_item], train_y_encoded_smoothing,\n",
    "    batch_size = 512,\n",
    "    epochs = 1000,\n",
    "    shuffle = True,\n",
    "    verbose = True,\n",
    "    validation_data = ([test_x_user, test_x_item], test_y_encoded_smoothing),\n",
    "    callbacks = callbacks,\n",
    ")\n",
    "\n",
    "model.save_weights('weights_DNN_onehot_smoothing_ce.h5')"
   ]
  },
  {
   "cell_type": "code",
   "execution_count": 20,
   "metadata": {},
   "outputs": [
    {
     "name": "stdout",
     "output_type": "stream",
     "text": [
      "RMSE :  1.4425844862606834\n"
     ]
    },
    {
     "data": {
      "image/png": "[encoded data removed]",
      "text/plain": [
       "<Figure size 576x576 with 1 Axes>"
      ]
     },
     "metadata": {
      "needs_background": "light"
     },
     "output_type": "display_data"
    }
   ],
   "source": [
    "pred_y_encoded = model.predict([test_x_user, test_x_item]).reshape(-1,1)\n",
    "pred_y = pred_y_encoded.reshape(-1,5,).argmax(axis=1)\n",
    "\n",
    "print('RMSE : ', model.score(test_y, pred_y))\n",
    "scatter(test_y, pred_y)"
   ]
  },
  {
   "cell_type": "code",
   "execution_count": null,
   "metadata": {},
   "outputs": [],
   "source": []
  },
  {
   "cell_type": "code",
   "execution_count": null,
   "metadata": {},
   "outputs": [],
   "source": []
  }
 ],
 "metadata": {
  "kernelspec": {
   "display_name": "Python [conda env:tf2] *",
   "language": "python",
   "name": "conda-env-tf2-py"
  },
  "language_info": {
   "codemirror_mode": {
    "name": "ipython",
    "version": 3
   },
   "file_extension": ".py",
   "mimetype": "text/x-python",
   "name": "python",
   "nbconvert_exporter": "python",
   "pygments_lexer": "ipython3",
   "version": "3.7.7"
  }
 },
 "nbformat": 4,
 "nbformat_minor": 4
}
