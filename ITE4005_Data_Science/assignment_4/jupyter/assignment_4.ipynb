{
 "cells": [
  {
   "cell_type": "markdown",
   "metadata": {},
   "source": [
    "# Import libraries"
   ]
  },
  {
   "cell_type": "code",
   "execution_count": 1,
   "metadata": {},
   "outputs": [
    {
     "name": "stderr",
     "output_type": "stream",
     "text": [
      "Using TensorFlow backend.\n"
     ]
    }
   ],
   "source": [
    "import tensorflow as tf\n",
    "import keras\n",
    "from tensorflow.keras.models import Model, Sequential\n",
    "from tensorflow.keras.layers import Input, Dense, Dropout, Embedding, Reshape, Concatenate, Dot\n",
    "\n",
    "import math\n",
    "import numpy as np\n",
    "import pandas as pd\n",
    "\n",
    "import seaborn as sns\n",
    "import matplotlib.pyplot as plt\n",
    "import matplotlib.patheffects as PathEffects\n"
   ]
  },
  {
   "cell_type": "markdown",
   "metadata": {},
   "source": [
    "# Load Dataset"
   ]
  },
  {
   "cell_type": "code",
   "execution_count": 2,
   "metadata": {},
   "outputs": [],
   "source": [
    "def load_dataset(dataset_id = 1):\n",
    "    filename_train = '../data/train/u'+str(dataset_id)+'.base'\n",
    "    filename_test = '../data/train/u'+str(dataset_id)+'.test'\n",
    "    dataset_train_df = pd.read_csv(filename_train, names=['user_id','movie_id','rating','time_stamp'], header=None, delimiter='\\t')\n",
    "    dataset_test_df = pd.read_csv(filename_test, names=['user_id','movie_id','rating','time_stamp'], header=None, delimiter='\\t')\n",
    "    # dataset = dataset_df.to_dict('records')\n",
    "    return dataset_train_df, dataset_test_df  \n",
    "   "
   ]
  },
  {
   "cell_type": "code",
   "execution_count": 3,
   "metadata": {},
   "outputs": [],
   "source": [
    "def one_hot_encoding(labels):\n",
    "    encodeds = [\n",
    "        [1., .0, .0, .0, .0],\n",
    "        [.0, 1., .0, .0, .0],\n",
    "        [.0, .0, 1., .0, .0],\n",
    "        [.0, .0, .0, 1., .0],\n",
    "        [.0, .0, .0, .0, 1.],\n",
    "    ]\n",
    "    labels_encoded = np.array([encodeds[int(label)-1] for label in labels])\n",
    "    return labels_encoded"
   ]
  },
  {
   "cell_type": "code",
   "execution_count": 4,
   "metadata": {},
   "outputs": [],
   "source": [
    "def one_hot_encoding_smoothing(labels):\n",
    "    encodeds = [\n",
    "        [.75, .25, .0, .0, .0],\n",
    "        [.15, .7, .15, .0, .0],\n",
    "        [.0, .15, .7, .15, .0],\n",
    "        [.0, .0, .15, .7, .15],\n",
    "        [.0, .0, .0, .25, .75],\n",
    "    ]\n",
    "    labels_encoded = np.array([encodeds[int(label)-1] for label in labels])\n",
    "    return labels_encoded"
   ]
  },
  {
   "cell_type": "code",
   "execution_count": 5,
   "metadata": {},
   "outputs": [],
   "source": [
    "dataset_train_df, dataset_test_df = load_dataset(dataset_id=1)\n",
    "\n",
    "train_x_user = dataset_train_df['user_id'].values\n",
    "train_x_item = dataset_train_df['movie_id'].values\n",
    "train_y = dataset_train_df['rating'].values\n",
    "train_y_encoded = one_hot_encoding(train_y)\n",
    "train_y_encoded_smoothing = one_hot_encoding_smoothing(train_y)\n",
    "\n",
    "test_x_user = dataset_test_df['user_id'].values\n",
    "test_x_item = dataset_test_df['movie_id'].values\n",
    "test_y = dataset_test_df['rating'].values\n",
    "test_y_encoded = one_hot_encoding(test_y)\n",
    "test_y_encoded_smoothing = one_hot_encoding_smoothing(test_y)\n",
    "\n",
    "num_of_users = dataset_train_df['user_id'].max() + 1\n",
    "num_of_items = dataset_train_df['movie_id'].max() + 1\n",
    "num_of_factors = 100"
   ]
  },
  {
   "cell_type": "markdown",
   "metadata": {},
   "source": [
    "# Scatter results"
   ]
  },
  {
   "cell_type": "code",
   "execution_count": 6,
   "metadata": {},
   "outputs": [],
   "source": [
    "# Define our own plot function\n",
    "def scatter(y, pred_y, subtitle='result.png'):\n",
    "    # We create a scatter plot.\n",
    "    f = plt.figure(figsize=(8, 8))\n",
    "    ax = plt.subplot(aspect='equal')\n",
    "    \n",
    "    \n",
    "    sc = ax.scatter(y, pred_y, lw=0, s=40)\n",
    "    plt.xlim(-2, 7)\n",
    "    plt.ylim(-2, 7)\n",
    "    if subtitle != None:\n",
    "        plt.suptitle(subtitle)\n",
    "        \n",
    "    plt.savefig(subtitle)\n",
    "    "
   ]
  },
  {
   "cell_type": "markdown",
   "metadata": {},
   "source": [
    "# Make CFModel (Collaborative-Filtering Model)"
   ]
  },
  {
   "cell_type": "markdown",
   "metadata": {},
   "source": [
    "### 1) model #1 - embedded vector"
   ]
  },
  {
   "cell_type": "markdown",
   "metadata": {},
   "source": [
    "##### - build model"
   ]
  },
  {
   "cell_type": "code",
   "execution_count": 7,
   "metadata": {},
   "outputs": [],
   "source": [
    "class CFModel(Model):\n",
    "    def __init__(self, num_of_users, num_of_items, num_of_factors):\n",
    "        # input_user_id\n",
    "        model_Embedding_user_id = Sequential([\n",
    "            Embedding(num_of_users, num_of_factors, input_length=1, input_shape=(1,)),\n",
    "            Reshape((num_of_factors,)),\n",
    "        ])\n",
    "        # input_item_id\n",
    "        model_Embedding_item_id = Sequential([\n",
    "            Embedding(num_of_items, num_of_factors, input_length=1, input_shape=(1,)),\n",
    "            Reshape((num_of_factors,))\n",
    "        ])\n",
    "    \n",
    "        # create base network\n",
    "        input_user_id = Input((1,), name='input_user_id')\n",
    "        input_item_id = Input((1,), name='input_item_id')\n",
    "        embedded_user_id = model_Embedding_user_id(input_user_id)\n",
    "        embedded_item_id = model_Embedding_item_id(input_item_id)\n",
    "    \n",
    "        output_label = Dot(axes=1)([embedded_user_id, embedded_item_id])\n",
    "        \n",
    "        super(CFModel, self).__init__(\n",
    "            inputs=[input_user_id, input_item_id], \n",
    "            outputs=output_label\n",
    "        )\n",
    "        \n",
    "    def score(self, y, pred_y):\n",
    "        return np.sqrt( np.sum(np.square(pred_y.reshape(-1, 1) - y.reshape(-1,1))) / len(y) )\n",
    "    "
   ]
  },
  {
   "cell_type": "code",
   "execution_count": 8,
   "metadata": {},
   "outputs": [
    {
     "name": "stdout",
     "output_type": "stream",
     "text": [
      "Model: \"cf_model\"\n",
      "__________________________________________________________________________________________________\n",
      "Layer (type)                    Output Shape         Param #     Connected to                     \n",
      "==================================================================================================\n",
      "input_user_id (InputLayer)      [(None, 1)]          0                                            \n",
      "__________________________________________________________________________________________________\n",
      "input_item_id (InputLayer)      [(None, 1)]          0                                            \n",
      "__________________________________________________________________________________________________\n",
      "sequential (Sequential)         (None, 100)          94400       input_user_id[0][0]              \n",
      "__________________________________________________________________________________________________\n",
      "sequential_1 (Sequential)       (None, 100)          168300      input_item_id[0][0]              \n",
      "__________________________________________________________________________________________________\n",
      "dot (Dot)                       (None, 1)            0           sequential[1][0]                 \n",
      "                                                                 sequential_1[1][0]               \n",
      "==================================================================================================\n",
      "Total params: 262,700\n",
      "Trainable params: 262,700\n",
      "Non-trainable params: 0\n",
      "__________________________________________________________________________________________________\n"
     ]
    }
   ],
   "source": [
    "model = CFModel(num_of_users, num_of_items, num_of_factors)\n",
    "model.compile(\n",
    "    loss='mse',\n",
    "    optimizer=tf.keras.optimizers.Adam(),\n",
    ")\n",
    "model.summary()"
   ]
  },
  {
   "cell_type": "markdown",
   "metadata": {},
   "source": [
    "##### - train model"
   ]
  },
  {
   "cell_type": "code",
   "execution_count": 9,
   "metadata": {},
   "outputs": [
    {
     "name": "stdout",
     "output_type": "stream",
     "text": [
      "Train on 80000 samples, validate on 20000 samples\n",
      "Epoch 1/1000\n",
      "80000/80000 [==============================] - 2s 26us/sample - loss: 13.6099 - val_loss: 13.3095\n",
      "Epoch 2/1000\n",
      "80000/80000 [==============================] - 1s 10us/sample - loss: 8.4357 - val_loss: 3.6623\n",
      "Epoch 3/1000\n",
      "80000/80000 [==============================] - 1s 10us/sample - loss: 1.7424 - val_loss: 1.3898\n",
      "Epoch 4/1000\n",
      "80000/80000 [==============================] - 1s 10us/sample - loss: 1.0542 - val_loss: 1.0815\n",
      "Epoch 5/1000\n",
      "80000/80000 [==============================] - 1s 10us/sample - loss: 0.9226 - val_loss: 0.9913\n",
      "Epoch 6/1000\n",
      "80000/80000 [==============================] - 1s 11us/sample - loss: 0.8732 - val_loss: 0.9533\n",
      "Epoch 7/1000\n",
      "80000/80000 [==============================] - 1s 10us/sample - loss: 0.8436 - val_loss: 0.9321\n",
      "Epoch 8/1000\n",
      "80000/80000 [==============================] - 1s 10us/sample - loss: 0.8220 - val_loss: 0.9166\n",
      "Epoch 9/1000\n",
      "80000/80000 [==============================] - 1s 10us/sample - loss: 0.7998 - val_loss: 0.9065\n",
      "Epoch 10/1000\n",
      "80000/80000 [==============================] - 1s 11us/sample - loss: 0.7779 - val_loss: 0.8954\n",
      "Epoch 11/1000\n",
      "80000/80000 [==============================] - 1s 10us/sample - loss: 0.7557 - val_loss: 0.8878\n",
      "Epoch 12/1000\n",
      "80000/80000 [==============================] - 1s 10us/sample - loss: 0.7317 - val_loss: 0.8791\n",
      "Epoch 13/1000\n",
      "80000/80000 [==============================] - 1s 11us/sample - loss: 0.7071 - val_loss: 0.8737\n",
      "Epoch 14/1000\n",
      "80000/80000 [==============================] - 1s 10us/sample - loss: 0.6821 - val_loss: 0.8670\n",
      "Epoch 15/1000\n",
      "80000/80000 [==============================] - 1s 10us/sample - loss: 0.6554 - val_loss: 0.8654\n",
      "Epoch 16/1000\n",
      "80000/80000 [==============================] - 1s 10us/sample - loss: 0.6276 - val_loss: 0.8620\n",
      "Epoch 17/1000\n",
      "80000/80000 [==============================] - 1s 11us/sample - loss: 0.5992 - val_loss: 0.8585\n",
      "Epoch 18/1000\n",
      "80000/80000 [==============================] - 1s 10us/sample - loss: 0.5704 - val_loss: 0.8567\n",
      "Epoch 19/1000\n",
      "80000/80000 [==============================] - 1s 12us/sample - loss: 0.5413 - val_loss: 0.8556\n",
      "Epoch 20/1000\n",
      "80000/80000 [==============================] - 1s 11us/sample - loss: 0.5118 - val_loss: 0.8566\n",
      "Epoch 21/1000\n",
      "80000/80000 [==============================] - 1s 11us/sample - loss: 0.4827 - val_loss: 0.8600\n",
      "Epoch 22/1000\n",
      "80000/80000 [==============================] - 1s 10us/sample - loss: 0.4544 - val_loss: 0.8614\n",
      "Epoch 23/1000\n",
      "80000/80000 [==============================] - 1s 10us/sample - loss: 0.4256 - val_loss: 0.8666\n",
      "Epoch 24/1000\n",
      "80000/80000 [==============================] - 1s 11us/sample - loss: 0.3977 - val_loss: 0.8697\n"
     ]
    }
   ],
   "source": [
    "callbacks = [\n",
    "    tf.keras.callbacks.EarlyStopping('val_loss', patience=5),\n",
    "]\n",
    "result = model.fit(\n",
    "    [train_x_user, train_x_item], train_y,\n",
    "    batch_size = 512,\n",
    "    epochs = 1000,\n",
    "    shuffle = True,\n",
    "    verbose = True,\n",
    "    validation_data = ([test_x_user, test_x_item], test_y),\n",
    "    callbacks = callbacks,\n",
    ")\n",
    "\n",
    "model.save_weights('weights_CF.h5')"
   ]
  },
  {
   "cell_type": "markdown",
   "metadata": {},
   "source": [
    "##### - get results"
   ]
  },
  {
   "cell_type": "code",
   "execution_count": 10,
   "metadata": {},
   "outputs": [
    {
     "name": "stdout",
     "output_type": "stream",
     "text": [
      "RMSE :  0.9325827305846177\n"
     ]
    },
    {
     "data": {
      "image/png": "[encoded data removed]",
      "text/plain": [
       "<Figure size 576x576 with 1 Axes>"
      ]
     },
     "metadata": {
      "needs_background": "light"
     },
     "output_type": "display_data"
    }
   ],
   "source": [
    "pred_y = model.predict([test_x_user, test_x_item]).reshape(-1,1)\n",
    "\n",
    "print('RMSE : ', model.score(test_y, pred_y))\n",
    "scatter(test_y, pred_y)"
   ]
  },
  {
   "cell_type": "code",
   "execution_count": null,
   "metadata": {},
   "outputs": [],
   "source": []
  },
  {
   "cell_type": "markdown",
   "metadata": {},
   "source": [
    "### 2) model #2 - DNN with label encoding"
   ]
  },
  {
   "cell_type": "markdown",
   "metadata": {},
   "source": [
    "##### - build model"
   ]
  },
  {
   "cell_type": "code",
   "execution_count": 22,
   "metadata": {},
   "outputs": [],
   "source": [
    "class DNNModel_label(Model):\n",
    "    def __init__(self, num_of_users, num_of_items, num_of_factors):\n",
    "        \n",
    "        # tensor_0 : input\n",
    "        input_user_id = Input((1,), name='input_user_id')\n",
    "        input_item_id = Input((1,), name='input_item_id')\n",
    "        \n",
    "        # model_0 : embedding inpput\n",
    "        model_Embedding_user_id = Sequential([\n",
    "            Embedding(num_of_users, num_of_factors, input_length=1, input_shape=(1,)),\n",
    "            Reshape((num_of_factors,)),\n",
    "        ])\n",
    "        model_Embedding_item_id = Sequential([\n",
    "            Embedding(num_of_items, num_of_factors, input_length=1, input_shape=(1,)),\n",
    "            Reshape((num_of_factors,)),\n",
    "        ])\n",
    "        \n",
    "        # tensor_1 : embedded input\n",
    "        embedded_user_id = model_Embedding_user_id(input_user_id)\n",
    "        embedded_item_id = model_Embedding_item_id(input_item_id)\n",
    "        \n",
    "        # tensor_2 : embedded vector\n",
    "        embedded_vector = Concatenate(axis=-1)([embedded_user_id, embedded_item_id])\n",
    "        \n",
    "        # model_2 : DNN\n",
    "        p_dropout=0.1\n",
    "        model_DNN = Sequential([\n",
    "            Dropout(p_dropout),\n",
    "            Dense(num_of_factors * 2, activation='relu'),\n",
    "            Dropout(p_dropout),\n",
    "            Dense(20, activation='relu'),\n",
    "            Dropout(p_dropout),\n",
    "            Dense(1, activation='linear')\n",
    "        ])    \n",
    "        \n",
    "        # tensor_3 : output_label\n",
    "        output_label = model_DNN(embedded_vector)\n",
    "        \n",
    "        super(DNNModel_label, self).__init__(\n",
    "            inputs=[input_user_id, input_item_id], \n",
    "            outputs=output_label\n",
    "        )\n",
    "    \n",
    "    def score(self, y, pred_y):\n",
    "        return np.sqrt( np.sum(np.square(pred_y.reshape(-1, 1) - y.reshape(-1,1))) / len(y) )\n",
    "        "
   ]
  },
  {
   "cell_type": "code",
   "execution_count": 23,
   "metadata": {},
   "outputs": [
    {
     "name": "stdout",
     "output_type": "stream",
     "text": [
      "Model: \"dnn_model_label_1\"\n",
      "__________________________________________________________________________________________________\n",
      "Layer (type)                    Output Shape         Param #     Connected to                     \n",
      "==================================================================================================\n",
      "input_user_id (InputLayer)      [(None, 1)]          0                                            \n",
      "__________________________________________________________________________________________________\n",
      "input_item_id (InputLayer)      [(None, 1)]          0                                            \n",
      "__________________________________________________________________________________________________\n",
      "sequential_11 (Sequential)      (None, 100)          94400       input_user_id[0][0]              \n",
      "__________________________________________________________________________________________________\n",
      "sequential_12 (Sequential)      (None, 100)          168300      input_item_id[0][0]              \n",
      "__________________________________________________________________________________________________\n",
      "concatenate_3 (Concatenate)     (None, 200)          0           sequential_11[1][0]              \n",
      "                                                                 sequential_12[1][0]              \n",
      "__________________________________________________________________________________________________\n",
      "sequential_13 (Sequential)      (None, 1)            44241       concatenate_3[0][0]              \n",
      "==================================================================================================\n",
      "Total params: 306,941\n",
      "Trainable params: 306,941\n",
      "Non-trainable params: 0\n",
      "__________________________________________________________________________________________________\n"
     ]
    }
   ],
   "source": [
    "model = DNNModel_label(num_of_users, num_of_items, num_of_factors)\n",
    "model.compile(\n",
    "    loss='mse',\n",
    "    optimizer=tf.keras.optimizers.Adam(),\n",
    ")\n",
    "model.summary()"
   ]
  },
  {
   "cell_type": "markdown",
   "metadata": {},
   "source": [
    "##### - train model"
   ]
  },
  {
   "cell_type": "code",
   "execution_count": 24,
   "metadata": {},
   "outputs": [
    {
     "name": "stdout",
     "output_type": "stream",
     "text": [
      "Train on 80000 samples, validate on 20000 samples\n",
      "Epoch 1/1000\n",
      "80000/80000 [==============================] - 2s 22us/sample - loss: 2.8631 - val_loss: 0.9651\n",
      "Epoch 2/1000\n",
      "80000/80000 [==============================] - 1s 12us/sample - loss: 1.0567 - val_loss: 0.9448\n",
      "Epoch 3/1000\n",
      "80000/80000 [==============================] - 1s 11us/sample - loss: 1.0235 - val_loss: 0.9260\n",
      "Epoch 4/1000\n",
      "80000/80000 [==============================] - 1s 11us/sample - loss: 0.9953 - val_loss: 0.9189\n",
      "Epoch 5/1000\n",
      "80000/80000 [==============================] - 1s 11us/sample - loss: 0.9827 - val_loss: 0.9264\n",
      "Epoch 6/1000\n",
      "80000/80000 [==============================] - 1s 12us/sample - loss: 0.9682 - val_loss: 0.9043\n",
      "Epoch 7/1000\n",
      "80000/80000 [==============================] - 1s 12us/sample - loss: 0.9539 - val_loss: 0.8937\n",
      "Epoch 8/1000\n",
      "80000/80000 [==============================] - 1s 12us/sample - loss: 0.9299 - val_loss: 0.8916\n",
      "Epoch 9/1000\n",
      "80000/80000 [==============================] - 1s 12us/sample - loss: 0.9132 - val_loss: 0.8917\n",
      "Epoch 10/1000\n",
      "80000/80000 [==============================] - 1s 11us/sample - loss: 0.8980 - val_loss: 0.8897\n",
      "Epoch 11/1000\n",
      "80000/80000 [==============================] - 1s 11us/sample - loss: 0.8858 - val_loss: 0.8911\n",
      "Epoch 12/1000\n",
      "80000/80000 [==============================] - 1s 11us/sample - loss: 0.8629 - val_loss: 0.8860\n",
      "Epoch 13/1000\n",
      "80000/80000 [==============================] - 1s 12us/sample - loss: 0.8386 - val_loss: 0.8820\n",
      "Epoch 14/1000\n",
      "80000/80000 [==============================] - 1s 11us/sample - loss: 0.8152 - val_loss: 0.8870\n",
      "Epoch 15/1000\n",
      "80000/80000 [==============================] - 1s 11us/sample - loss: 0.7953 - val_loss: 0.8881\n",
      "Epoch 16/1000\n",
      "80000/80000 [==============================] - 1s 11us/sample - loss: 0.7677 - val_loss: 0.9086\n",
      "Epoch 17/1000\n",
      "80000/80000 [==============================] - 1s 12us/sample - loss: 0.7453 - val_loss: 0.9066\n",
      "Epoch 18/1000\n",
      "80000/80000 [==============================] - 1s 12us/sample - loss: 0.7179 - val_loss: 0.9091\n"
     ]
    }
   ],
   "source": [
    "callbacks = [\n",
    "    tf.keras.callbacks.EarlyStopping('val_loss', patience=5),\n",
    "]\n",
    "result = model.fit(\n",
    "    [train_x_user, train_x_item], train_y,\n",
    "    batch_size = 512,\n",
    "    epochs = 1000,\n",
    "    shuffle = True,\n",
    "    verbose = True,\n",
    "    validation_data = ([test_x_user, test_x_item], test_y),\n",
    "    callbacks = callbacks,\n",
    ")\n",
    "\n",
    "model.save_weights('weights_DNN_label.h5')"
   ]
  },
  {
   "cell_type": "markdown",
   "metadata": {},
   "source": [
    "##### - get results"
   ]
  },
  {
   "cell_type": "code",
   "execution_count": 25,
   "metadata": {},
   "outputs": [
    {
     "name": "stdout",
     "output_type": "stream",
     "text": [
      "RMSE :  0.9534538186515148\n"
     ]
    },
    {
     "data": {
      "image/png": "[encoded data removed]",
      "text/plain": [
       "<Figure size 576x576 with 1 Axes>"
      ]
     },
     "metadata": {
      "needs_background": "light"
     },
     "output_type": "display_data"
    }
   ],
   "source": [
    "pred_y = model.predict([test_x_user, test_x_item]).reshape(-1,1)\n",
    "\n",
    "print('RMSE : ', model.score(test_y, pred_y))\n",
    "scatter(test_y, pred_y)"
   ]
  },
  {
   "cell_type": "code",
   "execution_count": null,
   "metadata": {},
   "outputs": [],
   "source": []
  },
  {
   "cell_type": "markdown",
   "metadata": {},
   "source": [
    "### 3) model #3 - DNN with one-hot encoding"
   ]
  },
  {
   "cell_type": "markdown",
   "metadata": {},
   "source": [
    "##### - build model"
   ]
  },
  {
   "cell_type": "code",
   "execution_count": 15,
   "metadata": {},
   "outputs": [],
   "source": [
    "class DNNModel_onehot(Model):\n",
    "    def __init__(self, num_of_users, num_of_items, num_of_factors):\n",
    "        \n",
    "        # tensor_0 : input\n",
    "        input_user_id = Input((1,), name='input_user_id')\n",
    "        input_item_id = Input((1,), name='input_item_id')\n",
    "        \n",
    "        # model_0 : embedding inpput\n",
    "        model_Embedding_user_id = Sequential([\n",
    "            Embedding(num_of_users, num_of_factors, input_length=1, input_shape=(1,)),\n",
    "            Reshape((num_of_factors,)),\n",
    "        ])\n",
    "        model_Embedding_item_id = Sequential([\n",
    "            Embedding(num_of_items, num_of_factors, input_length=1, input_shape=(1,)),\n",
    "            Reshape((num_of_factors,)),\n",
    "        ])\n",
    "        \n",
    "        # tensor_1 : embedded input\n",
    "        embedded_user_id = model_Embedding_user_id(input_user_id)\n",
    "        embedded_item_id = model_Embedding_item_id(input_item_id)\n",
    "        \n",
    "        # tensor_2 : embedded vector\n",
    "        embedded_vector = Concatenate(axis=-1)([embedded_user_id, embedded_item_id])\n",
    "        \n",
    "        # model_2 : DNN\n",
    "        p_dropout=0.1\n",
    "        model_DNN = Sequential([\n",
    "            Dropout(p_dropout),\n",
    "            Dense(num_of_factors * 2, activation='relu'),\n",
    "            Dropout(p_dropout),\n",
    "            Dense(5, activation='softmax'),\n",
    "        ])    \n",
    "        \n",
    "        # tensor_3 : output_label\n",
    "        output_label = model_DNN(embedded_vector)\n",
    "        \n",
    "        super(DNNModel_onehot, self).__init__(\n",
    "            inputs=[input_user_id, input_item_id], \n",
    "            outputs=output_label\n",
    "        )\n",
    "\n",
    "    def score(self, y, pred_y):\n",
    "        return np.sqrt( np.sum(np.square(pred_y.reshape(-1, 1) - y.reshape(-1,1))) / len(y) )\n",
    "        "
   ]
  },
  {
   "cell_type": "markdown",
   "metadata": {},
   "source": [
    "### - train model and get results"
   ]
  },
  {
   "cell_type": "markdown",
   "metadata": {},
   "source": [
    "##### 3_a) one-hot encoding"
   ]
  },
  {
   "cell_type": "code",
   "execution_count": 16,
   "metadata": {},
   "outputs": [],
   "source": [
    "model = DNNModel_onehot(num_of_users, num_of_items, num_of_factors)\n",
    "model.compile(\n",
    "    loss='binary_crossentropy',\n",
    "    optimizer=tf.keras.optimizers.Adam(),\n",
    ")\n",
    "#model.summary()"
   ]
  },
  {
   "cell_type": "code",
   "execution_count": 17,
   "metadata": {},
   "outputs": [
    {
     "name": "stdout",
     "output_type": "stream",
     "text": [
      "Train on 80000 samples, validate on 20000 samples\n",
      "Epoch 1/1000\n",
      "80000/80000 [==============================] - 2s 23us/sample - loss: 0.4403 - val_loss: 0.4151\n",
      "Epoch 2/1000\n",
      "80000/80000 [==============================] - 1s 12us/sample - loss: 0.4055 - val_loss: 0.4106\n",
      "Epoch 3/1000\n",
      "80000/80000 [==============================] - 1s 12us/sample - loss: 0.3986 - val_loss: 0.4096\n",
      "Epoch 4/1000\n",
      "80000/80000 [==============================] - 1s 12us/sample - loss: 0.3935 - val_loss: 0.4095\n",
      "Epoch 5/1000\n",
      "80000/80000 [==============================] - 1s 13us/sample - loss: 0.3895 - val_loss: 0.4096\n",
      "Epoch 6/1000\n",
      "80000/80000 [==============================] - 1s 13us/sample - loss: 0.3859 - val_loss: 0.4109\n",
      "Epoch 7/1000\n",
      "80000/80000 [==============================] - 1s 14us/sample - loss: 0.3824 - val_loss: 0.4124\n",
      "Epoch 8/1000\n",
      "80000/80000 [==============================] - 1s 12us/sample - loss: 0.3791 - val_loss: 0.4124\n",
      "Epoch 9/1000\n",
      "80000/80000 [==============================] - 1s 12us/sample - loss: 0.3759 - val_loss: 0.4142\n"
     ]
    }
   ],
   "source": [
    "callbacks = [\n",
    "    tf.keras.callbacks.EarlyStopping('val_loss', patience=5),\n",
    "]\n",
    "result = model.fit(\n",
    "    [train_x_user, train_x_item], train_y_encoded,\n",
    "    batch_size = 512,\n",
    "    epochs = 1000,\n",
    "    shuffle = True,\n",
    "    verbose = True,\n",
    "    validation_data = ([test_x_user, test_x_item], test_y_encoded),\n",
    "    callbacks = callbacks,\n",
    ")\n",
    "\n",
    "model.save_weights('weights_DNN_onehot.h5')"
   ]
  },
  {
   "cell_type": "code",
   "execution_count": 18,
   "metadata": {},
   "outputs": [
    {
     "name": "stdout",
     "output_type": "stream",
     "text": [
      "RMSE :  1.3464026143765466\n"
     ]
    },
    {
     "data": {
      "image/png": "[encoded data removed]",
      "text/plain": [
       "<Figure size 576x576 with 1 Axes>"
      ]
     },
     "metadata": {
      "needs_background": "light"
     },
     "output_type": "display_data"
    }
   ],
   "source": [
    "pred_y_encoded = model.predict([test_x_user, test_x_item]).reshape(-1,1)\n",
    "pred_y = pred_y_encoded.reshape(-1,5,).argmax(axis=1)\n",
    "\n",
    "print('RMSE : ', model.score(test_y, pred_y))\n",
    "scatter(test_y, pred_y)"
   ]
  },
  {
   "cell_type": "markdown",
   "metadata": {},
   "source": [
    "##### 3_b) one-hot encoding with smoothing"
   ]
  },
  {
   "cell_type": "code",
   "execution_count": 19,
   "metadata": {},
   "outputs": [],
   "source": [
    "model = DNNModel_onehot(num_of_users, num_of_items, num_of_factors)\n",
    "model.compile(\n",
    "    loss='binary_crossentropy',\n",
    "    optimizer=tf.keras.optimizers.Adam(),\n",
    ")\n",
    "#model.summary()"
   ]
  },
  {
   "cell_type": "code",
   "execution_count": 20,
   "metadata": {},
   "outputs": [
    {
     "name": "stdout",
     "output_type": "stream",
     "text": [
      "Train on 80000 samples, validate on 20000 samples\n",
      "Epoch 1/1000\n",
      "80000/80000 [==============================] - 2s 21us/sample - loss: 0.4516 - val_loss: 0.4354\n",
      "Epoch 2/1000\n",
      "80000/80000 [==============================] - 1s 12us/sample - loss: 0.4315 - val_loss: 0.4329\n",
      "Epoch 3/1000\n",
      "80000/80000 [==============================] - 1s 12us/sample - loss: 0.4280 - val_loss: 0.4318\n",
      "Epoch 4/1000\n",
      "80000/80000 [==============================] - 1s 12us/sample - loss: 0.4254 - val_loss: 0.4314\n",
      "Epoch 5/1000\n",
      "80000/80000 [==============================] - 1s 11us/sample - loss: 0.4233 - val_loss: 0.4315\n",
      "Epoch 6/1000\n",
      "80000/80000 [==============================] - 1s 12us/sample - loss: 0.4214 - val_loss: 0.4313\n",
      "Epoch 7/1000\n",
      "80000/80000 [==============================] - 1s 12us/sample - loss: 0.4196 - val_loss: 0.4315\n",
      "Epoch 8/1000\n",
      "80000/80000 [==============================] - 1s 12us/sample - loss: 0.4178 - val_loss: 0.4313\n",
      "Epoch 9/1000\n",
      "80000/80000 [==============================] - 1s 12us/sample - loss: 0.4159 - val_loss: 0.4320\n",
      "Epoch 10/1000\n",
      "80000/80000 [==============================] - 1s 12us/sample - loss: 0.4139 - val_loss: 0.4315\n",
      "Epoch 11/1000\n",
      "80000/80000 [==============================] - 1s 12us/sample - loss: 0.4120 - val_loss: 0.4320\n"
     ]
    }
   ],
   "source": [
    "callbacks = [\n",
    "    tf.keras.callbacks.EarlyStopping('val_loss', patience=5),\n",
    "]\n",
    "result = model.fit(\n",
    "    [train_x_user, train_x_item], train_y_encoded_smoothing,\n",
    "    batch_size = 512,\n",
    "    epochs = 1000,\n",
    "    shuffle = True,\n",
    "    verbose = True,\n",
    "    validation_data = ([test_x_user, test_x_item], test_y_encoded_smoothing),\n",
    "    callbacks = callbacks,\n",
    ")\n",
    "\n",
    "model.save_weights('weights_DNN_onehot_smoothing.h5')"
   ]
  },
  {
   "cell_type": "code",
   "execution_count": 21,
   "metadata": {},
   "outputs": [
    {
     "name": "stdout",
     "output_type": "stream",
     "text": [
      "RMSE :  1.3415103428598678\n"
     ]
    },
    {
     "data": {
      "image/png": "[encoded data removed]",
      "text/plain": [
       "<Figure size 576x576 with 1 Axes>"
      ]
     },
     "metadata": {
      "needs_background": "light"
     },
     "output_type": "display_data"
    }
   ],
   "source": [
    "pred_y_encoded = model.predict([test_x_user, test_x_item]).reshape(-1,1)\n",
    "pred_y = pred_y_encoded.reshape(-1,5,).argmax(axis=1)\n",
    "\n",
    "print('RMSE : ', model.score(test_y, pred_y))\n",
    "scatter(test_y, pred_y)"
   ]
  },
  {
   "cell_type": "code",
   "execution_count": null,
   "metadata": {},
   "outputs": [],
   "source": []
  },
  {
   "cell_type": "code",
   "execution_count": null,
   "metadata": {},
   "outputs": [],
   "source": []
  },
  {
   "cell_type": "code",
   "execution_count": null,
   "metadata": {},
   "outputs": [],
   "source": []
  },
  {
   "cell_type": "code",
   "execution_count": null,
   "metadata": {},
   "outputs": [],
   "source": []
  }
 ],
 "metadata": {
  "kernelspec": {
   "display_name": "Python [conda env:tf2] *",
   "language": "python",
   "name": "conda-env-tf2-py"
  },
  "language_info": {
   "codemirror_mode": {
    "name": "ipython",
    "version": 3
   },
   "file_extension": ".py",
   "mimetype": "text/x-python",
   "name": "python",
   "nbconvert_exporter": "python",
   "pygments_lexer": "ipython3",
   "version": "3.7.7"
  }
 },
 "nbformat": 4,
 "nbformat_minor": 4
}
