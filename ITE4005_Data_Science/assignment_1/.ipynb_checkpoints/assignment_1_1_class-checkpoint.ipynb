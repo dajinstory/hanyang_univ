{
 "cells": [
  {
   "cell_type": "markdown",
   "metadata": {},
   "source": [
    "##### Load Libraries"
   ]
  },
  {
   "cell_type": "code",
   "execution_count": 1,
   "metadata": {},
   "outputs": [],
   "source": [
    "import json"
   ]
  },
  {
   "cell_type": "markdown",
   "metadata": {},
   "source": [
    "##### Apriori Class"
   ]
  },
  {
   "cell_type": "code",
   "execution_count": 2,
   "metadata": {},
   "outputs": [],
   "source": [
    "class Apriori:\n",
    "    def __init__(self, min_support):\n",
    "        self.MIN_SUPPORT=min_support/100\n",
    "\n",
    "    # Load Transactions from input file\n",
    "    def load_transactions(self, filename='input.txt'):\n",
    "        transactions=[]\n",
    "        with open(filename, \"r\") as file:\n",
    "            for line in file:\n",
    "                items = line[:-1].split('\\t')\n",
    "                transactions.append(list(map(int, items)))\n",
    "        return transactions\n",
    " \n",
    "    # Save Rules to output file\n",
    "    def save_rules(self, rules, filename='output.txt'):\n",
    "        with open(filename, \"w\") as file:\n",
    "            for rule in rules:\n",
    "                file.write(\n",
    "                    str(rule['items_1'])+'\\t'+\n",
    "                    str(rule['items_2'])+'\\t'+\n",
    "                    str('%.2f' % round(rule['probability_both']*100,2)) + '\\t' +\n",
    "                    str('%.2f' % round(rule['confidence']*100,2)) + '\\n'\n",
    "                )\n",
    "\n",
    "    # Make set list (size of set=1)\n",
    "    def init_sets(self, transactions):\n",
    "        # find all items\n",
    "        items={}\n",
    "        for idx, transaction in enumerate(transactions):\n",
    "            for item in transaction:\n",
    "                if item in items:\n",
    "                    items[item]['nums']+=1\n",
    "                    items[item]['idxs'].append(idx)\n",
    "                else:\n",
    "                    items[item]={'nums':1,'idxs':[idx]}\n",
    "\n",
    "        # make set list      \n",
    "        sets=[]\n",
    "        for item in items.keys():\n",
    "            sets.append({'items':{item}, 'nums':items[item]['nums'], 'idxs':items[item]['idxs']})\n",
    "        return sets\n",
    "    \n",
    "    def run(self, transactions):\n",
    "\n",
    "        # get sets\n",
    "        sets = self.init_sets(transactions)\n",
    "        rules = []    \n",
    "\n",
    "        start_point=0\n",
    "        end_point=len(sets)\n",
    "        while(start_point < end_point):\n",
    "\n",
    "            # get idx_A and set_A\n",
    "            for idx_A, set_A in enumerate(sets[start_point:], start_point):\n",
    "                # get idx_B and set_B\n",
    "                for idx_B, set_B in enumerate(sets[:idx_A]):\n",
    "\n",
    "                    # check if set_A and set_B is mutually exclusive.\n",
    "                    if set_A['items']&set_B['items'] == set({}):\n",
    "\n",
    "                        # make new set\n",
    "                        new_set=set_A['items']|set_B['items']\n",
    "                        nums=0\n",
    "                        idxs=[]\n",
    "\n",
    "                        # find current set from transactions\n",
    "                        for idx in set_A['idxs']:\n",
    "                            if set(transactions[idx])&set_B['items']==set_B['items']:\n",
    "                                nums+=1\n",
    "                                idxs.append(idx)\n",
    "\n",
    "                        # MIN_SUPPORT\n",
    "                        if nums>=int(len(transactions)* self.MIN_SUPPORT):\n",
    "                            sets.append({'items':new_set, 'nums':nums, 'idxs':idxs})\n",
    "                            rules.append({\n",
    "                                'items_1':set_A['items'], \n",
    "                                'items_2':set_B['items'],\n",
    "                                'support':set_A['nums']/len(transactions),\n",
    "                                'confidence':nums/set_A['nums'],\n",
    "                                'probability_both':nums/len(transactions),\n",
    "                                'lift':(nums*len(transactions))/(set_A['nums']*set_B['nums'])\n",
    "                            })\n",
    "                            rules.append({\n",
    "                                'items_1':set_B['items'], \n",
    "                                'items_2':set_A['items'],\n",
    "                                'support':set_B['nums']/len(transactions),\n",
    "                                'confidence':nums/set_B['nums'],\n",
    "                                'probability_both':nums/len(transactions),\n",
    "                                'lift':(nums*len(transactions))/(set_B['nums']*set_A['nums'])\n",
    "                            })\n",
    "            start_point=end_point\n",
    "            end_point=len(sets)\n",
    "\n",
    "        return rules\n"
   ]
  },
  {
   "cell_type": "code",
   "execution_count": 3,
   "metadata": {},
   "outputs": [],
   "source": [
    "MIN_SUPPORT=5\n",
    "input_file = 'input.txt'\n",
    "output_file = 'output.txt'\n",
    "apriori = Apriori(MIN_SUPPORT)\n",
    "\n",
    "transactions = apriori.load_transactions(input_file)\n",
    "rules = apriori.run(transactions)\n",
    "apriori.save_rules(rules)"
   ]
  },
  {
   "cell_type": "code",
   "execution_count": 4,
   "metadata": {},
   "outputs": [
    {
     "data": {
      "text/plain": [
       "1322"
      ]
     },
     "execution_count": 4,
     "metadata": {},
     "output_type": "execute_result"
    }
   ],
   "source": [
    "len(rules)"
   ]
  },
  {
   "cell_type": "code",
   "execution_count": 5,
   "metadata": {
    "scrolled": true
   },
   "outputs": [
    {
     "data": {
      "text/plain": [
       "{'items_1': {14},\n",
       " 'items_2': {7},\n",
       " 'support': 0.256,\n",
       " 'confidence': 0.296875,\n",
       " 'probability_both': 0.076,\n",
       " 'lift': 1.2369791666666667}"
      ]
     },
     "execution_count": 5,
     "metadata": {},
     "output_type": "execute_result"
    }
   ],
   "source": [
    "rules[0]"
   ]
  },
  {
   "cell_type": "code",
   "execution_count": null,
   "metadata": {},
   "outputs": [],
   "source": []
  },
  {
   "cell_type": "code",
   "execution_count": null,
   "metadata": {},
   "outputs": [],
   "source": []
  }
 ],
 "metadata": {
  "kernelspec": {
   "display_name": "Python [conda env:py37] *",
   "language": "python",
   "name": "conda-env-py37-py"
  },
  "language_info": {
   "codemirror_mode": {
    "name": "ipython",
    "version": 3
   },
   "file_extension": ".py",
   "mimetype": "text/x-python",
   "name": "python",
   "nbconvert_exporter": "python",
   "pygments_lexer": "ipython3",
   "version": "3.7.6"
  }
 },
 "nbformat": 4,
 "nbformat_minor": 4
}
