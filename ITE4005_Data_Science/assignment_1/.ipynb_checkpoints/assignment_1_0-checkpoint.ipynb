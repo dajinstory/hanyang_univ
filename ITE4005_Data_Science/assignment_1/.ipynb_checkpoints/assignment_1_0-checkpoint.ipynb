{
 "cells": [
  {
   "cell_type": "markdown",
   "metadata": {},
   "source": [
    "##### Load Libraries"
   ]
  },
  {
   "cell_type": "code",
   "execution_count": 1,
   "metadata": {},
   "outputs": [],
   "source": [
    "import numpy as np\n",
    "MIN_SUPPORT=25 # default"
   ]
  },
  {
   "cell_type": "markdown",
   "metadata": {},
   "source": [
    "##### Load Input.txt"
   ]
  },
  {
   "cell_type": "code",
   "execution_count": 2,
   "metadata": {},
   "outputs": [],
   "source": [
    "def load_transactions(filename):\n",
    "    transactions=[]\n",
    "    with open(filename, \"r\") as file:\n",
    "        for line in file:\n",
    "            items = line[:-1].split('\\t')\n",
    "            transactions.append(items)\n",
    "    return transactions"
   ]
  },
  {
   "cell_type": "code",
   "execution_count": 3,
   "metadata": {},
   "outputs": [],
   "source": [
    "filename = 'input.txt'\n",
    "transactions = load_transactions(filename)"
   ]
  },
  {
   "cell_type": "markdown",
   "metadata": {},
   "source": [
    "##### Make Set List (size of set=1)"
   ]
  },
  {
   "cell_type": "code",
   "execution_count": 4,
   "metadata": {},
   "outputs": [],
   "source": [
    "def init_sets(transactions):\n",
    "    # find all items\n",
    "    items={}\n",
    "    for idx, transaction in enumerate(transactions):\n",
    "        for item in transaction:\n",
    "            if item in items:\n",
    "                items[item]['nums']+=1\n",
    "                items[item]['idxs'].append(idx)\n",
    "            else:\n",
    "                items[item]={'nums':1,'idxs':[idx]}\n",
    "                \n",
    "    # make set list      \n",
    "    sets=[]\n",
    "    for item in items.keys():\n",
    "        sets.append({'items':{item}, 'nums':items[item]['nums'], 'idxs':items[item]['idxs']})\n",
    "    return sets"
   ]
  },
  {
   "cell_type": "code",
   "execution_count": 5,
   "metadata": {},
   "outputs": [],
   "source": [
    "sets = init_sets(transactions)"
   ]
  },
  {
   "cell_type": "markdown",
   "metadata": {},
   "source": [
    "##### Run Apriori"
   ]
  },
  {
   "cell_type": "code",
   "execution_count": 6,
   "metadata": {},
   "outputs": [],
   "source": [
    "def run_apriori(transactions):\n",
    "\n",
    "    # get sets\n",
    "    sets = init_sets(transactions)\n",
    "    rules = []    \n",
    "    \n",
    "    start_point=0\n",
    "    end_point=len(sets)\n",
    "    while(start_point < end_point):\n",
    "\n",
    "        # get idx_A and set_A\n",
    "        for idx_A, set_A in enumerate(sets[start_point:], start_point):\n",
    "            # get idx_B and set_B\n",
    "            for idx_B, set_B in enumerate(sets[:idx_A]):\n",
    "\n",
    "                # check if set_A and set_B is mutually exclusive.\n",
    "                if set_A['items']&set_B['items'] == set({}):\n",
    "\n",
    "                    # make new set\n",
    "                    new_set=set_A['items']|set_B['items']\n",
    "                    nums=0\n",
    "                    idxs=[]\n",
    "\n",
    "                    # find current set from transactions\n",
    "                    for idx in set_A['idxs']:\n",
    "                        if set(transactions[idx])&set_B['items']==set_B['items']:\n",
    "                            nums+=1\n",
    "                            idxs.append(idx)\n",
    "\n",
    "                    # MIN_SUPPORT\n",
    "                    if nums>=MIN_SUPPORT:\n",
    "                        sets.append({'items':new_set, 'nums':nums, 'idxs':idxs})\n",
    "                        rules.append({\n",
    "                            'items_1':set_A['items'], \n",
    "                            'items_2':set_B['items'],\n",
    "                            'support':set_A['nums']/len(transactions),\n",
    "                            'confidence':nums/set_A['nums'],\n",
    "                            'lift':(nums*len(transactions))/(set_A['nums']*set_B['nums'])\n",
    "                        })\n",
    "                        rules.append({\n",
    "                            'items_1':set_B['items'], \n",
    "                            'items_2':set_A['items'],\n",
    "                            'support':set_B['nums']/len(transactions),\n",
    "                            'confidence':nums/set_B['nums'],\n",
    "                            'lift':(nums*len(transactions))/(set_B['nums']*set_A['nums'])\n",
    "                        })\n",
    "        start_point=end_point\n",
    "        end_point=len(sets)\n",
    "    \n",
    "    return rules\n"
   ]
  },
  {
   "cell_type": "code",
   "execution_count": 7,
   "metadata": {},
   "outputs": [],
   "source": [
    "rules = run_apriori(transactions)"
   ]
  },
  {
   "cell_type": "code",
   "execution_count": 8,
   "metadata": {},
   "outputs": [
    {
     "name": "stdout",
     "output_type": "stream",
     "text": [
      "[{'items_1': {'14'}, 'items_2': {'7'}, 'support': 0.256, 'confidence': 0.296875, 'lift': 1.2369791666666667}, {'items_1': {'7'}, 'items_2': {'14'}, 'support': 0.24, 'confidence': 0.31666666666666665, 'lift': 1.2369791666666667}, {'items_1': {'9'}, 'items_2': {'7'}, 'support': 0.278, 'confidence': 0.2446043165467626, 'lift': 1.0191846522781776}, {'items_1': {'7'}, 'items_2': {'9'}, 'support': 0.24, 'confidence': 0.2833333333333333, 'lift': 1.0191846522781776}, {'items_1': {'9'}, 'items_2': {'14'}, 'support': 0.278, 'confidence': 0.30935251798561153, 'lift': 1.2084082733812949}, {'items_1': {'14'}, 'items_2': {'9'}, 'support': 0.256, 'confidence': 0.3359375, 'lift': 1.2084082733812949}, {'items_1': {'18'}, 'items_2': {'7'}, 'support': 0.276, 'confidence': 0.2536231884057971, 'lift': 1.0567632850241546}, {'items_1': {'7'}, 'items_2': {'18'}, 'support': 0.24, 'confidence': 0.2916666666666667, 'lift': 1.0567632850241546}, {'items_1': {'18'}, 'items_2': {'14'}, 'support': 0.276, 'confidence': 0.26811594202898553, 'lift': 1.0473278985507246}, {'items_1': {'14'}, 'items_2': {'18'}, 'support': 0.256, 'confidence': 0.2890625, 'lift': 1.0473278985507246}, {'items_1': {'18'}, 'items_2': {'9'}, 'support': 0.276, 'confidence': 0.34057971014492755, 'lift': 1.225106871024919}, {'items_1': {'9'}, 'items_2': {'18'}, 'support': 0.278, 'confidence': 0.3381294964028777, 'lift': 1.225106871024919}, {'items_1': {'2'}, 'items_2': {'7'}, 'support': 0.264, 'confidence': 0.22727272727272727, 'lift': 0.946969696969697}, {'items_1': {'7'}, 'items_2': {'2'}, 'support': 0.24, 'confidence': 0.25, 'lift': 0.946969696969697}, {'items_1': {'2'}, 'items_2': {'14'}, 'support': 0.264, 'confidence': 0.3181818181818182, 'lift': 1.2428977272727273}, {'items_1': {'14'}, 'items_2': {'2'}, 'support': 0.256, 'confidence': 0.328125, 'lift': 1.2428977272727273}, {'items_1': {'2'}, 'items_2': {'9'}, 'support': 0.264, 'confidence': 0.2727272727272727, 'lift': 0.9810333551340745}, {'items_1': {'9'}, 'items_2': {'2'}, 'support': 0.278, 'confidence': 0.2589928057553957, 'lift': 0.9810333551340745}, {'items_1': {'2'}, 'items_2': {'18'}, 'support': 0.264, 'confidence': 0.32575757575757575, 'lift': 1.1802810715854195}, {'items_1': {'18'}, 'items_2': {'2'}, 'support': 0.276, 'confidence': 0.3115942028985507, 'lift': 1.1802810715854195}, {'items_1': {'4'}, 'items_2': {'7'}, 'support': 0.246, 'confidence': 0.2601626016260163, 'lift': 1.084010840108401}, {'items_1': {'7'}, 'items_2': {'4'}, 'support': 0.24, 'confidence': 0.26666666666666666, 'lift': 1.084010840108401}, {'items_1': {'4'}, 'items_2': {'14'}, 'support': 0.246, 'confidence': 0.3333333333333333, 'lift': 1.3020833333333333}, {'items_1': {'14'}, 'items_2': {'4'}, 'support': 0.256, 'confidence': 0.3203125, 'lift': 1.3020833333333333}, {'items_1': {'4'}, 'items_2': {'9'}, 'support': 0.246, 'confidence': 0.36585365853658536, 'lift': 1.3160203544481488}, {'items_1': {'9'}, 'items_2': {'4'}, 'support': 0.278, 'confidence': 0.3237410071942446, 'lift': 1.3160203544481488}, {'items_1': {'4'}, 'items_2': {'18'}, 'support': 0.246, 'confidence': 0.3170731707317073, 'lift': 1.1488158359844467}, {'items_1': {'18'}, 'items_2': {'4'}, 'support': 0.276, 'confidence': 0.2826086956521739, 'lift': 1.1488158359844467}, {'items_1': {'4'}, 'items_2': {'2'}, 'support': 0.246, 'confidence': 0.34959349593495936, 'lift': 1.3242177876324217}, {'items_1': {'2'}, 'items_2': {'4'}, 'support': 0.264, 'confidence': 0.32575757575757575, 'lift': 1.3242177876324217}, {'items_1': {'5'}, 'items_2': {'7'}, 'support': 0.252, 'confidence': 0.2857142857142857, 'lift': 1.1904761904761905}, {'items_1': {'7'}, 'items_2': {'5'}, 'support': 0.24, 'confidence': 0.3, 'lift': 1.1904761904761905}, {'items_1': {'5'}, 'items_2': {'14'}, 'support': 0.252, 'confidence': 0.2857142857142857, 'lift': 1.1160714285714286}, {'items_1': {'14'}, 'items_2': {'5'}, 'support': 0.256, 'confidence': 0.28125, 'lift': 1.1160714285714286}, {'items_1': {'5'}, 'items_2': {'9'}, 'support': 0.252, 'confidence': 0.35714285714285715, 'lift': 1.2846865364850977}, {'items_1': {'9'}, 'items_2': {'5'}, 'support': 0.278, 'confidence': 0.3237410071942446, 'lift': 1.2846865364850977}, {'items_1': {'5'}, 'items_2': {'18'}, 'support': 0.252, 'confidence': 0.3888888888888889, 'lift': 1.4090177133655395}, {'items_1': {'18'}, 'items_2': {'5'}, 'support': 0.276, 'confidence': 0.35507246376811596, 'lift': 1.4090177133655395}, {'items_1': {'5'}, 'items_2': {'2'}, 'support': 0.252, 'confidence': 0.2698412698412698, 'lift': 1.0221260221260222}, {'items_1': {'2'}, 'items_2': {'5'}, 'support': 0.264, 'confidence': 0.25757575757575757, 'lift': 1.0221260221260222}, {'items_1': {'5'}, 'items_2': {'4'}, 'support': 0.252, 'confidence': 0.3492063492063492, 'lift': 1.4195380049038586}, {'items_1': {'4'}, 'items_2': {'5'}, 'support': 0.246, 'confidence': 0.35772357723577236, 'lift': 1.4195380049038586}, {'items_1': {'1'}, 'items_2': {'7'}, 'support': 0.3, 'confidence': 0.23333333333333334, 'lift': 0.9722222222222222}, {'items_1': {'7'}, 'items_2': {'1'}, 'support': 0.24, 'confidence': 0.2916666666666667, 'lift': 0.9722222222222222}, {'items_1': {'1'}, 'items_2': {'14'}, 'support': 0.3, 'confidence': 0.28, 'lift': 1.09375}, {'items_1': {'14'}, 'items_2': {'1'}, 'support': 0.256, 'confidence': 0.328125, 'lift': 1.09375}, {'items_1': {'1'}, 'items_2': {'9'}, 'support': 0.3, 'confidence': 0.32, 'lift': 1.1510791366906474}, {'items_1': {'9'}, 'items_2': {'1'}, 'support': 0.278, 'confidence': 0.34532374100719426, 'lift': 1.1510791366906474}, {'items_1': {'1'}, 'items_2': {'18'}, 'support': 0.3, 'confidence': 0.26666666666666666, 'lift': 0.966183574879227}, {'items_1': {'18'}, 'items_2': {'1'}, 'support': 0.276, 'confidence': 0.2898550724637681, 'lift': 0.966183574879227}, {'items_1': {'1'}, 'items_2': {'2'}, 'support': 0.3, 'confidence': 0.3, 'lift': 1.1363636363636365}, {'items_1': {'2'}, 'items_2': {'1'}, 'support': 0.264, 'confidence': 0.3409090909090909, 'lift': 1.1363636363636365}, {'items_1': {'1'}, 'items_2': {'4'}, 'support': 0.3, 'confidence': 0.30666666666666664, 'lift': 1.2466124661246611}, {'items_1': {'4'}, 'items_2': {'1'}, 'support': 0.246, 'confidence': 0.37398373983739835, 'lift': 1.2466124661246611}, {'items_1': {'1'}, 'items_2': {'5'}, 'support': 0.3, 'confidence': 0.3333333333333333, 'lift': 1.3227513227513228}, {'items_1': {'5'}, 'items_2': {'1'}, 'support': 0.252, 'confidence': 0.3968253968253968, 'lift': 1.3227513227513228}, {'items_1': {'11'}, 'items_2': {'7'}, 'support': 0.274, 'confidence': 0.291970802919708, 'lift': 1.2165450121654502}, {'items_1': {'7'}, 'items_2': {'11'}, 'support': 0.24, 'confidence': 0.3333333333333333, 'lift': 1.2165450121654502}, {'items_1': {'11'}, 'items_2': {'14'}, 'support': 0.274, 'confidence': 0.27007299270072993, 'lift': 1.0549726277372262}, {'items_1': {'14'}, 'items_2': {'11'}, 'support': 0.256, 'confidence': 0.2890625, 'lift': 1.0549726277372262}, {'items_1': {'11'}, 'items_2': {'9'}, 'support': 0.274, 'confidence': 0.2846715328467153, 'lift': 1.023998319592501}, {'items_1': {'9'}, 'items_2': {'11'}, 'support': 0.278, 'confidence': 0.2805755395683453, 'lift': 1.023998319592501}, {'items_1': {'11'}, 'items_2': {'18'}, 'support': 0.274, 'confidence': 0.2773722627737226, 'lift': 1.0049719665714587}, {'items_1': {'18'}, 'items_2': {'11'}, 'support': 0.276, 'confidence': 0.2753623188405797, 'lift': 1.0049719665714587}, {'items_1': {'11'}, 'items_2': {'2'}, 'support': 0.274, 'confidence': 0.24817518248175183, 'lift': 0.9400575094005751}, {'items_1': {'2'}, 'items_2': {'11'}, 'support': 0.264, 'confidence': 0.25757575757575757, 'lift': 0.9400575094005751}, {'items_1': {'11'}, 'items_2': {'4'}, 'support': 0.274, 'confidence': 0.2773722627737226, 'lift': 1.1275295234704172}, {'items_1': {'4'}, 'items_2': {'11'}, 'support': 0.246, 'confidence': 0.3089430894308943, 'lift': 1.1275295234704172}, {'items_1': {'11'}, 'items_2': {'5'}, 'support': 0.274, 'confidence': 0.2773722627737226, 'lift': 1.1006835824354073}, {'items_1': {'5'}, 'items_2': {'11'}, 'support': 0.252, 'confidence': 0.30158730158730157, 'lift': 1.1006835824354073}, {'items_1': {'11'}, 'items_2': {'1'}, 'support': 0.274, 'confidence': 0.27007299270072993, 'lift': 0.9002433090024331}, {'items_1': {'1'}, 'items_2': {'11'}, 'support': 0.3, 'confidence': 0.24666666666666667, 'lift': 0.9002433090024331}, {'items_1': {'15'}, 'items_2': {'7'}, 'support': 0.28, 'confidence': 0.21428571428571427, 'lift': 0.8928571428571429}, {'items_1': {'7'}, 'items_2': {'15'}, 'support': 0.24, 'confidence': 0.25, 'lift': 0.8928571428571429}, {'items_1': {'15'}, 'items_2': {'14'}, 'support': 0.28, 'confidence': 0.3, 'lift': 1.171875}, {'items_1': {'14'}, 'items_2': {'15'}, 'support': 0.256, 'confidence': 0.328125, 'lift': 1.171875}, {'items_1': {'15'}, 'items_2': {'9'}, 'support': 0.28, 'confidence': 0.3, 'lift': 1.079136690647482}, {'items_1': {'9'}, 'items_2': {'15'}, 'support': 0.278, 'confidence': 0.302158273381295, 'lift': 1.079136690647482}, {'items_1': {'15'}, 'items_2': {'18'}, 'support': 0.28, 'confidence': 0.2714285714285714, 'lift': 0.9834368530020704}, {'items_1': {'18'}, 'items_2': {'15'}, 'support': 0.276, 'confidence': 0.2753623188405797, 'lift': 0.9834368530020704}, {'items_1': {'15'}, 'items_2': {'2'}, 'support': 0.28, 'confidence': 0.30714285714285716, 'lift': 1.1634199134199135}, {'items_1': {'2'}, 'items_2': {'15'}, 'support': 0.264, 'confidence': 0.32575757575757575, 'lift': 1.1634199134199135}, {'items_1': {'15'}, 'items_2': {'4'}, 'support': 0.28, 'confidence': 0.2857142857142857, 'lift': 1.1614401858304297}, {'items_1': {'4'}, 'items_2': {'15'}, 'support': 0.246, 'confidence': 0.3252032520325203, 'lift': 1.1614401858304297}, {'items_1': {'15'}, 'items_2': {'5'}, 'support': 0.28, 'confidence': 0.32857142857142857, 'lift': 1.3038548752834467}, {'items_1': {'5'}, 'items_2': {'15'}, 'support': 0.252, 'confidence': 0.36507936507936506, 'lift': 1.3038548752834467}, {'items_1': {'15'}, 'items_2': {'1'}, 'support': 0.28, 'confidence': 0.39285714285714285, 'lift': 1.3095238095238095}, {'items_1': {'1'}, 'items_2': {'15'}, 'support': 0.3, 'confidence': 0.36666666666666664, 'lift': 1.3095238095238095}, {'items_1': {'15'}, 'items_2': {'11'}, 'support': 0.28, 'confidence': 0.35, 'lift': 1.2773722627737227}, {'items_1': {'11'}, 'items_2': {'15'}, 'support': 0.274, 'confidence': 0.35766423357664234, 'lift': 1.2773722627737227}, {'items_1': {'16'}, 'items_2': {'7'}, 'support': 0.424, 'confidence': 0.23113207547169812, 'lift': 0.9630503144654088}, {'items_1': {'7'}, 'items_2': {'16'}, 'support': 0.24, 'confidence': 0.4083333333333333, 'lift': 0.9630503144654088}, {'items_1': {'16'}, 'items_2': {'14'}, 'support': 0.424, 'confidence': 0.25943396226415094, 'lift': 1.0134139150943395}, {'items_1': {'14'}, 'items_2': {'16'}, 'support': 0.256, 'confidence': 0.4296875, 'lift': 1.0134139150943395}, {'items_1': {'16'}, 'items_2': {'9'}, 'support': 0.424, 'confidence': 0.3113207547169811, 'lift': 1.1198588299171983}, {'items_1': {'9'}, 'items_2': {'16'}, 'support': 0.278, 'confidence': 0.4748201438848921, 'lift': 1.1198588299171983}, {'items_1': {'16'}, 'items_2': {'18'}, 'support': 0.424, 'confidence': 0.3113207547169811, 'lift': 1.1279737489745694}, {'items_1': {'18'}, 'items_2': {'16'}, 'support': 0.276, 'confidence': 0.4782608695652174, 'lift': 1.1279737489745694}, {'items_1': {'16'}, 'items_2': {'2'}, 'support': 0.424, 'confidence': 0.32075471698113206, 'lift': 1.2149799885648942}, {'items_1': {'2'}, 'items_2': {'16'}, 'support': 0.264, 'confidence': 0.5151515151515151, 'lift': 1.2149799885648942}]\n"
     ]
    }
   ],
   "source": [
    "print(rules[:100])"
   ]
  },
  {
   "cell_type": "code",
   "execution_count": null,
   "metadata": {},
   "outputs": [],
   "source": []
  }
 ],
 "metadata": {
  "kernelspec": {
   "display_name": "Python [conda env:py37] *",
   "language": "python",
   "name": "conda-env-py37-py"
  },
  "language_info": {
   "codemirror_mode": {
    "name": "ipython",
    "version": 3
   },
   "file_extension": ".py",
   "mimetype": "text/x-python",
   "name": "python",
   "nbconvert_exporter": "python",
   "pygments_lexer": "ipython3",
   "version": "3.7.6"
  }
 },
 "nbformat": 4,
 "nbformat_minor": 4
}
