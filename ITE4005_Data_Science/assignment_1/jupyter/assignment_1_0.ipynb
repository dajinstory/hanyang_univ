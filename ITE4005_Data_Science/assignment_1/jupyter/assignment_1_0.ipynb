{
 "cells": [
  {
   "cell_type": "markdown",
   "metadata": {},
   "source": [
    "##### Load Libraries"
   ]
  },
  {
   "cell_type": "code",
   "execution_count": 1,
   "metadata": {},
   "outputs": [],
   "source": [
    "import sys"
   ]
  },
  {
   "cell_type": "markdown",
   "metadata": {},
   "source": [
    "##### Load Input.txt"
   ]
  },
  {
   "cell_type": "code",
   "execution_count": 2,
   "metadata": {},
   "outputs": [],
   "source": [
    "def load_transactions(filename='input.txt'):\n",
    "    transactions=[]\n",
    "    with open(filename, \"r\") as file:\n",
    "        for line in file:\n",
    "            items = line[:-1].split('\\t')\n",
    "            transactions.append(list(map(int, items)))\n",
    "    return transactions"
   ]
  },
  {
   "cell_type": "code",
   "execution_count": 3,
   "metadata": {},
   "outputs": [],
   "source": [
    "filename = 'input.txt'\n",
    "transactions = load_transactions(filename)"
   ]
  },
  {
   "cell_type": "code",
   "execution_count": 4,
   "metadata": {},
   "outputs": [
    {
     "data": {
      "text/plain": [
       "[7, 14]"
      ]
     },
     "execution_count": 4,
     "metadata": {},
     "output_type": "execute_result"
    }
   ],
   "source": [
    "transactions[0]"
   ]
  },
  {
   "cell_type": "markdown",
   "metadata": {},
   "source": [
    "##### Make Set List (size of set=1)"
   ]
  },
  {
   "cell_type": "code",
   "execution_count": 5,
   "metadata": {},
   "outputs": [],
   "source": [
    "def init_sets(transactions):\n",
    "    # find all items\n",
    "    items={}\n",
    "    for idx, transaction in enumerate(transactions):\n",
    "        for item in transaction:\n",
    "            if item in items:\n",
    "                items[item]['nums']+=1\n",
    "                items[item]['idxs'].append(idx)\n",
    "            else:\n",
    "                items[item]={'nums':1,'idxs':[idx]}\n",
    "\n",
    "    # make set list      \n",
    "    sets=[]\n",
    "    for item in items.keys():\n",
    "        sets.append({'items':{item}, 'nums':items[item]['nums'], 'idxs':items[item]['idxs']})\n",
    "    return sets"
   ]
  },
  {
   "cell_type": "code",
   "execution_count": 6,
   "metadata": {},
   "outputs": [],
   "source": [
    "sets = init_sets(transactions)"
   ]
  },
  {
   "cell_type": "code",
   "execution_count": 7,
   "metadata": {
    "scrolled": false
   },
   "outputs": [
    {
     "data": {
      "text/plain": [
       "{'items': {7},\n",
       " 'nums': 120,\n",
       " 'idxs': [0,\n",
       "  3,\n",
       "  5,\n",
       "  8,\n",
       "  19,\n",
       "  20,\n",
       "  21,\n",
       "  28,\n",
       "  29,\n",
       "  32,\n",
       "  51,\n",
       "  53,\n",
       "  55,\n",
       "  60,\n",
       "  63,\n",
       "  65,\n",
       "  68,\n",
       "  69,\n",
       "  70,\n",
       "  73,\n",
       "  76,\n",
       "  77,\n",
       "  83,\n",
       "  84,\n",
       "  97,\n",
       "  100,\n",
       "  105,\n",
       "  108,\n",
       "  109,\n",
       "  111,\n",
       "  115,\n",
       "  138,\n",
       "  141,\n",
       "  145,\n",
       "  149,\n",
       "  150,\n",
       "  168,\n",
       "  171,\n",
       "  174,\n",
       "  178,\n",
       "  180,\n",
       "  183,\n",
       "  186,\n",
       "  188,\n",
       "  190,\n",
       "  192,\n",
       "  195,\n",
       "  198,\n",
       "  201,\n",
       "  202,\n",
       "  209,\n",
       "  214,\n",
       "  216,\n",
       "  217,\n",
       "  218,\n",
       "  219,\n",
       "  225,\n",
       "  231,\n",
       "  238,\n",
       "  239,\n",
       "  242,\n",
       "  249,\n",
       "  254,\n",
       "  257,\n",
       "  259,\n",
       "  260,\n",
       "  264,\n",
       "  269,\n",
       "  271,\n",
       "  282,\n",
       "  288,\n",
       "  292,\n",
       "  293,\n",
       "  295,\n",
       "  301,\n",
       "  305,\n",
       "  309,\n",
       "  317,\n",
       "  328,\n",
       "  329,\n",
       "  337,\n",
       "  338,\n",
       "  340,\n",
       "  341,\n",
       "  343,\n",
       "  347,\n",
       "  350,\n",
       "  357,\n",
       "  366,\n",
       "  372,\n",
       "  378,\n",
       "  381,\n",
       "  386,\n",
       "  387,\n",
       "  389,\n",
       "  394,\n",
       "  395,\n",
       "  405,\n",
       "  406,\n",
       "  407,\n",
       "  412,\n",
       "  417,\n",
       "  422,\n",
       "  425,\n",
       "  428,\n",
       "  434,\n",
       "  443,\n",
       "  448,\n",
       "  455,\n",
       "  457,\n",
       "  458,\n",
       "  461,\n",
       "  462,\n",
       "  469,\n",
       "  480,\n",
       "  486,\n",
       "  487,\n",
       "  490,\n",
       "  492,\n",
       "  497]}"
      ]
     },
     "execution_count": 7,
     "metadata": {},
     "output_type": "execute_result"
    }
   ],
   "source": [
    "sets[0]"
   ]
  },
  {
   "cell_type": "markdown",
   "metadata": {},
   "source": [
    "##### Run Apriori"
   ]
  },
  {
   "cell_type": "code",
   "execution_count": 8,
   "metadata": {},
   "outputs": [],
   "source": [
    "def run_apriori(transactions):\n",
    "    MIN_SUPPORT=0.05 # default\n",
    "    \n",
    "    # get sets\n",
    "    sets = init_sets(transactions)\n",
    "    rules = []    \n",
    "\n",
    "    start_point=0\n",
    "    end_point=len(sets)\n",
    "    while(start_point < end_point):\n",
    "        # get idx_A and set_A\n",
    "        for idx_A, set_A in enumerate(sets[start_point:], start_point):\n",
    "            # get idx_B and set_B\n",
    "            for idx_B, set_B in enumerate(sets[:idx_A]):\n",
    "\n",
    "                # check if set_A and set_B is mutually exclusive.\n",
    "                if set_A['items']&set_B['items'] == set({}):\n",
    "\n",
    "                    # make new set\n",
    "                    new_set=set_A['items']|set_B['items']\n",
    "                    nums=0\n",
    "                    idxs=[]\n",
    "\n",
    "                    # find current set from transactions\n",
    "                    for idx in set_A['idxs']:\n",
    "                        if set(transactions[idx])&set_B['items']==set_B['items']:\n",
    "                            nums+=1\n",
    "                            idxs.append(idx)\n",
    "\n",
    "                    # MIN_SUPPORT\n",
    "                    if nums>=int(len(transactions)* MIN_SUPPORT):\n",
    "                        sets.append({'items':new_set, 'nums':nums, 'idxs':idxs})\n",
    "                        rules.append({\n",
    "                            'items_1':set_A['items'], \n",
    "                            'items_2':set_B['items'],\n",
    "                            'support':set_A['nums']/len(transactions),\n",
    "                            'confidence':nums/set_A['nums'],\n",
    "                            'probability_both':nums/len(transactions),\n",
    "                            'lift':(nums*len(transactions))/(set_A['nums']*set_B['nums'])\n",
    "                        })\n",
    "                        rules.append({\n",
    "                            'items_1':set_B['items'], \n",
    "                            'items_2':set_A['items'],\n",
    "                            'support':set_B['nums']/len(transactions),\n",
    "                            'confidence':nums/set_B['nums'],\n",
    "                            'probability_both':nums/len(transactions),\n",
    "                            'lift':(nums*len(transactions))/(set_B['nums']*set_A['nums'])\n",
    "                        })\n",
    "        start_point=end_point\n",
    "        end_point=len(sets)\n",
    "\n",
    "    return rules"
   ]
  },
  {
   "cell_type": "code",
   "execution_count": 9,
   "metadata": {},
   "outputs": [],
   "source": [
    "rules = run_apriori(transactions)"
   ]
  },
  {
   "cell_type": "code",
   "execution_count": 10,
   "metadata": {},
   "outputs": [
    {
     "name": "stdout",
     "output_type": "stream",
     "text": [
      "{'items_1': {14}, 'items_2': {7}, 'support': 0.256, 'confidence': 0.296875, 'probability_both': 0.076, 'lift': 1.2369791666666667}\n"
     ]
    }
   ],
   "source": [
    "print(rules[0])"
   ]
  },
  {
   "cell_type": "markdown",
   "metadata": {},
   "source": [
    "##### Save results to output.txt"
   ]
  },
  {
   "cell_type": "code",
   "execution_count": 11,
   "metadata": {},
   "outputs": [],
   "source": [
    "def save_rules(rules, filename='output.txt'):\n",
    "    with open(filename, \"w\") as file:\n",
    "        for rule in rules:\n",
    "            file.write(\n",
    "                str(rule['items_1'])+'\\t'+\n",
    "                str(rule['items_2'])+'\\t'+\n",
    "                str('%.2f' % round(rule['probability_both']*100,2)) + '\\t' +\n",
    "                str('%.2f' % round(rule['confidence']*100,2)) + '\\n'\n",
    "            )"
   ]
  },
  {
   "cell_type": "code",
   "execution_count": 12,
   "metadata": {},
   "outputs": [],
   "source": [
    "filename='output.txt'\n",
    "save_rules(rules, filename)"
   ]
  },
  {
   "cell_type": "code",
   "execution_count": null,
   "metadata": {},
   "outputs": [],
   "source": []
  }
 ],
 "metadata": {
  "kernelspec": {
   "display_name": "Python 3",
   "language": "python",
   "name": "python3"
  },
  "language_info": {
   "codemirror_mode": {
    "name": "ipython",
    "version": 3
   },
   "file_extension": ".py",
   "mimetype": "text/x-python",
   "name": "python",
   "nbconvert_exporter": "python",
   "pygments_lexer": "ipython3",
   "version": "3.7.4"
  }
 },
 "nbformat": 4,
 "nbformat_minor": 4
}
