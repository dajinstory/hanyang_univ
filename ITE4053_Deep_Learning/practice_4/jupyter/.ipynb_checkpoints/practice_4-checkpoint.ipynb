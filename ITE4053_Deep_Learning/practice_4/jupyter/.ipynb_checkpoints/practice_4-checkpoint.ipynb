{
 "cells": [
  {
   "cell_type": "markdown",
   "metadata": {},
   "source": [
    "### Import Libraries"
   ]
  },
  {
   "cell_type": "code",
   "execution_count": 1,
   "metadata": {},
   "outputs": [
    {
     "name": "stderr",
     "output_type": "stream",
     "text": [
      "Using TensorFlow backend.\n"
     ]
    }
   ],
   "source": [
    "import numpy as np\n",
    "import time\n",
    "import tensorflow as tf\n",
    "import keras\n",
    "\n",
    "np.random.seed(97)\n"
   ]
  },
  {
   "cell_type": "markdown",
   "metadata": {},
   "source": [
    "### Create dataset"
   ]
  },
  {
   "cell_type": "code",
   "execution_count": 2,
   "metadata": {},
   "outputs": [],
   "source": [
    "def create_samples(sample_num):\n",
    "    X = np.random.uniform(-2, 2, (sample_num, 2))\n",
    "    y = (X[:,0]*X[:,0] > X[:,1]).astype(float)\n",
    "    return X, y\n"
   ]
  },
  {
   "cell_type": "code",
   "execution_count": 3,
   "metadata": {},
   "outputs": [],
   "source": [
    "train_samples = 1000\n",
    "test_samples = 100\n"
   ]
  },
  {
   "cell_type": "markdown",
   "metadata": {},
   "source": [
    "### func"
   ]
  },
  {
   "cell_type": "code",
   "execution_count": 4,
   "metadata": {},
   "outputs": [],
   "source": [
    "def func(optimizer, loss, acc_name, batch_size):\n",
    "\n",
    "    # train and test model\n",
    "    train_time = 0\n",
    "    train_loss = 0\n",
    "    train_acc = 0\n",
    "    test_time = 0\n",
    "    test_loss = 0\n",
    "    test_acc = 0\n",
    "\n",
    "    run_nums = 10\n",
    "\n",
    "    for _ in range(run_nums):\n",
    "    \n",
    "        # create dataset\n",
    "        train_X, train_y = create_samples(train_samples)\n",
    "        test_X, test_y = create_samples(test_samples)    ## train model\n",
    "\n",
    "        # build model\n",
    "        model = tf.keras.models.Sequential([\n",
    "            tf.keras.layers.Dense(3, input_shape = (2,), activation = tf.nn.sigmoid),\n",
    "            tf.keras.layers.Dense(1, activation = tf.nn.sigmoid)\n",
    "        ])\n",
    "        model.compile(\n",
    "            optimizer = optimizer,\n",
    "            loss = loss,\n",
    "            metrics = [tf.keras.metrics.BinaryAccuracy()]\n",
    "        )\n",
    "\n",
    "        # train model\n",
    "        time_start = time.time()\n",
    "        result = model.fit(\n",
    "            train_X, train_y, \n",
    "            batch_size = batch_size, \n",
    "            epochs = 1000,\n",
    "            verbose = False\n",
    "        )\n",
    "\n",
    "        train_time += time.time()-time_start\n",
    "        train_loss += result.history['loss'][-1]\n",
    "        train_acc += result.history[acc_name][-1]\n",
    "\n",
    "        # test model\n",
    "        time_start = time.time()\n",
    "        result = model.evaluate(test_X, test_y, \n",
    "                       verbose=False\n",
    "        )\n",
    "\n",
    "        test_time += time.time()-time_start\n",
    "        test_loss += result[0]\n",
    "        test_acc += result[1]\n",
    "\n",
    "    train_time /= run_nums\n",
    "    train_loss /= run_nums\n",
    "    train_acc /= run_nums\n",
    "\n",
    "    test_time /= run_nums\n",
    "    test_loss /= run_nums\n",
    "    test_acc /= run_nums\n",
    "\n",
    "\n",
    "\n",
    "    # results\n",
    "    print('# Train')\n",
    "    print('loss \\t:\\t', train_loss)\n",
    "    print('acc \\t:\\t', train_acc)\n",
    "    print('time \\t:\\t', train_time)\n",
    "\n",
    "    print('\\n# Test')\n",
    "    print('loss \\t:\\t', test_loss)\n",
    "    print('acc \\t:\\t', test_acc)\n",
    "    print('time \\t:\\t', test_time)\n",
    "    "
   ]
  },
  {
   "cell_type": "markdown",
   "metadata": {},
   "source": [
    "### Table 1 - Compare loss functions"
   ]
  },
  {
   "cell_type": "markdown",
   "metadata": {},
   "source": [
    "optimizer : SGD "
   ]
  },
  {
   "cell_type": "code",
   "execution_count": 5,
   "metadata": {},
   "outputs": [
    {
     "name": "stdout",
     "output_type": "stream",
     "text": [
      "# Train\n",
      "loss \t:\t 0.052229367569088934\n",
      "acc \t:\t 0.9845999956130982\n",
      "time \t:\t 5.223154187202454\n",
      "\n",
      "# Test\n",
      "loss \t:\t 0.05034070847928525\n",
      "acc \t:\t 0.9870000123977661\n",
      "time \t:\t 0.22657930850982666\n"
     ]
    }
   ],
   "source": [
    "func(optimizer = tf.keras.optimizers.SGD(lr=1.0), \n",
    "     loss = 'binary_crossentropy', \n",
    "     acc_name = 'binary_accuracy', \n",
    "     batch_size = 1000)\n"
   ]
  },
  {
   "cell_type": "code",
   "execution_count": 6,
   "metadata": {},
   "outputs": [
    {
     "name": "stdout",
     "output_type": "stream",
     "text": [
      "# Train\n",
      "loss \t:\t 0.024468390829861165\n",
      "acc \t:\t 0.9851999998092651\n",
      "time \t:\t 4.6481188297271725\n",
      "\n",
      "# Test\n",
      "loss \t:\t 0.02381628607213497\n",
      "acc \t:\t 0.9820000171661377\n",
      "time \t:\t 0.1938570737838745\n"
     ]
    }
   ],
   "source": [
    "func(optimizer = tf.keras.optimizers.SGD(lr=1.0), \n",
    "     loss = tf.keras.losses.MeanSquaredError(), \n",
    "     acc_name = 'binary_accuracy', \n",
    "     batch_size = 1000)\n"
   ]
  },
  {
   "cell_type": "markdown",
   "metadata": {},
   "source": [
    "### Table 2 - Compare optimizers"
   ]
  },
  {
   "cell_type": "code",
   "execution_count": 7,
   "metadata": {},
   "outputs": [
    {
     "name": "stdout",
     "output_type": "stream",
     "text": [
      "# Train\n",
      "loss \t:\t 0.05174746252596378\n",
      "acc \t:\t 0.9839000046253205\n",
      "time \t:\t 5.122175788879394\n",
      "\n",
      "# Test\n",
      "loss \t:\t 0.05069047983549535\n",
      "acc \t:\t 0.9880000054836273\n",
      "time \t:\t 0.24945502281188964\n"
     ]
    }
   ],
   "source": [
    "func(optimizer = tf.keras.optimizers.SGD(lr=1.0), \n",
    "     loss = 'binary_crossentropy', \n",
    "     acc_name = 'binary_accuracy', \n",
    "     batch_size = 1000)\n"
   ]
  },
  {
   "cell_type": "code",
   "execution_count": 8,
   "metadata": {},
   "outputs": [
    {
     "name": "stdout",
     "output_type": "stream",
     "text": [
      "# Train\n",
      "loss \t:\t 0.050063719786703584\n",
      "acc \t:\t 0.9852999985218048\n",
      "time \t:\t 6.413931941986084\n",
      "\n",
      "# Test\n",
      "loss \t:\t 0.08242577543075427\n",
      "acc \t:\t 0.9730000197887421\n",
      "time \t:\t 0.2577803611755371\n"
     ]
    }
   ],
   "source": [
    "func(optimizer = tf.keras.optimizers.RMSprop(lr=1.0), \n",
    "     loss = 'binary_crossentropy', \n",
    "     acc_name = 'binary_accuracy',\n",
    "     batch_size = 1000)\n"
   ]
  },
  {
   "cell_type": "code",
   "execution_count": 9,
   "metadata": {},
   "outputs": [
    {
     "name": "stdout",
     "output_type": "stream",
     "text": [
      "# Train\n",
      "loss \t:\t 0.1105325567536056\n",
      "acc \t:\t 0.9401000022888184\n",
      "time \t:\t 5.869796872138977\n",
      "\n",
      "# Test\n",
      "loss \t:\t 0.12400447071358214\n",
      "acc \t:\t 0.9310000121593476\n",
      "time \t:\t 0.2499315023422241\n"
     ]
    }
   ],
   "source": [
    "func(optimizer = tf.keras.optimizers.Adam(lr=1.0), \n",
    "     loss = 'binary_crossentropy', \n",
    "     acc_name = 'binary_accuracy', \n",
    "     batch_size = 1000)\n"
   ]
  },
  {
   "cell_type": "code",
   "execution_count": null,
   "metadata": {},
   "outputs": [],
   "source": []
  }
 ],
 "metadata": {
  "kernelspec": {
   "display_name": "Python [conda env:tf2] *",
   "language": "python",
   "name": "conda-env-tf2-py"
  },
  "language_info": {
   "codemirror_mode": {
    "name": "ipython",
    "version": 3
   },
   "file_extension": ".py",
   "mimetype": "text/x-python",
   "name": "python",
   "nbconvert_exporter": "python",
   "pygments_lexer": "ipython3",
   "version": "3.7.5"
  }
 },
 "nbformat": 4,
 "nbformat_minor": 4
}
