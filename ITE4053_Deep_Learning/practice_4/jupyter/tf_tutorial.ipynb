{
 "cells": [
  {
   "cell_type": "markdown",
   "metadata": {},
   "source": [
    "### Import Libraries"
   ]
  },
  {
   "cell_type": "code",
   "execution_count": 1,
   "metadata": {},
   "outputs": [
    {
     "name": "stderr",
     "output_type": "stream",
     "text": [
      "Using TensorFlow backend.\n"
     ]
    }
   ],
   "source": [
    "import numpy as np\n",
    "import time\n",
    "import tensorflow as tf\n",
    "import keras\n",
    "\n",
    "np.random.seed(97)\n"
   ]
  },
  {
   "cell_type": "markdown",
   "metadata": {},
   "source": [
    "### Create dataset"
   ]
  },
  {
   "cell_type": "code",
   "execution_count": 2,
   "metadata": {},
   "outputs": [],
   "source": [
    "def create_samples(sample_num):\n",
    "    X = np.random.uniform(-2, 2, (sample_num, 2))\n",
    "    y = (X[:,0]*X[:,0] > X[:,1]).astype(float)\n",
    "    return X, y\n"
   ]
  },
  {
   "cell_type": "code",
   "execution_count": 3,
   "metadata": {},
   "outputs": [],
   "source": [
    "train_samples = 1000\n",
    "test_samples = 100"
   ]
  },
  {
   "cell_type": "code",
   "execution_count": 4,
   "metadata": {},
   "outputs": [],
   "source": [
    "train_X, train_y = create_samples(train_samples)\n",
    "test_X, test_y = create_samples(test_samples)\n"
   ]
  },
  {
   "cell_type": "markdown",
   "metadata": {},
   "source": [
    "### Build model"
   ]
  },
  {
   "cell_type": "code",
   "execution_count": 5,
   "metadata": {},
   "outputs": [],
   "source": [
    "model = tf.keras.models.Sequential([\n",
    "    tf.keras.layers.Dense(3, input_shape = (2,), activation = tf.nn.sigmoid),\n",
    "    tf.keras.layers.Dense(1, activation = tf.nn.sigmoid)\n",
    "])\n",
    "\n",
    "model.compile(\n",
    "    optimizer = tf.keras.optimizers.SGD(lr=2.0), #tf.keras.optimizers.Adam(lr=2.0),\n",
    "    loss = 'binary_crossentropy', #tf.keras.losses.MeanSquaredError(),\n",
    "    metrics = [tf.keras.metrics.BinaryAccuracy()] #tf.keras.metrics.Accuracy()]\n",
    ")"
   ]
  },
  {
   "cell_type": "markdown",
   "metadata": {},
   "source": [
    "### Train model"
   ]
  },
  {
   "cell_type": "code",
   "execution_count": 6,
   "metadata": {},
   "outputs": [],
   "source": [
    "train_time = 0\n",
    "train_loss = 0\n",
    "train_acc = 0\n",
    "\n",
    "test_time = 0\n",
    "test_loss = 0\n",
    "test_acc = 0\n",
    "\n",
    "run_nums = 10\n",
    "\n",
    "for _ in range(run_nums):\n",
    "    \n",
    "    # create dataset\n",
    "    train_X, train_y = create_samples(train_samples)\n",
    "    test_X, test_y = create_samples(test_samples)    ## train model\n",
    "    \n",
    "    # create model\n",
    "    model = tf.keras.models.Sequential([\n",
    "        tf.keras.layers.Dense(3, input_shape = (2,), activation = tf.nn.sigmoid),\n",
    "        tf.keras.layers.Dense(1, activation = tf.nn.sigmoid)\n",
    "    ])\n",
    "    model.compile(\n",
    "        optimizer = tf.keras.optimizers.SGD(lr=1.0), #tf.keras.optimizers.Adam(lr=1.0),\n",
    "        loss = 'binary_crossentropy', #tf.keras.losses.MeanSquaredError(),\n",
    "        metrics = [tf.keras.metrics.BinaryAccuracy()] #tf.keras.metrics.Accuracy()]\n",
    "    )\n",
    "    \n",
    "    # train model\n",
    "    time_start = time.time()\n",
    "    result = model.fit(\n",
    "        train_X, train_y, \n",
    "        batch_size=1000, \n",
    "        epochs=1000,\n",
    "        verbose=False\n",
    "    )\n",
    "    train_time += time.time()-time_start\n",
    "    train_loss += result.history['loss'][-1]\n",
    "    train_acc += result.history['binary_accuracy'][-1]\n",
    "    \n",
    "    # test model\n",
    "    time_start = time.time()\n",
    "    model.evaluate(test_X, test_y, \n",
    "                   verbose=False\n",
    "    )\n",
    "    test_time += time.time()-time_start\n",
    "    test_loss += result.history['loss'][-1]\n",
    "    test_acc += result.history['binary_accuracy'][-1]"
   ]
  },
  {
   "cell_type": "code",
   "execution_count": 7,
   "metadata": {},
   "outputs": [],
   "source": [
    "train_time /= run_nums\n",
    "train_loss /= run_nums\n",
    "train_acc /= run_nums\n",
    "\n",
    "test_time /= run_nums\n",
    "test_loss /= run_nums\n",
    "test_acc /= run_nums\n"
   ]
  },
  {
   "cell_type": "markdown",
   "metadata": {},
   "source": [
    "### Results"
   ]
  },
  {
   "cell_type": "code",
   "execution_count": 8,
   "metadata": {},
   "outputs": [
    {
     "name": "stdout",
     "output_type": "stream",
     "text": [
      "# Train\n",
      "loss \t:\t 0.048971309885382654\n",
      "acc \t:\t 0.9863999962806702\n",
      "time \t:\t 5.306302833557129\n",
      "\n",
      "# Test\n",
      "loss \t:\t 0.048971309885382654\n",
      "acc \t:\t 0.9863999962806702\n",
      "time \t:\t 0.22518510818481446\n"
     ]
    }
   ],
   "source": [
    "print('# Train')\n",
    "print('loss \\t:\\t', train_loss)\n",
    "print('acc \\t:\\t', train_acc)\n",
    "print('time \\t:\\t', train_time)\n",
    "\n",
    "print('\\n# Test')\n",
    "print('loss \\t:\\t', test_loss)\n",
    "print('acc \\t:\\t', test_acc)\n",
    "print('time \\t:\\t', test_time)"
   ]
  },
  {
   "cell_type": "code",
   "execution_count": null,
   "metadata": {},
   "outputs": [],
   "source": []
  },
  {
   "cell_type": "code",
   "execution_count": null,
   "metadata": {},
   "outputs": [],
   "source": []
  }
 ],
 "metadata": {
  "kernelspec": {
   "display_name": "Python [conda env:tf2] *",
   "language": "python",
   "name": "conda-env-tf2-py"
  },
  "language_info": {
   "codemirror_mode": {
    "name": "ipython",
    "version": 3
   },
   "file_extension": ".py",
   "mimetype": "text/x-python",
   "name": "python",
   "nbconvert_exporter": "python",
   "pygments_lexer": "ipython3",
   "version": "3.7.5"
  }
 },
 "nbformat": 4,
 "nbformat_minor": 4
}
