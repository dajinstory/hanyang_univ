{
 "cells": [
  {
   "cell_type": "markdown",
   "metadata": {},
   "source": [
    "# Import Libraries"
   ]
  },
  {
   "cell_type": "code",
   "execution_count": 18,
   "metadata": {},
   "outputs": [],
   "source": [
    "from abc import *\n",
    "import numpy as np\n",
    "import pandas as pd\n",
    "import time\n",
    "\n",
    "np.random.seed(97)"
   ]
  },
  {
   "cell_type": "markdown",
   "metadata": {},
   "source": [
    "# 0. Node"
   ]
  },
  {
   "cell_type": "code",
   "execution_count": 23,
   "metadata": {},
   "outputs": [],
   "source": [
    "class Node:\n",
    "    \n",
    "    def __init__(self, DIM=(1,2)):\n",
    "        self.DIM = DIM\n",
    "        self.w = np.zeros(self.DIM, dtype=np.float64)\n",
    "        self.b = 0\n",
    "\n",
    "    def forward(self, X):\n",
    "        MIN_MARGIN = 2 ** -53\n",
    "\n",
    "        self.z = np.dot(self.w, X.T) + self.b\n",
    "        self.a = 1 / (1 + np.exp(-self.z))\n",
    "        self.a = np.maximum(np.minimum(1 - MIN_MARGIN, self.a), MIN_MARGIN)\n",
    "        return self.a\n",
    "\n",
    "    def backward(self, X, y):\n",
    "        da = -y / self.a + (1 - y) / (1 - self.a) #(1,100)\n",
    "        dz = self.a * (1 - self.a) * da           #(1,100)\n",
    "        dw = np.mean(X * dz.T, 0)                 #(2)\n",
    "        db = np.mean(1 * dz)                      #()\n",
    "        return dw, db\n",
    "\n",
    "    def train(self, X, y, learning_rate):\n",
    "        self.forward(X)\n",
    "        dw, db = self.backward(X, y)\n",
    "        self.w -= learning_rate * dw\n",
    "        self.b -= learning_rate * db\n",
    "\n",
    "    def loss(self, X, y):\n",
    "        pred_y = self.forward(X)\n",
    "        return -np.mean(y * np.log(pred_y) + (1 - y) * np.log(1 - pred_y))\n"
   ]
  },
  {
   "cell_type": "markdown",
   "metadata": {},
   "source": [
    "# 1. Layer"
   ]
  },
  {
   "cell_type": "code",
   "execution_count": 20,
   "metadata": {},
   "outputs": [],
   "source": [
    "class Layer(metaclass=ABCMeta):\n",
    "    \n",
    "    def forward(self, X):\n",
    "        print(\"forward process...\")\n",
    "    \n",
    "    def backward(self, X, y):\n",
    "        print(\"backward process...\")\n",
    "    \n",
    "    def loss(self, X, y):\n",
    "        pred_y = self.forward(X)\n",
    "        return -np.mean(y * np.log(pred_y) + (1 - y) * np.log(1 - pred_y))\n"
   ]
  },
  {
   "cell_type": "markdown",
   "metadata": {},
   "source": [
    "# 2. Interface of neural network"
   ]
  },
  {
   "cell_type": "code",
   "execution_count": 24,
   "metadata": {},
   "outputs": [],
   "source": [
    "class Network:\n",
    "    def __init__(self, layers):\n",
    "        self.layers = layers\n",
    "    \n",
    "    def forward(self):\n",
    "        for layer in layers:\n",
    "            layer.forward()\n",
    "    \n",
    "    def backward(self):\n",
    "        for layer in self.layers.reversed():\n",
    "            layer.backward()\n",
    "    \n",
    "    def predict(self, X):\n",
    "        return np.round(self.forward(X))"
   ]
  },
  {
   "cell_type": "markdown",
   "metadata": {},
   "source": [
    "# Train Model"
   ]
  },
  {
   "cell_type": "code",
   "execution_count": 12,
   "metadata": {},
   "outputs": [],
   "source": [
    "def create_samples(sample_num):\n",
    "    X = np.random.uniform(-10, 10, (sample_num, 2))\n",
    "    y = (np.prod(X, 1) >0)\n",
    "    return X, y\n"
   ]
  },
  {
   "cell_type": "code",
   "execution_count": 13,
   "metadata": {},
   "outputs": [],
   "source": [
    "def train(train_samples, test_samples, learning_rate, epochs, option='NULL'):\n",
    "    \n",
    "    # model = Model([BinaryClassifier((1,2))])\n",
    "    classifier = BinaryClassifier((1,2))\n",
    "    train_X, train_y = create_samples(train_samples)\n",
    "    test_X, test_y = create_samples(test_samples)\n",
    "\n",
    "    for epoch in range(epochs):\n",
    "        classifier.train(train_X, train_y, learning_rate)\n",
    "        if option == 'print':\n",
    "            print('\\nepoch #' + str(epoch+1))\n",
    "            print('w :' + str(classifier.w.reshape((1,2))))\n",
    "            print('b : ' + str(classifier.b))\n",
    "            \n",
    "    return {'w': classifier.w.reshape((1,2)), \n",
    "            'b': classifier.b,\n",
    "            'train_loss': classifier.loss(train_X, train_y),\n",
    "            'test_loss': classifier.loss(test_X, test_y),\n",
    "            'train_acc': 100 * np.mean(classifier.predict(train_X) == train_y),\n",
    "            'test_acc': 100 * np.mean(classifier.predict(test_X) == test_y)}"
   ]
  },
  {
   "cell_type": "code",
   "execution_count": 14,
   "metadata": {},
   "outputs": [],
   "source": [
    "def train_elementwise(train_samples, test_samples, learning_rate, epochs, option='NULL'):\n",
    "    \n",
    "    # model = Model([BinaryClassifier((1,2))])\n",
    "    classifier = BinaryClassifierElementwise((1,2))\n",
    "    train_X, train_y = create_samples(train_samples)\n",
    "    test_X, test_y = create_samples(test_samples)\n",
    "\n",
    "    for epoch in range(epochs):\n",
    "        classifier.train(train_X, train_y, learning_rate)\n",
    "        if option == 'print':\n",
    "            print('\\nepoch #' + str(epoch+1))\n",
    "            print('w :' + str(classifier.w.reshape((1,2))))\n",
    "            print('b : ' + str(classifier.b))\n",
    "                \n",
    "    return {'w': classifier.w.reshape((1,2)), \n",
    "            'b': classifier.b,\n",
    "            'train_loss': classifier.loss(train_X, train_y),\n",
    "            'test_loss': classifier.loss(test_X, test_y),\n",
    "            'train_acc': 100 * np.mean(classifier.predict(train_X) == train_y),\n",
    "            'test_acc': 100 * np.mean(classifier.predict(test_X) == test_y)}"
   ]
  },
  {
   "cell_type": "code",
   "execution_count": 15,
   "metadata": {},
   "outputs": [
    {
     "ename": "TypeError",
     "evalue": "The numpy boolean negative, the `-` operator, is not supported, use the `~` operator or the logical_not function instead.",
     "output_type": "error",
     "traceback": [
      "\u001b[0;31m---------------------------------------------------------------------------\u001b[0m",
      "\u001b[0;31mTypeError\u001b[0m                                 Traceback (most recent call last)",
      "\u001b[0;32m<ipython-input-15-3c97f0325710>\u001b[0m in \u001b[0;36m<module>\u001b[0;34m\u001b[0m\n\u001b[1;32m      4\u001b[0m \u001b[0mepochs\u001b[0m \u001b[0;34m=\u001b[0m \u001b[0;36m100\u001b[0m \u001b[0;31m# K\u001b[0m\u001b[0;34m\u001b[0m\u001b[0;34m\u001b[0m\u001b[0m\n\u001b[1;32m      5\u001b[0m \u001b[0;34m\u001b[0m\u001b[0m\n\u001b[0;32m----> 6\u001b[0;31m \u001b[0mtrain\u001b[0m\u001b[0;34m(\u001b[0m\u001b[0mtrain_samples\u001b[0m\u001b[0;34m,\u001b[0m \u001b[0mtest_samples\u001b[0m\u001b[0;34m,\u001b[0m \u001b[0mlearning_rate\u001b[0m\u001b[0;34m,\u001b[0m \u001b[0mepochs\u001b[0m\u001b[0;34m)\u001b[0m\u001b[0;34m\u001b[0m\u001b[0;34m\u001b[0m\u001b[0m\n\u001b[0m",
      "\u001b[0;32m<ipython-input-13-d9d27a2886d8>\u001b[0m in \u001b[0;36mtrain\u001b[0;34m(train_samples, test_samples, learning_rate, epochs, option)\u001b[0m\n\u001b[1;32m      7\u001b[0m \u001b[0;34m\u001b[0m\u001b[0m\n\u001b[1;32m      8\u001b[0m     \u001b[0;32mfor\u001b[0m \u001b[0mepoch\u001b[0m \u001b[0;32min\u001b[0m \u001b[0mrange\u001b[0m\u001b[0;34m(\u001b[0m\u001b[0mepochs\u001b[0m\u001b[0;34m)\u001b[0m\u001b[0;34m:\u001b[0m\u001b[0;34m\u001b[0m\u001b[0;34m\u001b[0m\u001b[0m\n\u001b[0;32m----> 9\u001b[0;31m         \u001b[0mclassifier\u001b[0m\u001b[0;34m.\u001b[0m\u001b[0mtrain\u001b[0m\u001b[0;34m(\u001b[0m\u001b[0mtrain_X\u001b[0m\u001b[0;34m,\u001b[0m \u001b[0mtrain_y\u001b[0m\u001b[0;34m,\u001b[0m \u001b[0mlearning_rate\u001b[0m\u001b[0;34m)\u001b[0m\u001b[0;34m\u001b[0m\u001b[0;34m\u001b[0m\u001b[0m\n\u001b[0m\u001b[1;32m     10\u001b[0m         \u001b[0;32mif\u001b[0m \u001b[0moption\u001b[0m \u001b[0;34m==\u001b[0m \u001b[0;34m'print'\u001b[0m\u001b[0;34m:\u001b[0m\u001b[0;34m\u001b[0m\u001b[0;34m\u001b[0m\u001b[0m\n\u001b[1;32m     11\u001b[0m             \u001b[0mprint\u001b[0m\u001b[0;34m(\u001b[0m\u001b[0;34m'\\nepoch #'\u001b[0m \u001b[0;34m+\u001b[0m \u001b[0mstr\u001b[0m\u001b[0;34m(\u001b[0m\u001b[0mepoch\u001b[0m\u001b[0;34m+\u001b[0m\u001b[0;36m1\u001b[0m\u001b[0;34m)\u001b[0m\u001b[0;34m)\u001b[0m\u001b[0;34m\u001b[0m\u001b[0;34m\u001b[0m\u001b[0m\n",
      "\u001b[0;32m<ipython-input-11-c86cf4f00a4a>\u001b[0m in \u001b[0;36mtrain\u001b[0;34m(self, X, y, learning_rate)\u001b[0m\n\u001b[1;32m     23\u001b[0m     \u001b[0;32mdef\u001b[0m \u001b[0mtrain\u001b[0m\u001b[0;34m(\u001b[0m\u001b[0mself\u001b[0m\u001b[0;34m,\u001b[0m \u001b[0mX\u001b[0m\u001b[0;34m,\u001b[0m \u001b[0my\u001b[0m\u001b[0;34m,\u001b[0m \u001b[0mlearning_rate\u001b[0m\u001b[0;34m)\u001b[0m\u001b[0;34m:\u001b[0m\u001b[0;34m\u001b[0m\u001b[0;34m\u001b[0m\u001b[0m\n\u001b[1;32m     24\u001b[0m         \u001b[0mself\u001b[0m\u001b[0;34m.\u001b[0m\u001b[0mforward\u001b[0m\u001b[0;34m(\u001b[0m\u001b[0mX\u001b[0m\u001b[0;34m)\u001b[0m\u001b[0;34m\u001b[0m\u001b[0;34m\u001b[0m\u001b[0m\n\u001b[0;32m---> 25\u001b[0;31m         \u001b[0mdw\u001b[0m\u001b[0;34m,\u001b[0m \u001b[0mdb\u001b[0m \u001b[0;34m=\u001b[0m \u001b[0mself\u001b[0m\u001b[0;34m.\u001b[0m\u001b[0mbackward\u001b[0m\u001b[0;34m(\u001b[0m\u001b[0mX\u001b[0m\u001b[0;34m,\u001b[0m \u001b[0my\u001b[0m\u001b[0;34m)\u001b[0m\u001b[0;34m\u001b[0m\u001b[0;34m\u001b[0m\u001b[0m\n\u001b[0m\u001b[1;32m     26\u001b[0m         \u001b[0mself\u001b[0m\u001b[0;34m.\u001b[0m\u001b[0mw\u001b[0m \u001b[0;34m-=\u001b[0m \u001b[0mlearning_rate\u001b[0m \u001b[0;34m*\u001b[0m \u001b[0mdw\u001b[0m\u001b[0;34m\u001b[0m\u001b[0;34m\u001b[0m\u001b[0m\n\u001b[1;32m     27\u001b[0m         \u001b[0mself\u001b[0m\u001b[0;34m.\u001b[0m\u001b[0mb\u001b[0m \u001b[0;34m-=\u001b[0m \u001b[0mlearning_rate\u001b[0m \u001b[0;34m*\u001b[0m \u001b[0mdb\u001b[0m\u001b[0;34m\u001b[0m\u001b[0;34m\u001b[0m\u001b[0m\n",
      "\u001b[0;32m<ipython-input-11-c86cf4f00a4a>\u001b[0m in \u001b[0;36mbackward\u001b[0;34m(self, X, y)\u001b[0m\n\u001b[1;32m     15\u001b[0m \u001b[0;34m\u001b[0m\u001b[0m\n\u001b[1;32m     16\u001b[0m     \u001b[0;32mdef\u001b[0m \u001b[0mbackward\u001b[0m\u001b[0;34m(\u001b[0m\u001b[0mself\u001b[0m\u001b[0;34m,\u001b[0m \u001b[0mX\u001b[0m\u001b[0;34m,\u001b[0m \u001b[0my\u001b[0m\u001b[0;34m)\u001b[0m\u001b[0;34m:\u001b[0m\u001b[0;34m\u001b[0m\u001b[0;34m\u001b[0m\u001b[0m\n\u001b[0;32m---> 17\u001b[0;31m         \u001b[0mda\u001b[0m \u001b[0;34m=\u001b[0m \u001b[0;34m-\u001b[0m\u001b[0my\u001b[0m \u001b[0;34m/\u001b[0m \u001b[0mself\u001b[0m\u001b[0;34m.\u001b[0m\u001b[0ma\u001b[0m \u001b[0;34m+\u001b[0m \u001b[0;34m(\u001b[0m\u001b[0;36m1\u001b[0m \u001b[0;34m-\u001b[0m \u001b[0my\u001b[0m\u001b[0;34m)\u001b[0m \u001b[0;34m/\u001b[0m \u001b[0;34m(\u001b[0m\u001b[0;36m1\u001b[0m \u001b[0;34m-\u001b[0m \u001b[0mself\u001b[0m\u001b[0;34m.\u001b[0m\u001b[0ma\u001b[0m\u001b[0;34m)\u001b[0m \u001b[0;31m#(1,100)\u001b[0m\u001b[0;34m\u001b[0m\u001b[0;34m\u001b[0m\u001b[0m\n\u001b[0m\u001b[1;32m     18\u001b[0m         \u001b[0mdz\u001b[0m \u001b[0;34m=\u001b[0m \u001b[0mself\u001b[0m\u001b[0;34m.\u001b[0m\u001b[0ma\u001b[0m \u001b[0;34m*\u001b[0m \u001b[0;34m(\u001b[0m\u001b[0;36m1\u001b[0m \u001b[0;34m-\u001b[0m \u001b[0mself\u001b[0m\u001b[0;34m.\u001b[0m\u001b[0ma\u001b[0m\u001b[0;34m)\u001b[0m \u001b[0;34m*\u001b[0m \u001b[0mda\u001b[0m           \u001b[0;31m#(1,100)\u001b[0m\u001b[0;34m\u001b[0m\u001b[0;34m\u001b[0m\u001b[0m\n\u001b[1;32m     19\u001b[0m         \u001b[0mdw\u001b[0m \u001b[0;34m=\u001b[0m \u001b[0mnp\u001b[0m\u001b[0;34m.\u001b[0m\u001b[0mmean\u001b[0m\u001b[0;34m(\u001b[0m\u001b[0mX\u001b[0m \u001b[0;34m*\u001b[0m \u001b[0mdz\u001b[0m\u001b[0;34m.\u001b[0m\u001b[0mT\u001b[0m\u001b[0;34m,\u001b[0m \u001b[0;36m0\u001b[0m\u001b[0;34m)\u001b[0m                 \u001b[0;31m#(2)\u001b[0m\u001b[0;34m\u001b[0m\u001b[0;34m\u001b[0m\u001b[0m\n",
      "\u001b[0;31mTypeError\u001b[0m: The numpy boolean negative, the `-` operator, is not supported, use the `~` operator or the logical_not function instead."
     ]
    }
   ],
   "source": [
    "train_samples = 100 # m\n",
    "test_samples = 100 # n\n",
    "learning_rate = 1e-2\n",
    "epochs = 100 # K\n",
    "\n",
    "train(train_samples, test_samples, learning_rate, epochs)\n"
   ]
  },
  {
   "cell_type": "markdown",
   "metadata": {},
   "source": [
    "# Time Comparison"
   ]
  },
  {
   "cell_type": "markdown",
   "metadata": {},
   "source": [
    "### vector version"
   ]
  },
  {
   "cell_type": "code",
   "execution_count": 8,
   "metadata": {},
   "outputs": [
    {
     "name": "stdout",
     "output_type": "stream",
     "text": [
      "0.014817476272583008\n",
      "{'w': array([[0.38266354, 0.43251565]]), 'b': -0.02747253406561454, 'train_loss': 0.17816258634077775, 'test_loss': 0.16564797215229432, 'train_acc': 99.0, 'test_acc': 100.0}\n"
     ]
    }
   ],
   "source": [
    "start=time.time()\n",
    "result_vector = train(train_samples, test_samples, learning_rate, epochs)\n",
    "print(time.time()-start)\n",
    "print(result_vector)"
   ]
  }
 ],
 "metadata": {
  "kernelspec": {
   "display_name": "Python [conda env:pytorch]",
   "language": "python",
   "name": "conda-env-pytorch-py"
  },
  "language_info": {
   "codemirror_mode": {
    "name": "ipython",
    "version": 3
   },
   "file_extension": ".py",
   "mimetype": "text/x-python",
   "name": "python",
   "nbconvert_exporter": "python",
   "pygments_lexer": "ipython3",
   "version": "3.7.6"
  }
 },
 "nbformat": 4,
 "nbformat_minor": 4
}
