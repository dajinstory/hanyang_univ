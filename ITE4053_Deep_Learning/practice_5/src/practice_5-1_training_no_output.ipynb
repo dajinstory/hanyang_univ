{
 "cells": [
  {
   "cell_type": "markdown",
   "metadata": {},
   "source": [
    "# Import Libraries"
   ]
  },
  {
   "cell_type": "code",
   "execution_count": null,
   "metadata": {},
   "outputs": [],
   "source": [
    "import numpy as np\n",
    "import tensorflow as tf\n",
    "import keras"
   ]
  },
  {
   "cell_type": "code",
   "execution_count": null,
   "metadata": {},
   "outputs": [],
   "source": [
    "import matplotlib.pyplot as plt\n",
    "from PIL import Image\n",
    "import cv2\n",
    "import seaborn\n",
    "\n",
    "import os\n"
   ]
  },
  {
   "cell_type": "markdown",
   "metadata": {},
   "source": [
    "# Load Dataset :    CIFAR-10, noisy_image"
   ]
  },
  {
   "cell_type": "markdown",
   "metadata": {},
   "source": [
    "#### - Load dataset"
   ]
  },
  {
   "cell_type": "code",
   "execution_count": null,
   "metadata": {},
   "outputs": [],
   "source": [
    "(x_train, _), (x_test, _) = tf.keras.datasets.cifar10.load_data()\n",
    "\n",
    "x_train, x_test = x_train/255.0, x_test/255.0       # pre-processing: scaling\n",
    "y_train, y_test = x_train, x_test\n",
    "\n",
    "plt.imshow(x_train[0])"
   ]
  },
  {
   "cell_type": "markdown",
   "metadata": {},
   "source": [
    "#### - Load Noisy image ( targe image )"
   ]
  },
  {
   "cell_type": "code",
   "execution_count": null,
   "metadata": {},
   "outputs": [],
   "source": [
    "noisy_image_im = Image.open('../data/noisy.png')\n",
    "noisy_image = np.array(noisy_image_im)/255.0\n",
    "\n",
    "plt.imshow(noisy_image_im), plt.show()"
   ]
  },
  {
   "cell_type": "markdown",
   "metadata": {},
   "source": [
    "# Setting NN models"
   ]
  },
  {
   "cell_type": "markdown",
   "metadata": {},
   "source": [
    "#### - Noisy neural network"
   ]
  },
  {
   "cell_type": "code",
   "execution_count": null,
   "metadata": {},
   "outputs": [],
   "source": [
    "noiseNN = tf.keras.models.Sequential([\n",
    "    tf.keras.layers.GaussianNoise(0.1, input_shape=(32,32,3)),\n",
    "])\n",
    "\n",
    "tensor_input = tf.keras.layers.Input((32,32,3, ), name='anchor_input')\n",
    "noisy_input = noiseNN(tensor_input)"
   ]
  },
  {
   "cell_type": "markdown",
   "metadata": {},
   "source": [
    "#### - Setting learning rate..."
   ]
  },
  {
   "cell_type": "code",
   "execution_count": null,
   "metadata": {},
   "outputs": [],
   "source": [
    "learning_rate = 1e-4\n",
    "\n",
    "if not os.path.isdir(str(learning_rate)):\n",
    "       os.makedirs(os.path.join(str(learning_rate)))"
   ]
  },
  {
   "cell_type": "markdown",
   "metadata": {},
   "source": [
    "#### - Check performance of prediction from trained model"
   ]
  },
  {
   "cell_type": "code",
   "execution_count": null,
   "metadata": {},
   "outputs": [],
   "source": [
    "def restore_image(trained_model, image):\n",
    "    input_shape = (32,32,3)\n",
    "    for row_idx in range(int(image.shape[0]/input_shape[0])):\n",
    "        for col_idx in range(int(image.shape[1]/input_shape[1])):\n",
    "            row_s = input_shape[0] * row_idx\n",
    "            col_s = input_shape[1] * col_idx\n",
    "            row_e = row_s + input_shape[0]\n",
    "            col_e = col_s + input_shape[1]\n",
    "            image_slice = image[row_s:row_e, col_s:col_e,:]\n",
    "            \n",
    "            \n",
    "            restored_slice = trained_model.predict(np.array([image_slice]))[0]\n",
    "            if col_idx == 0:\n",
    "                restored_partition = restored_slice\n",
    "            else:\n",
    "                restored_partition = np.concatenate((restored_partition, restored_slice), axis=1)\n",
    "\n",
    "        if row_idx == 0:\n",
    "            restored_image = restored_partition\n",
    "        else:\n",
    "            restored_image = np.concatenate((restored_image, restored_partition), axis=0)\n",
    "                \n",
    "    return restored_image\n",
    "        "
   ]
  },
  {
   "cell_type": "markdown",
   "metadata": {},
   "source": [
    "## a) Model #1"
   ]
  },
  {
   "cell_type": "markdown",
   "metadata": {},
   "source": [
    "#### - Build model"
   ]
  },
  {
   "cell_type": "code",
   "execution_count": null,
   "metadata": {},
   "outputs": [],
   "source": [
    "model_core = tf.keras.models.Sequential([\n",
    "    tf.keras.layers.Conv2D(64, (3,3), input_shape=(32,32,3), padding='same', activation=tf.nn.relu),\n",
    "    tf.keras.layers.Conv2D(64, (3,3), padding='same', activation=tf.nn.relu),\n",
    "    tf.keras.layers.Conv2D(64, (3,3), padding='same', activation=tf.nn.relu),\n",
    "    tf.keras.layers.Conv2D(64, (3,3), padding='same', activation=tf.nn.relu),\n",
    "    tf.keras.layers.Conv2D(3, (3,3), padding='same')\n",
    "])\n",
    "\n",
    "restored_output = model_core(noisy_input)\n",
    "model = tf.keras.models.Model(inputs=tensor_input, outputs=restored_output)\n",
    "\n",
    "model.compile(\n",
    "    optimizer = tf.keras.optimizers.Adam(lr=learning_rate),\n",
    "    loss = tf.keras.losses.MeanSquaredError(),\n",
    "    metrics = [tf.keras.metrics.Accuracy()]\n",
    ")\n",
    "\n",
    "model.summary()"
   ]
  },
  {
   "cell_type": "markdown",
   "metadata": {},
   "source": [
    "#### - Train model and save it"
   ]
  },
  {
   "cell_type": "code",
   "execution_count": null,
   "metadata": {},
   "outputs": [],
   "source": [
    "callback = tf.keras.callbacks.EarlyStopping(monitor='val_loss', patience=5)\n",
    "\n",
    "# train model\n",
    "result = model.fit(\n",
    "    x_train, y_train, \n",
    "    batch_size = 32, \n",
    "    epochs = 100,\n",
    "    shuffle = True,\n",
    "    verbose = True,\n",
    "    validation_data = (x_test, y_test),\n",
    "    #callbacks=[callback]\n",
    ")\n",
    "\n",
    "# save model\n",
    "model_core.save_weights(str(learning_rate)+'/model1.hdf5')"
   ]
  },
  {
   "cell_type": "markdown",
   "metadata": {},
   "source": [
    "#### - Show results"
   ]
  },
  {
   "cell_type": "code",
   "execution_count": null,
   "metadata": {},
   "outputs": [],
   "source": [
    "# load model\n",
    "#model_core.load_weights('trained_models/epoch_100/'+str(learning_rate)+'/model1.hdf5')\n",
    "model_core.load_weights(str(learning_rate)+'/model1.hdf5')\n",
    "\n",
    "# predict\n",
    "restored_image = restore_image(model_core, noisy_image)\n",
    "\n",
    "# convert to uint8 format\n",
    "restored_image *= 255.0\n",
    "restored_image = restored_image.astype(np.uint8)\n",
    "\n",
    "# save it\n",
    "image_name = str(learning_rate)+'/Model1.png'\n",
    "restored_image_im = Image.fromarray(restored_image)\n",
    "restored_image_im.save(image_name)\n",
    "\n",
    "# show results\n",
    "fig = plt.figure(figsize=(40,20))\n",
    "ax1 = fig.add_subplot(1,2,1)\n",
    "ax1.imshow(noisy_image_im), ax1.set_title('noisy_image', fontsize=40)\n",
    "ax2 = fig.add_subplot(1,2,2)\n",
    "ax2.imshow(restored_image_im), ax2.set_title('model1', fontsize=40)"
   ]
  },
  {
   "cell_type": "markdown",
   "metadata": {},
   "source": [
    "### Model #2"
   ]
  },
  {
   "cell_type": "markdown",
   "metadata": {},
   "source": [
    "#### - Build model"
   ]
  },
  {
   "cell_type": "code",
   "execution_count": null,
   "metadata": {},
   "outputs": [],
   "source": [
    "model_core = tf.keras.models.Sequential([\n",
    "    tf.keras.layers.Conv2D(64, (3,3), input_shape=(32,32,3), padding='same', activation=tf.nn.relu),\n",
    "    tf.keras.layers.Conv2D(64, (3,3), padding='same', activation=tf.nn.relu),\n",
    "    tf.keras.layers.Conv2D(64, (3,3), padding='same', activation=tf.nn.relu),\n",
    "    tf.keras.layers.Conv2D(64, (3,3), padding='same', activation=tf.nn.relu),\n",
    "    tf.keras.layers.Conv2D(3, (3,3), padding='same')\n",
    "])\n",
    "\n",
    "restored_output = model_core(noisy_input) + noisy_input\n",
    "model = tf.keras.models.Model(inputs=tensor_input, outputs=restored_output)\n",
    "\n",
    "model.compile(\n",
    "    optimizer = tf.keras.optimizers.Adam(lr=learning_rate),\n",
    "    loss = tf.keras.losses.MeanSquaredError(),\n",
    "    metrics = [tf.keras.metrics.Accuracy()]\n",
    ")\n",
    "\n",
    "model.summary()"
   ]
  },
  {
   "cell_type": "markdown",
   "metadata": {},
   "source": [
    "#### - Train model and save it"
   ]
  },
  {
   "cell_type": "code",
   "execution_count": null,
   "metadata": {},
   "outputs": [],
   "source": [
    "callback = tf.keras.callbacks.EarlyStopping(monitor='val_loss', patience=5)\n",
    "\n",
    "# train model\n",
    "result = model.fit(\n",
    "    x_train, y_train, \n",
    "    batch_size = 32, \n",
    "    epochs = 100,\n",
    "    shuffle = True,\n",
    "    verbose = True,\n",
    "    validation_data = (x_test, y_test),\n",
    "    #callbacks=[callback]\n",
    ")\n",
    "\n",
    "# save model\n",
    "model_core.save_weights(str(learning_rate)+'/model2.hdf5')"
   ]
  },
  {
   "cell_type": "markdown",
   "metadata": {},
   "source": [
    "#### - Show results"
   ]
  },
  {
   "cell_type": "code",
   "execution_count": null,
   "metadata": {},
   "outputs": [],
   "source": [
    "# load model\n",
    "#model_core.load_weights('trained_models/epoch_100/'+str(learning_rate)+'/model2.hdf5')\n",
    "model_core.load_weights(str(learning_rate)+'/model2.hdf5')\n",
    "\n",
    "# predict\n",
    "restored_image = noisy_image + restore_image(model_core, noisy_image)\n",
    "\n",
    "# convert to uint8 format\n",
    "restored_image *= 255.0\n",
    "restored_image = restored_image.astype(np.uint8)\n",
    "\n",
    "# save it\n",
    "image_name = str(learning_rate)+'/Model2.png'\n",
    "restored_image_im = Image.fromarray(restored_image)\n",
    "restored_image_im.save(image_name)\n",
    "\n",
    "# show results\n",
    "fig = plt.figure(figsize=(40,20))\n",
    "ax1 = fig.add_subplot(1,2,1)\n",
    "ax1.imshow(noisy_image_im), ax1.set_title('noisy_image', fontsize=40)\n",
    "ax2 = fig.add_subplot(1,2,2)\n",
    "ax2.imshow(restored_image_im), ax2.set_title('model2', fontsize=40)"
   ]
  },
  {
   "cell_type": "markdown",
   "metadata": {},
   "source": [
    "### Model #3"
   ]
  },
  {
   "cell_type": "markdown",
   "metadata": {},
   "source": [
    "#### - Build model"
   ]
  },
  {
   "cell_type": "code",
   "execution_count": null,
   "metadata": {},
   "outputs": [],
   "source": [
    "model_core = tf.keras.models.Sequential([\n",
    "    tf.keras.layers.Conv2D(64, (3,3), input_shape=(32,32,3), padding='same'),\n",
    "    tf.keras.layers.BatchNormalization(),\n",
    "    tf.keras.layers.Activation('relu'),\n",
    "    tf.keras.layers.Conv2D(64, (3,3), padding='same'),\n",
    "    tf.keras.layers.BatchNormalization(),\n",
    "    tf.keras.layers.Activation('relu'),\n",
    "    tf.keras.layers.Conv2D(64, (3,3), padding='same'),\n",
    "    tf.keras.layers.BatchNormalization(),\n",
    "    tf.keras.layers.Activation('relu'),\n",
    "    tf.keras.layers.Conv2D(64, (3,3), padding='same'),\n",
    "    tf.keras.layers.BatchNormalization(),\n",
    "    tf.keras.layers.Activation('relu'),    \n",
    "    tf.keras.layers.Conv2D(3, (3,3), padding='same')\n",
    "])\n",
    "\n",
    "restored_output = model_core(noisy_input) + noisy_input\n",
    "model = tf.keras.models.Model(inputs=tensor_input, outputs=restored_output)\n",
    "\n",
    "model.compile(\n",
    "    optimizer = tf.keras.optimizers.Adam(lr=learning_rate),\n",
    "    loss = tf.keras.losses.MeanSquaredError(),\n",
    "    metrics = [tf.keras.metrics.Accuracy()]\n",
    ")\n",
    "\n",
    "model.summary()"
   ]
  },
  {
   "cell_type": "markdown",
   "metadata": {},
   "source": [
    "#### - Train model and save it"
   ]
  },
  {
   "cell_type": "code",
   "execution_count": null,
   "metadata": {},
   "outputs": [],
   "source": [
    "callback = tf.keras.callbacks.EarlyStopping(monitor='val_loss', patience=5)\n",
    "\n",
    "# train model\n",
    "result = model.fit(\n",
    "    x_train, y_train, \n",
    "    batch_size = 32, \n",
    "    epochs = 100,\n",
    "    shuffle = True,\n",
    "    verbose = True,\n",
    "    validation_data = (x_test, y_test),\n",
    "    #callbacks=[callback]\n",
    ")\n",
    "\n",
    "# save model\n",
    "model_core.save_weights(str(learning_rate)+'/model3.hdf5')"
   ]
  },
  {
   "cell_type": "markdown",
   "metadata": {},
   "source": [
    "#### - Show results"
   ]
  },
  {
   "cell_type": "code",
   "execution_count": null,
   "metadata": {},
   "outputs": [],
   "source": [
    "# load model\n",
    "#model_core.load_weights('trained_models/epoch_100/'+str(learning_rate)+'/model3.hdf5')\n",
    "model_core.load_weights(str(learning_rate)+'/model3.hdf5')\n",
    "\n",
    "# predict\n",
    "restored_image = noisy_image + restore_image(model_core, noisy_image)\n",
    "\n",
    "# convert to uint8 format\n",
    "restored_image *= 255.0\n",
    "restored_image = restored_image.astype(np.uint8)\n",
    "\n",
    "# save it\n",
    "image_name = str(learning_rate)+'/Model3.png'\n",
    "restored_image_im = Image.fromarray(restored_image)\n",
    "restored_image_im.save(image_name)\n",
    "\n",
    "# show results\n",
    "fig = plt.figure(figsize=(40,20))\n",
    "ax1 = fig.add_subplot(1,2,1)\n",
    "ax1.imshow(noisy_image_im), ax1.set_title('noisy_image', fontsize=40)\n",
    "ax2 = fig.add_subplot(1,2,2)\n",
    "ax2.imshow(restored_image_im), ax2.set_title('model3', fontsize=40)"
   ]
  },
  {
   "cell_type": "markdown",
   "metadata": {},
   "source": [
    "# Compare Results"
   ]
  },
  {
   "cell_type": "code",
   "execution_count": null,
   "metadata": {},
   "outputs": [],
   "source": [
    "restored_image_1 = Image.open(str(learning_rate)+'/Model1.png')\n",
    "restored_image_2 = Image.open(str(learning_rate)+'/Model2.png')\n",
    "restored_image_3 = Image.open(str(learning_rate)+'/Model3.png')\n",
    "\n",
    "fig = plt.figure(figsize=(40,40))\n",
    "ax1 = fig.add_subplot(2,2,1)\n",
    "ax1.imshow(noisy_image), ax1.set_title('noisy_image', fontsize=40)\n",
    "ax2 = fig.add_subplot(2,2,2)\n",
    "ax2.imshow(restored_image_1), ax2.set_title('model1', fontsize=40)\n",
    "ax3 = fig.add_subplot(2,2,3)\n",
    "ax3.imshow(restored_image_2), ax3.set_title('model2', fontsize=40)\n",
    "ax4 = fig.add_subplot(2,2,4)\n",
    "ax4.imshow(restored_image_3), ax4.set_title('model3', fontsize=40)\n"
   ]
  },
  {
   "cell_type": "code",
   "execution_count": null,
   "metadata": {},
   "outputs": [],
   "source": []
  }
 ],
 "metadata": {
  "kernelspec": {
   "display_name": "Python [conda env:tf2] *",
   "language": "python",
   "name": "conda-env-tf2-py"
  },
  "language_info": {
   "codemirror_mode": {
    "name": "ipython",
    "version": 3
   },
   "file_extension": ".py",
   "mimetype": "text/x-python",
   "name": "python",
   "nbconvert_exporter": "python",
   "pygments_lexer": "ipython3",
   "version": "3.6.9"
  }
 },
 "nbformat": 4,
 "nbformat_minor": 4
}
