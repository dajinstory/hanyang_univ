{
 "cells": [
  {
   "cell_type": "markdown",
   "metadata": {},
   "source": [
    "### Import Libraries"
   ]
  },
  {
   "cell_type": "code",
   "execution_count": 1,
   "metadata": {},
   "outputs": [],
   "source": [
    "import numpy as np\n",
    "from PIL import Image"
   ]
  },
  {
   "cell_type": "markdown",
   "metadata": {},
   "source": [
    "### Predefined Function"
   ]
  },
  {
   "cell_type": "code",
   "execution_count": 2,
   "metadata": {},
   "outputs": [],
   "source": [
    "def show_np_arr(np_arr):#np_arr should be 2-dim\n",
    "    tmp = np_arr\n",
    "    tmp = (tmp - np.min(tmp))/(np.max(tmp) - np.min(tmp))\n",
    "    tmp = np.clip(255*tmp, 0, 255)\n",
    "    tmp = Image.fromarray(np.uint8(tmp)).convert('RGB')\n",
    "    tmp.show()  \n",
    "    \n",
    "def show_top_K_np_arr(np_arr, K):#np_arr should be 2-dim\n",
    "    tmp = np_arr[:K]\n",
    "    tmp = (tmp - np.min(tmp))/(np.max(tmp) - np.min(tmp))\n",
    "    tmp = np.clip(255*tmp, 0, 255)\n",
    "    tmp = tmp.reshape(K*28, 28)\n",
    "    tmp = Image.fromarray(np.uint8(tmp)).convert('RGB')\n",
    "    tmp.show()  \n",
    "    \n",
    "def show_top_40_np_arr(np_arr, filename):#np_arr should be 2-dim\n",
    "    R=5\n",
    "    C=8\n",
    "    img = []\n",
    "    for r in range(R):\n",
    "        for c in range(C):\n",
    "            tmp = np_arr[r*C+c]\n",
    "            tmp = (tmp - np.min(tmp))/(np.max(tmp) - np.min(tmp))\n",
    "            tmp = np.clip(255*tmp, 0, 255)\n",
    "            tmp = tmp.reshape(28, 28)\n",
    "            if c == 0:\n",
    "                row_img = tmp\n",
    "            else:\n",
    "                row_img = np.concatenate((row_img, tmp), axis=1)\n",
    "        if r==0:\n",
    "            img = row_img\n",
    "        else:\n",
    "            img = np.concatenate((img, row_img), axis=0)\n",
    "   \n",
    "    \n",
    "    img = Image.fromarray(np.uint8(img)).convert('RGB')\n",
    "    img.save(filename)\n",
    "    img.show()\n"
   ]
  },
  {
   "cell_type": "markdown",
   "metadata": {},
   "source": [
    "### Load and pre-process dataset"
   ]
  },
  {
   "cell_type": "code",
   "execution_count": 3,
   "metadata": {},
   "outputs": [
    {
     "name": "stdout",
     "output_type": "stream",
     "text": [
      "(300, 28, 28) (28, 28)\n"
     ]
    }
   ],
   "source": [
    "x_train = np.load(\"./x_train.npy\")/255.\n",
    "y_train = np.load(\"./y_train.npy\")\n",
    "x_test = x_train[2]\n",
    "\n",
    "idx = np.argsort(y_train)\n",
    "x_train = x_train[idx]\n",
    "x_train = x_train[::200]\n",
    "print(x_train.shape, x_test.shape)"
   ]
  },
  {
   "cell_type": "markdown",
   "metadata": {},
   "source": [
    "# Q1. Eigenface"
   ]
  },
  {
   "cell_type": "markdown",
   "metadata": {},
   "source": [
    "A : phi_flatten   \n",
    "v : eigenvec"
   ]
  },
  {
   "cell_type": "markdown",
   "metadata": {},
   "source": [
    "### step1: compute mean of x_train"
   ]
  },
  {
   "cell_type": "code",
   "execution_count": 4,
   "metadata": {},
   "outputs": [
    {
     "name": "stdout",
     "output_type": "stream",
     "text": [
      "Shape of eigen vectors =  (784, 784)\n",
      "K :  45\n"
     ]
    },
    {
     "name": "stderr",
     "output_type": "stream",
     "text": [
      "/Users/dajinhan/opt/anaconda3/lib/python3.7/site-packages/ipykernel_launcher.py:5: ComplexWarning: Casting complex values to real discards the imaginary part\n",
      "  \"\"\"\n"
     ]
    }
   ],
   "source": [
    "### step1: compute mean of x_train\n",
    "mu = np.mean(x_train, axis=0)\n",
    "\n",
    "### step2: subtract the mean\n",
    "phi = x_train - mu\n",
    "phi_flatten = phi.reshape(phi.shape[0], -1)\n",
    "\n",
    "### step3: compute covariance C\n",
    "C = np.cov(phi_flatten.T)\n",
    "\n",
    "### step4: Compute eigenvector of C, you don't need to do anything at step4.\n",
    "eigenvalues, eigenvec = np.linalg.eig(C)\n",
    "eigenvec = eigenvec.T\n",
    "### Normalize eigenvec\n",
    "# for r, e in enumerate(eigenvec):\n",
    "#     eigenvec[r] /= np.sqrt(np.sum(e**2))\n",
    "print(\"Shape of eigen vectors = \",eigenvec.shape)\n",
    "\n",
    "### step5: choose K\n",
    "ratio = 0\n",
    "preserved_info_ratio = []\n",
    "for eigenvalue in eigenvalues:\n",
    "    ratio += eigenvalue\n",
    "    preserved_info_ratio.append(ratio)\n",
    "preserved_info_ratio /= np.sum(eigenvalues)\n",
    "\n",
    "K = np.sum(preserved_info_ratio < 0.85)\n",
    "print(\"K : \",K)\n",
    "\n",
    "### step6: show top K eigenfaces. use show_np_arr func.\n",
    "show_np_arr(eigenvec[0].reshape(28, 28))\n",
    "#show_top_K_np_arr(eigenvec, K)"
   ]
  },
  {
   "cell_type": "markdown",
   "metadata": {},
   "source": [
    "### Show Top 40 eigenfaces"
   ]
  },
  {
   "cell_type": "code",
   "execution_count": 5,
   "metadata": {},
   "outputs": [
    {
     "name": "stderr",
     "output_type": "stream",
     "text": [
      "/Users/dajinhan/opt/anaconda3/lib/python3.7/site-packages/ipykernel_launcher.py:36: ComplexWarning: Casting complex values to real discards the imaginary part\n"
     ]
    }
   ],
   "source": [
    "show_top_40_np_arr(eigenvec, \"Top_40_EigenVec.png\")"
   ]
  },
  {
   "cell_type": "markdown",
   "metadata": {},
   "source": [
    "# Q2. Image Approximation"
   ]
  },
  {
   "cell_type": "code",
   "execution_count": 6,
   "metadata": {},
   "outputs": [
    {
     "name": "stdout",
     "output_type": "stream",
     "text": [
      "1 (0.07390858899515415+0j)\n",
      "2 (0.06852356306909377+0j)\n",
      "3 (0.06400219432584837+0j)\n",
      "4 (0.06385102221445979+0j)\n",
      "5 (0.06234565715501449+0j)\n",
      "6 (0.06108326682064251+0j)\n",
      "7 (0.05043900807955134+0j)\n",
      "8 (0.049655391781908295+0j)\n",
      "9 (0.048701959703484024+0j)\n",
      "10 (0.04858830733153389+0j)\n",
      "11 (0.04653012248715702+0j)\n",
      "12 (0.04212164803008877+0j)\n",
      "13 (0.04204182635303532+0j)\n",
      "14 (0.03907686702831803+0j)\n",
      "15 (0.039042381507703616+0j)\n",
      "16 (0.03854791619286219+0j)\n",
      "17 (0.036480189142895476+0j)\n",
      "18 (0.036123071867007285+0j)\n",
      "19 (0.03584432515257387+0j)\n",
      "20 (0.03474644924829333+0j)\n",
      "21 (0.03470409638350051+0j)\n",
      "22 (0.03421043327767858+0j)\n",
      "23 (0.033974927446240775+0j)\n",
      "24 (0.033213502743365944+0j)\n",
      "25 (0.03320782503411992+0j)\n",
      "26 (0.03320307416950976+0j)\n",
      "27 (0.03315868315144284+0j)\n",
      "28 (0.033085024336807864+0j)\n",
      "29 (0.03308363664278406+0j)\n",
      "30 (0.03270913478609643+0j)\n",
      "31 (0.0324635813568089+0j)\n",
      "32 (0.03197633904062677+0j)\n",
      "33 (0.03188510079660217+0j)\n",
      "34 (0.03119395565197445+0j)\n",
      "35 (0.030503220053249475+0j)\n",
      "36 (0.030502500741696782+0j)\n",
      "37 (0.030502379148337862+0j)\n",
      "38 (0.0302702007925206+0j)\n",
      "39 (0.029689636692581213+0j)\n",
      "40 (0.02938861348859222+0j)\n",
      "41 (0.02910601163421489+0j)\n",
      "42 (0.029054486657108917+0j)\n",
      "43 (0.028975459475363334+0j)\n",
      "44 (0.028937141178430322+0j)\n",
      "45 (0.028911366317372223+0j)\n"
     ]
    },
    {
     "name": "stderr",
     "output_type": "stream",
     "text": [
      "/Users/dajinhan/opt/anaconda3/lib/python3.7/site-packages/ipykernel_launcher.py:5: ComplexWarning: Casting complex values to real discards the imaginary part\n",
      "  \"\"\"\n"
     ]
    }
   ],
   "source": [
    "x = x_test - mu\n",
    "x_flatten = x.reshape(-1, 1)\n",
    "\n",
    "### step1: approximate x as x_hat with top K eigenfaces and show x_hat\n",
    "projection_matrix = eigenvec[:K]\n",
    "weights = np.dot(projection_matrix, x_flatten)\n",
    "x_hat = mu + np.sum(weights*eigenvec[:K], axis=0).reshape(28, 28)\n",
    "show_np_arr(x_hat)\n",
    "\n",
    "### step2: compare mse between x and x_hat by changing the number of the eigenfaces used for reconstruction (approximation) from 1 to K\n",
    "for k in range(1, K+1):\n",
    "    projection_matrix = eigenvec[:k]\n",
    "    weights = np.dot(projection_matrix, x_flatten)\n",
    "    x_hat = mu + np.sum(weights*eigenvec[:k], axis=0).reshape(28, 28)\n",
    "    \n",
    "    mse = np.mean((x_hat - x_test)**2)\n",
    "    print(k, mse)\n"
   ]
  },
  {
   "cell_type": "markdown",
   "metadata": {},
   "source": [
    "# Q3. Implement fast version of your algorithm in Q1. "
   ]
  },
  {
   "cell_type": "markdown",
   "metadata": {},
   "source": [
    "### Eigenfaces"
   ]
  },
  {
   "cell_type": "code",
   "execution_count": 7,
   "metadata": {},
   "outputs": [
    {
     "name": "stdout",
     "output_type": "stream",
     "text": [
      "Shape of eigen vectors =  (300, 784)\n",
      "K :  46\n"
     ]
    }
   ],
   "source": [
    "### step1: compute mean of x_train\n",
    "mu = np.mean(x_train, axis=0)\n",
    "\n",
    "### step2: subtract the mean\n",
    "phi = x_train - mu\n",
    "phi_flatten = phi.reshape(phi.shape[0], -1)\n",
    "\n",
    "### step3: compute covariance C\n",
    "C = np.cov(phi_flatten)\n",
    "\n",
    "### step4: Compute eigenvector of C, you don't need to do anything at step4.\n",
    "eigenvalues, eigenvec = np.linalg.eig(C)\n",
    "eigenvec = eigenvec.T\n",
    "eigenvec = np.dot(eigenvec, phi_flatten)\n",
    "### Normalize eigenvec\n",
    "for r, e in enumerate(eigenvec):\n",
    "    eigenvec[r] /= np.sqrt(np.sum(e**2))\n",
    "print(\"Shape of eigen vectors = \",eigenvec.shape)\n",
    "\n",
    "### step5: choose K\n",
    "ratio = 0\n",
    "preserved_info_ratio = []\n",
    "for eigenvalue in eigenvalues:\n",
    "    ratio += eigenvalue\n",
    "    preserved_info_ratio.append(ratio)\n",
    "preserved_info_ratio /= np.sum(eigenvalues)\n",
    "\n",
    "K = np.sum(preserved_info_ratio < 0.85)\n",
    "print(\"K : \",K)\n",
    "\n",
    "### step6: show top K eigenfaces. use show_np_arr func.\n",
    "show_np_arr(eigenvec[0].reshape(28, 28))\n",
    "#show_top_K_np_arr(eigenvec, K)"
   ]
  },
  {
   "cell_type": "markdown",
   "metadata": {},
   "source": [
    "### Show Top 40 eigenfaces"
   ]
  },
  {
   "cell_type": "code",
   "execution_count": 8,
   "metadata": {},
   "outputs": [],
   "source": [
    "show_top_40_np_arr(eigenvec, \"Fast_Top_40_EigenVec.png\")"
   ]
  },
  {
   "cell_type": "markdown",
   "metadata": {},
   "source": [
    "### Image Approximation"
   ]
  },
  {
   "cell_type": "code",
   "execution_count": 9,
   "metadata": {},
   "outputs": [
    {
     "name": "stdout",
     "output_type": "stream",
     "text": [
      "1 0.07363495994591424\n",
      "2 0.06882006325568106\n",
      "3 0.06401792979507115\n",
      "4 0.064013272918952\n",
      "5 0.06359953532480139\n",
      "6 0.06255306259692563\n",
      "7 0.051479054967131316\n",
      "8 0.04914419051098041\n",
      "9 0.0489827010541285\n",
      "10 0.04892439752259409\n",
      "11 0.04709908456518811\n",
      "12 0.04275725929977415\n",
      "13 0.042789200018245224\n",
      "14 0.04014823448276668\n",
      "15 0.04012129448791565\n",
      "16 0.039620864653097165\n",
      "17 0.038033663097374396\n",
      "18 0.03749195426377777\n",
      "19 0.036881222115609305\n",
      "20 0.03620561044150005\n",
      "21 0.03627256893063353\n",
      "22 0.03573425838601146\n",
      "23 0.03566323609193089\n",
      "24 0.03484225468251479\n",
      "25 0.03492112921716302\n",
      "26 0.03492824409576505\n",
      "27 0.0348807006021145\n",
      "28 0.0348696092195741\n",
      "29 0.034954415447032414\n",
      "30 0.03468412652396107\n",
      "31 0.03446749421193844\n",
      "32 0.034013486917932996\n",
      "33 0.03394947776565637\n",
      "34 0.033244675145592685\n",
      "35 0.03258358893453086\n",
      "36 0.03263274860792406\n",
      "37 0.03265080291651801\n",
      "38 0.03260378653414392\n",
      "39 0.03198902023319009\n",
      "40 0.031804111541968216\n",
      "41 0.0315678307099898\n",
      "42 0.031542686560984586\n",
      "43 0.031464251295905576\n",
      "44 0.03152509838016462\n",
      "45 0.031527725712152004\n",
      "46 0.0314228499114197\n"
     ]
    }
   ],
   "source": [
    "x = x_test - mu\n",
    "x_flatten = x.reshape(-1, 1)\n",
    "\n",
    "### step1: approximate x as x_hat with top K eigenfaces and show x_hat\n",
    "projection_matrix = eigenvec[:K]\n",
    "weights = np.dot(projection_matrix, x_flatten)\n",
    "x_hat = mu + np.sum(weights*eigenvec[:K], axis=0).reshape(28, 28)\n",
    "show_np_arr(x_hat)\n",
    "\n",
    "### step2: compare mse between x and x_hat by changing the number of the eigenfaces used for reconstruction (approximation) from 1 to K\n",
    "for k in range(1, K+1):\n",
    "    projection_matrix = eigenvec[:k]\n",
    "    weights = np.dot(projection_matrix, x_flatten)\n",
    "    x_hat = mu + np.sum(weights*eigenvec[:k], axis=0).reshape(28, 28)\n",
    "    \n",
    "    mse = np.mean((x_hat - x_test)**2)\n",
    "    print(k, mse)\n"
   ]
  },
  {
   "cell_type": "markdown",
   "metadata": {},
   "source": [
    "# Q4 Time Comparison"
   ]
  },
  {
   "cell_type": "code",
   "execution_count": 10,
   "metadata": {},
   "outputs": [],
   "source": [
    "import time"
   ]
  },
  {
   "cell_type": "markdown",
   "metadata": {},
   "source": [
    "### Q1 algorithm"
   ]
  },
  {
   "cell_type": "code",
   "execution_count": 11,
   "metadata": {},
   "outputs": [
    {
     "name": "stdout",
     "output_type": "stream",
     "text": [
      "Shape of eigen vectors =  (784, 784)\n",
      "K :  45\n",
      "0.2568349838256836\n"
     ]
    }
   ],
   "source": [
    "start = time.time()\n",
    "\n",
    "### step1: compute mean of x_train\n",
    "mu = np.mean(x_train, axis=0)\n",
    "\n",
    "### step2: subtract the mean\n",
    "phi = x_train - mu\n",
    "phi_flatten = phi.reshape(phi.shape[0], -1)\n",
    "\n",
    "### step3: compute covariance C\n",
    "C = np.cov(phi_flatten.T)\n",
    "\n",
    "### step4: Compute eigenvector of C, you don't need to do anything at step4.\n",
    "eigenvalues, eigenvec = np.linalg.eig(C)\n",
    "eigenvec = eigenvec.T\n",
    "### Normalize eigenvec\n",
    "# for r, e in enumerate(eigenvec):\n",
    "#     eigenvec[r] /= np.sqrt(np.sum(e**2))\n",
    "print(\"Shape of eigen vectors = \",eigenvec.shape)\n",
    "\n",
    "### step5: choose K\n",
    "ratio = 0\n",
    "preserved_info_ratio = []\n",
    "for eigenvalue in eigenvalues:\n",
    "    ratio += eigenvalue\n",
    "    preserved_info_ratio.append(ratio)\n",
    "preserved_info_ratio /= np.sum(eigenvalues)\n",
    "\n",
    "K = np.sum(preserved_info_ratio < 0.85)\n",
    "print(\"K : \",K)\n",
    "\n",
    "print(time.time() - start)"
   ]
  },
  {
   "cell_type": "markdown",
   "metadata": {},
   "source": [
    "### Q3 algorithm"
   ]
  },
  {
   "cell_type": "code",
   "execution_count": 12,
   "metadata": {},
   "outputs": [
    {
     "name": "stdout",
     "output_type": "stream",
     "text": [
      "Shape of eigen vectors =  (300, 784)\n",
      "K :  46\n",
      "0.062207937240600586\n"
     ]
    }
   ],
   "source": [
    "start = time.time()\n",
    "\n",
    "### step1: compute mean of x_train\n",
    "mu = np.mean(x_train, axis=0)\n",
    "\n",
    "### step2: subtract the mean\n",
    "phi = x_train - mu\n",
    "phi_flatten = phi.reshape(phi.shape[0], -1)\n",
    "\n",
    "### step3: compute covariance C\n",
    "C = np.cov(phi_flatten)\n",
    "\n",
    "### step4: Compute eigenvector of C, you don't need to do anything at step4.\n",
    "eigenvalues, eigenvec = np.linalg.eig(C)\n",
    "eigenvec = eigenvec.T\n",
    "eigenvec = np.dot(eigenvec, phi_flatten)\n",
    "### Normalize eigenvec\n",
    "for r, e in enumerate(eigenvec):\n",
    "    eigenvec[r] /= np.sqrt(np.sum(e**2))\n",
    "print(\"Shape of eigen vectors = \",eigenvec.shape)\n",
    "\n",
    "### step5: choose K\n",
    "ratio = 0\n",
    "preserved_info_ratio = []\n",
    "for eigenvalue in eigenvalues:\n",
    "    ratio += eigenvalue\n",
    "    preserved_info_ratio.append(ratio)\n",
    "preserved_info_ratio /= np.sum(eigenvalues)\n",
    "\n",
    "K = np.sum(preserved_info_ratio < 0.85)\n",
    "print(\"K : \",K)\n",
    "\n",
    "print(time.time() - start)"
   ]
  }
 ],
 "metadata": {
  "kernelspec": {
   "display_name": "Python 3",
   "language": "python",
   "name": "python3"
  },
  "language_info": {
   "codemirror_mode": {
    "name": "ipython",
    "version": 3
   },
   "file_extension": ".py",
   "mimetype": "text/x-python",
   "name": "python",
   "nbconvert_exporter": "python",
   "pygments_lexer": "ipython3",
   "version": "3.7.6"
  }
 },
 "nbformat": 4,
 "nbformat_minor": 4
}
