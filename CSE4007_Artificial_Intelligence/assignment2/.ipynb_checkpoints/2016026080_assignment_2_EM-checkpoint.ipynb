{
 "cells": [
  {
   "cell_type": "code",
   "execution_count": 20,
   "metadata": {},
   "outputs": [],
   "source": [
    "import random\n",
    "import cv2\n",
    "import math\n",
    "import numpy as np\n",
    "import pandas as pd\n",
    "from konlpy.tag import Twitter\n"
   ]
  },
  {
   "cell_type": "markdown",
   "metadata": {},
   "source": [
    "## Set initial settings of EM algorithm"
   ]
  },
  {
   "cell_type": "code",
   "execution_count": 21,
   "metadata": {},
   "outputs": [],
   "source": [
    "def get_em_idx(parameters, sentence):\n",
    "    num=0\n",
    "    for parameter in parameters:\n",
    "        num*=2\n",
    "        plus=0\n",
    "        for param in parameter:\n",
    "            if param in sentence:\n",
    "                plus=1\n",
    "        num+=plus\n",
    "    return num"
   ]
  },
  {
   "cell_type": "code",
   "execution_count": 22,
   "metadata": {},
   "outputs": [],
   "source": [
    "def make_em_tables(parameters, training_sample):\n",
    "    \n",
    "    ## probability_init.csv\n",
    "    probability_init = [ \n",
    "        {\"condition\":parameter[0],\"probability_from_H\":0.5+(random.random()-0.5)/5,\"probability_from_NH\":0.5+(random.random()-0.5)/5} for parameter in parameters \n",
    "    ]\n",
    "    probability_init_pd = pd.DataFrame(probability_init)\n",
    "    probability_init_pd.to_csv(\"probability_init.csv\")\n",
    "\n",
    "    \n",
    "    ## ptable_init.csv\n",
    "    ptable_init = []\n",
    "    for idx in range(2**len(parameters)):\n",
    "        num=idx\n",
    "        checks=[]\n",
    "        data={}\n",
    "\n",
    "        for i in range(len(parameters)):\n",
    "            checks.append(num%2)\n",
    "            num=int((num-num%2)/2)\n",
    "\n",
    "        for i in range(len(parameters)):\n",
    "            data[parameters[i][0]]=checks[len(parameters)-1-i]\n",
    "        data[\"counts_H\"]=0\n",
    "        data[\"counts_NH\"]=0\n",
    "        data[\"probability_to_H\"]=0.5\n",
    "        data[\"probability_to_NH\"]=0.5\n",
    "        ptable_init.append(data)\n",
    "        \n",
    "        \n",
    "    ## Update information of training data to ptable_init.csv\n",
    "    sample = pd.read_csv(training_sample, \"\\t\")\n",
    "    sample_document = sample['document']\n",
    "    sample_label = sample['label']\n",
    "\n",
    "    for idx in range(sample.shape[0]):\n",
    "        num=0\n",
    "        # remove nan\n",
    "        if sample_document[idx] == sample_document[idx]:\n",
    "            num=get_em_idx(parameters, sample_document[idx])\n",
    "\n",
    "        if sample_label[idx] == 1:\n",
    "            ptable_init[num]['counts_H']+=1\n",
    "        else:\n",
    "            ptable_init[num]['counts_NH']+=1\n",
    "    \n",
    "    for idx in range(len(ptable_init)):\n",
    "        psum=ptable_init[idx]['counts_H']+ptable_init[idx]['counts_NH']\n",
    "        if psum==0:\n",
    "            continue\n",
    "        ptable_init[idx]['probability_to_H']=ptable_init[idx]['counts_H']/psum\n",
    "        ptable_init[idx]['probability_to_NH']=ptable_init[idx]['counts_NH']/psum\n",
    "    \n",
    "    ptable_init_pd = pd.DataFrame(ptable_init)\n",
    "    ptable_init_pd.to_csv(\"ptable_init.csv\")\n",
    "    \n",
    "    return probability_init, ptable_init"
   ]
  },
  {
   "cell_type": "code",
   "execution_count": 23,
   "metadata": {},
   "outputs": [],
   "source": [
    "def train_em_model(parameters, probability, ptable, iteration):\n",
    "    ptable_lookup = pd.DataFrame(ptable)\n",
    "    ptable_counts = pd.DataFrame(ptable)[\"counts_H\"]\n",
    "\n",
    "    H=0.5+(random.random()-0.5)/5\n",
    "    for it in range(iteration):\n",
    "        # update ptable\n",
    "        for idx in range(len(ptable)):\n",
    "            num=idx\n",
    "            hsum=1\n",
    "            nhsum=1\n",
    "            for i in range(len(parameters)):\n",
    "                if num%2 == 1:\n",
    "                    hsum*=probability[i]['probability_from_H']\n",
    "                    nhsum*=probability[i]['probability_from_NH']\n",
    "                else:\n",
    "                    hsum*=1-probability[i]['probability_from_H']\n",
    "                    nhsum*=1-probability[i]['probability_from_NH']\n",
    "                num=int((num-num%2)/2)\n",
    "            ptable[idx]['probability_to_H']=hsum/(hsum+nhsum)\n",
    "            ptable[idx]['probability_to_NH']=1-hsum/(hsum+nhsum)\n",
    "\n",
    "        \n",
    "        # update probability\n",
    "        ptable_p = pd.DataFrame(ptable)[\"probability_to_H\"]\n",
    "        ptable_np = pd.DataFrame(ptable)[\"probability_to_H\"]\n",
    "        \n",
    "        H=(ptable_counts*ptable_p).sum()/ptable_counts.sum()\n",
    "        for idx in range(len(parameters)):\n",
    "            parameter=parameters[idx]\n",
    "            param=parameter[0]\n",
    "            idxs = np.where(ptable_lookup[param]==1)[0].astype(int)\n",
    "            \n",
    "            probability[idx]['probability_from_H'] = (ptable_counts[idxs]*ptable_p[idxs]).sum()/ptable_counts[idxs].sum()\n",
    "            probability[idx]['probability_from_NH'] = (ptable_counts[idxs]*ptable_np[idxs]).sum()/ptable_counts[idxs].sum()\n",
    "        \n",
    "        # scoring to know when to stop training\n",
    "        print(\"iteration : \" + str(it) + \"\\tscore: \" + str(score_em_model(parameters, ptable_p, \"./ratings_data/ratings_valid.txt\")))\n",
    "\n",
    "    ptable_pd = pd.DataFrame(ptable)\n",
    "    ptable_pd.to_csv(\"ptable_trained.csv\")\n",
    "    probability_pd = pd.DataFrame(probability)\n",
    "    probability_pd.to_csv(\"probability_trained.csv\")\n",
    "    return probability, ptable"
   ]
  },
  {
   "cell_type": "code",
   "execution_count": 24,
   "metadata": {},
   "outputs": [],
   "source": [
    "def score_em_model(parameters, ptable_p, validation_sample):\n",
    "    \n",
    "    # load validation data\n",
    "    sample = pd.read_csv(validation_sample, \"\\t\")\n",
    "    sample_document = sample['document']\n",
    "    sample_label = sample['label']\n",
    "    \n",
    "    # scoring\n",
    "    score = 0\n",
    "    for idx in range(len(sample_label)):\n",
    "        sentence = sample_document[idx]\n",
    "        label=1\n",
    "        if sentence == sentence:\n",
    "            num=get_em_idx(parameters, sentence)\n",
    "            if ptable_p[num]<0.5:\n",
    "                label=0\n",
    "        if sample_label[idx] == label:\n",
    "            score+=1\n",
    "    \n",
    "    return score*100/len(sample_label)"
   ]
  },
  {
   "cell_type": "code",
   "execution_count": null,
   "metadata": {},
   "outputs": [],
   "source": [
    "parameters=[\n",
    "    [\"재미\", \"재밋\", \"재밌\", \"꿀잼\"], \n",
    "    [\"감동\", \"슬프\", \"슬퍼\", \"슬픔\", \"멋\", \"멋지\", \"멋짐\", \"멋져\"],\n",
    "    [\"욕\", \"ㅅㅂ\", \"노잼\", \"별로\", \"아니\"]\n",
    "]\n",
    "training_sample = \"./ratings_data/ratings_train.txt\"\n",
    "\n",
    "probability, ptable = make_em_tables(parameters, training_sample)"
   ]
  },
  {
   "cell_type": "code",
   "execution_count": null,
   "metadata": {},
   "outputs": [],
   "source": [
    "trained_probability, trained_ptable = train_em_model(parameters, probability, ptable, 10)"
   ]
  },
  {
   "cell_type": "code",
   "execution_count": null,
   "metadata": {},
   "outputs": [],
   "source": [
    "validation_sample = \"./ratings_data/ratings_valid.txt\"\n",
    "ptable_p = pd.read_csv(\"ptable_init.csv\")['probability_to_H']\n",
    "\n",
    "score = score_em_model(parameters, ptable_p, validation_sample)\n",
    "print(score)"
   ]
  },
  {
   "cell_type": "code",
   "execution_count": null,
   "metadata": {},
   "outputs": [],
   "source": []
  },
  {
   "cell_type": "code",
   "execution_count": null,
   "metadata": {},
   "outputs": [],
   "source": []
  },
  {
   "cell_type": "code",
   "execution_count": null,
   "metadata": {},
   "outputs": [],
   "source": []
  }
 ],
 "metadata": {
  "kernelspec": {
   "display_name": "triplet36",
   "language": "python",
   "name": "triplet36"
  },
  "language_info": {
   "codemirror_mode": {
    "name": "ipython",
    "version": 3
   },
   "file_extension": ".py",
   "mimetype": "text/x-python",
   "name": "python",
   "nbconvert_exporter": "python",
   "pygments_lexer": "ipython3",
   "version": "3.6.9"
  }
 },
 "nbformat": 4,
 "nbformat_minor": 2
}
