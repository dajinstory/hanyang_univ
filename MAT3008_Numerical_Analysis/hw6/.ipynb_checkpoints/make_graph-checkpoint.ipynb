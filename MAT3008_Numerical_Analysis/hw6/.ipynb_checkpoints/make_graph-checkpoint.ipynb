{
 "cells": [
  {
   "cell_type": "code",
   "execution_count": 1,
   "metadata": {},
   "outputs": [],
   "source": [
    "import pandas as pd\n",
    "import matplotlib.pyplot as plt"
   ]
  },
  {
   "cell_type": "code",
   "execution_count": 2,
   "metadata": {},
   "outputs": [],
   "source": [
    "for func in ['Gaussian Distribution', 'Uniform Distribution']:\n",
    "    for samples in [100]\n",
    "df=pd.read_csv('distributions/Gaussian Distribution_100_100.csv')"
   ]
  },
  {
   "cell_type": "code",
   "execution_count": 3,
   "metadata": {},
   "outputs": [
    {
     "name": "stdout",
     "output_type": "stream",
     "text": [
      "       x  cnt\n",
      "0  -6.50    0\n",
      "1  -6.38    0\n",
      "2  -6.26    0\n",
      "3  -6.14    0\n",
      "4  -6.02    0\n",
      "..   ...  ...\n",
      "95  4.90    0\n",
      "96  5.02    0\n",
      "97  5.14    0\n",
      "98  5.26    0\n",
      "99  5.38    0\n",
      "\n",
      "[100 rows x 2 columns]\n"
     ]
    }
   ],
   "source": [
    "print(df)"
   ]
  },
  {
   "cell_type": "code",
   "execution_count": null,
   "metadata": {},
   "outputs": [],
   "source": []
  }
 ],
 "metadata": {
  "kernelspec": {
   "display_name": "triplet36",
   "language": "python",
   "name": "triplet36"
  },
  "language_info": {
   "codemirror_mode": {
    "name": "ipython",
    "version": 3
   },
   "file_extension": ".py",
   "mimetype": "text/x-python",
   "name": "python",
   "nbconvert_exporter": "python",
   "pygments_lexer": "ipython3",
   "version": "3.6.9"
  }
 },
 "nbformat": 4,
 "nbformat_minor": 2
}
