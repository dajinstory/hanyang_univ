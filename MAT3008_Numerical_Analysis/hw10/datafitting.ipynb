{
 "cells": [
  {
   "cell_type": "code",
   "execution_count": 374,
   "metadata": {},
   "outputs": [],
   "source": [
    "import sys\n",
    "import cv2\n",
    "import numpy as np\n",
    "import numpy.linalg as lin\n",
    "import math\n",
    "from PIL import Image\n",
    "import matplotlib\n",
    "from matplotlib import pyplot as plt"
   ]
  },
  {
   "cell_type": "code",
   "execution_count": 375,
   "metadata": {},
   "outputs": [],
   "source": [
    "distThresh=30\n",
    "divisor=1.0"
   ]
  },
  {
   "cell_type": "markdown",
   "metadata": {},
   "source": [
    "## Matched KeyPoint"
   ]
  },
  {
   "cell_type": "code",
   "execution_count": 376,
   "metadata": {},
   "outputs": [],
   "source": [
    "def MatchedKeyPoint(img1, img2):\n",
    "\n",
    "    # Initiate ORB detector\n",
    "    orb = cv2.ORB_create()\n",
    "    \n",
    "    kp1, des1 = orb.detectAndCompute(img1,None)\n",
    "    kp2, des2 = orb.detectAndCompute(img2,None) \n",
    "\n",
    "    ## bf matchi g with norm hamming\n",
    "    bf = cv2.BFMatcher(cv2.NORM_HAMMING, crossCheck=True)\n",
    "    matches = bf.match(des1, des2)\n",
    "    matches = sorted(matches, key=lambda x:x.distance)\n",
    "    \n",
    "    ## filter some matches with far difference\n",
    "    for item in matches:\n",
    "        if item.distance>distThresh:\n",
    "            matches.remove(item)\n",
    "    \n",
    "    ## return pairs\n",
    "    Left=[]\n",
    "    Right=[]\n",
    "    for idx in range(len(matches)):\n",
    "        Left.append(kp1[matches[idx].queryIdx].pt)\n",
    "        Right.append(kp2[matches[idx].trainIdx].pt)\n",
    "\n",
    "    return Left, Right"
   ]
  },
  {
   "cell_type": "markdown",
   "metadata": {},
   "source": [
    "## Hessian Function"
   ]
  },
  {
   "cell_type": "code",
   "execution_count": 377,
   "metadata": {},
   "outputs": [],
   "source": [
    "def make_Hessians(a1,b1,c1, a2,b2,c2, p,q, Left,Right):\n",
    "    H_x=np.array([[0.0 for _ in range(5)] for __ in range(5)])\n",
    "    H_y=np.array([[0.0 for _ in range(5)] for __ in range(5)])\n",
    "    for i in range(5):\n",
    "        for j in range(5):\n",
    "            H_x[i][j]=sums(i,j,a1,b1,c1,p,q,Left,Right)\n",
    "            H_y[i][j]=sums(i,j,a2,b2,c2,p,q,Left,Right)\n",
    "    return H_x, H_y"
   ]
  },
  {
   "cell_type": "code",
   "execution_count": 378,
   "metadata": {},
   "outputs": [],
   "source": [
    "def g(a,b,c,x,y):\n",
    "    return a*x+b*y+c\n",
    "def f(p,q,x,y):\n",
    "    return p*x+q*y+1\n",
    "\n",
    "def _p(a,b,c,p,q,x,y, use_value=None, rf=0,rg=0):\n",
    "    global f,g\n",
    "    if not use_value:\n",
    "        rf=f(p,q,x,y)\n",
    "        rg=g(a,b,c,x,y)\n",
    "    return -x*rf/rg/rg\n",
    "            \n",
    "def _q(a,b,c,p,q,x,y, use_value=None, rf=0,rg=0):\n",
    "    global f,g\n",
    "    if not use_value:\n",
    "        rf=f(p,q,x,y)\n",
    "        rg=g(a,b,c,x,y)    \n",
    "    return -y*rf/rg/rg\n",
    "\n",
    "def _a(a,b,c,p,q,x,y, use_value=None, rf=0,rg=0):\n",
    "    global f,g\n",
    "    if not use_value:\n",
    "        rf=f(p,q,x,y)\n",
    "        rg=g(a,b,c,x,y)\n",
    "    return x/rg\n",
    "\n",
    "def _b(a,b,c,p,q,x,y, use_value=None, rf=0,rg=0):\n",
    "    global f,g\n",
    "    if not use_value:\n",
    "        rf=f(p,q,x,y)\n",
    "        rg=g(a,b,c,x,y)\n",
    "    return y/rg\n",
    "\n",
    "def _c(a,b,c,p,q,x,y, use_value=None, rf=0,rg=0):\n",
    "    global f,g\n",
    "    if not use_value:\n",
    "        rf=f(p,q,x,y)\n",
    "        rg=g(a,b,c,x,y)    \n",
    "    return 1/rg\n",
    "\n",
    "funcs=[_a,_b,_c,_p,_q]\n",
    "\n",
    "def sums(i,j,a,b,c,p,q,Left,Right):\n",
    "    global funcs, divisor\n",
    "    re = 0.0  \n",
    "    for idx in range(len(Left)):\n",
    "        re+=funcs[i](a,b,c,p,q,Left[idx][0],Left[idx][1])*funcs[j](a,b,c,p,q,Left[idx][0],Left[idx][1])\n",
    "    return re*2/divisor/divisor"
   ]
  },
  {
   "cell_type": "code",
   "execution_count": 379,
   "metadata": {},
   "outputs": [],
   "source": [
    "def get_gradients(a1,b1,c1,a2,b2,c2, p,q, Left,Right):\n",
    "    global funcs, divisor,f,g\n",
    "    gradient_x=[0.0 for _ in range(5)]\n",
    "    gradient_y=[0.0 for _ in range(5)]\n",
    "    for idx in range(len(Left)):\n",
    "        x=Left[idx][0]\n",
    "        y=Left[idx][1]\n",
    "        nx=Right[idx][0]\n",
    "        ny=Right[idx][1]\n",
    "        rf=f(p,q,x,y)\n",
    "        rg1=g(a1,b1,c1,x,y)\n",
    "        rg2=g(a2,b2,c2,x,y)\n",
    "        dx = nx - rg1/rf\n",
    "        dy = ny - rg2/rf\n",
    "        for gidx in range(5):\n",
    "            gradient_x[gidx]+=dx*funcs[gidx](a1,b1,c1,p,q,x,y,\"USE\",rf,rg1)\n",
    "            gradient_y[gidx]+=dy*funcs[gidx](a2,b2,c2,p,q,x,y,\"USE\",rf,rg2)\n",
    "    \n",
    "    for gidx in range(5):\n",
    "        gradient_x[gidx]*=-2\n",
    "        gradient_x[gidx]/=divisor\n",
    "        gradient_x[gidx]/=divisor\n",
    "        gradient_y[gidx]*=-2\n",
    "        gradient_y[gidx]/=divisor\n",
    "        gradient_y[gidx]/=divisor\n",
    "            \n",
    "    return np.array(gradient_x), np.array(gradient_y)\n",
    "\n",
    "def get_errors(a1,b1,c1,a2,b2,c2, p,q, Left,Right):\n",
    "    global divisor,f,g\n",
    "    error_x=0.0\n",
    "    error_y=0.0\n",
    "    \n",
    "    for idx in range(len(Left)):\n",
    "        x=Left[idx][0]\n",
    "        y=Left[idx][1]\n",
    "        nx=Right[idx][0]\n",
    "        ny=Right[idx][1]\n",
    "        rf=f(p,q,x,y)\n",
    "        rg1=g(a1,b1,c1,x,y)\n",
    "        rg2=g(a2,b2,c2,x,y)\n",
    "        dx = nx - rg1/rf\n",
    "        dy = ny - rg2/rf\n",
    "        error_x+=dx*dx\n",
    "        error_y+=dy*dy\n",
    "\n",
    "    error_x/=divisor\n",
    "    error_x/=divisor\n",
    "    #error_x/=len(Left)\n",
    "    error_y/=divisor\n",
    "    error_y/=divisor\n",
    "    #error_y/=len(Left)\n",
    "    return error_x, error_y"
   ]
  },
  {
   "cell_type": "code",
   "execution_count": 380,
   "metadata": {},
   "outputs": [],
   "source": [
    "img1 = cv2.imread('./data/goodLeft.jpg',0)\n",
    "img2 = cv2.imread('./data/goodRight.jpg',0)\n",
    "Left, Right = MatchedKeyPoint(img1, img2)"
   ]
  },
  {
   "cell_type": "markdown",
   "metadata": {},
   "source": [
    "#### Initial State"
   ]
  },
  {
   "cell_type": "code",
   "execution_count": 381,
   "metadata": {},
   "outputs": [
    {
     "name": "stdout",
     "output_type": "stream",
     "text": [
      "-124.05545417158119 -15.373537303049327\n",
      "1555.0468759468215\n",
      "124.84481260593287\n",
      "388054.98005568626\n"
     ]
    }
   ],
   "source": [
    "x_trans=0.0\n",
    "y_trans=0.0\n",
    "for idx in range(len(Left)):\n",
    "    x_trans+=Right[idx][0]-Left[idx][0]\n",
    "    y_trans+=Right[idx][1]-Left[idx][1]\n",
    "x_trans/=len(Left)\n",
    "y_trans/=len(Left)\n",
    "  \n",
    "print(x_trans, y_trans)\n",
    "    \n",
    "a1=1.0\n",
    "b1=0.0\n",
    "c1=x_trans\n",
    "a2=0.0\n",
    "b2=1.0\n",
    "c2=y_trans\n",
    "p=0.0\n",
    "q=0.0\n",
    "\n",
    "\n",
    "error_x, error_y = get_errors(a1,b1,c1,a2,b2,c2,p,q,Left,Right)\n",
    "print(error_x/len(Left))\n",
    "print(error_y/len(Left))\n",
    "print(error_x+error_y)"
   ]
  },
  {
   "cell_type": "markdown",
   "metadata": {},
   "source": [
    "#### Epoch"
   ]
  },
  {
   "cell_type": "code",
   "execution_count": 382,
   "metadata": {},
   "outputs": [
    {
     "name": "stdout",
     "output_type": "stream",
     "text": [
      "30 388054.98005568626 with 1e+61\n",
      "29 388054.98005568626 with 1e+61\n",
      "28 388054.98005568626 with 1e+61\n",
      "27 388054.98005568626 with 1e+61\n",
      "26 388054.98005568626 with 1e+61\n",
      "25 388054.98005568626 with 1e+61\n",
      "24 388054.98005568626 with 1e+61\n",
      "23 388054.98005568626 with 1e+61\n",
      "22 388054.98005568626 with 1e+61\n",
      "21 388054.98005568626 with 1e+61\n",
      "20 388054.98005568626 with 1e+61\n",
      "19 388054.98005568626 with 1e+61\n",
      "18 388054.98005568626 with 1e+61\n",
      "17 388054.98005568626 with 1e+61\n",
      "16 388054.98005568626 with 1e+61\n",
      "15 388054.98005568626 with 1e+61\n",
      "14 388054.98005568626 with 1e+61\n",
      "13 388054.98005568626 with 1e+61\n",
      "12 388054.98005568626 with 1e+61\n",
      "11 388054.98005568626 with 1e+61\n",
      "10 388054.98005568626 with 1e+61\n",
      "9 388054.98005568626 with 1e+61\n",
      "8 388054.98005568626 with 1e+61\n",
      "7 388054.98005568626 with 1e+61\n",
      "6 388054.98005568626 with 1e+61\n",
      "5 388054.98005568626 with 1e+61\n",
      "4 388054.98005568626 with 1e+61\n",
      "3 388054.98005568626 with 1e+61\n",
      "2 388054.98005568626 with 1e+61\n",
      "1 388054.98005568626 with 1e+61\n",
      "1.0 4.566287264681681e-56 -124.05545417158119 2.011020068602191e-57 1.0 -15.373537303049327 -4.885428347332785e-58 -1.1262773215120785e-57\n"
     ]
    }
   ],
   "source": [
    "epoch=30\n",
    "Nlambda=10e+3\n",
    "Mulambda=10\n",
    "\n",
    "while epoch>0:\n",
    "    H_x,H_y = make_Hessians(a1,b1,c1,a2,b2,c2,p,q,Left,Right)\n",
    "    gradient_x, gradient_y = get_gradients(a1,b1,c1,a2,b2,c2, p,q, Left,Right)\n",
    "    error_x, error_y = get_errors(a1,b1,c1,a2,b2,c2,p,q,Left,Right)\n",
    "    flag=0\n",
    "    #Nlambda=10e+6\n",
    "    #print(gradient_x)\n",
    "    while True:\n",
    "        RH_x=lin.inv(H_x+np.eye(5)*Nlambda)\n",
    "        RH_y=lin.inv(H_y+np.eye(5)*Nlambda)\n",
    "\n",
    "        if np.linalg.det(RH_x)>1 and np.linalg.det(RH_y)>1:\n",
    "            RH_x/=np.linalg.det(RH_x)**(1/5)\n",
    "            RH_y/=np.linalg.det(RH_y)**(1/5)\n",
    "\n",
    "        re_x=np.dot(RH_x,gradient_x)\n",
    "        re_y=np.dot(RH_y,gradient_y)\n",
    "\n",
    "        na1=a1-re_x[0]\n",
    "        nb1=b1-re_x[1]\n",
    "        nc1=c1-re_x[2]\n",
    "\n",
    "        na2=a2-re_y[0]\n",
    "        nb2=b2-re_y[1]\n",
    "        nc2=c2-re_y[2]\n",
    "\n",
    "        nnp=p-(re_x[3]+re_y[3])/2\n",
    "        nnq=q-(re_x[4]+re_y[4])/2\n",
    "        \n",
    "        Nerror_x, Nerror_y = get_errors(na1,nb1,nc1,na2,nb2,nc2,nnp,nnq,Left,Right)\n",
    "        #print(Nerror_x+Nerror_y, error_x+error_y, Nlambda)\n",
    "        if Nerror_x+Nerror_y>=error_x+error_y:\n",
    "            Nlambda*=Mulambda\n",
    "            if Nlambda>10e60:\n",
    "                Nlambda=10e60\n",
    "                break\n",
    "        else:\n",
    "            Nlambda/=Mulambda\n",
    "            if Nlambda<10e-60:\n",
    "                Nlambda=10e-60\n",
    "            break\n",
    "            \n",
    "    if epoch%1 == 0:\n",
    "        print('{} {} with {}\\n'.format(epoch, Nerror_x+Nerror_y,Nlambda), end='')\n",
    "        #print(a1,b1,c1,a2,b2,c2,p,q)\n",
    "        #print(re_x)\n",
    "        sys.stdout.flush()\n",
    "    \n",
    "    a1=na1\n",
    "    b1=nb1\n",
    "    c1=nc1\n",
    "    a2=na2\n",
    "    b2=nb2\n",
    "    c2=nc2\n",
    "    p=nnp\n",
    "    q=nnq\n",
    "    epoch-=1\n",
    "\n",
    "print(a1,b1,c1,a2,b2,c2,p,q)\n",
    "    "
   ]
  },
  {
   "cell_type": "code",
   "execution_count": 383,
   "metadata": {},
   "outputs": [
    {
     "name": "stdout",
     "output_type": "stream",
     "text": [
      "1555.0468759468215\n",
      "124.84481260593287\n",
      "1.0 4.566287264681681e-56 -124.05545417158119 2.011020068602191e-57 1.0 -15.373537303049327 -4.885428347332785e-58 -1.1262773215120785e-57\n"
     ]
    }
   ],
   "source": [
    "error_x, error_y = get_errors(a1,b1,c1,a2,b2,c2,p,q,Left,Right)\n",
    "print(error_x/len(Left))\n",
    "print(error_y/len(Left))\n",
    "print(a1,b1,c1,a2,b2,c2,p,q)"
   ]
  },
  {
   "cell_type": "markdown",
   "metadata": {},
   "source": [
    "### Results"
   ]
  },
  {
   "cell_type": "code",
   "execution_count": 384,
   "metadata": {},
   "outputs": [],
   "source": [
    "# Initiate ORB detector\n",
    "orb = cv2.ORB_create()\n",
    "\n",
    "kp1, des1 = orb.detectAndCompute(img1,None)\n",
    "kp2, des2 = orb.detectAndCompute(img2,None) \n",
    "\n",
    "img1 = cv2.drawKeypoints(img1, kp1, None)\n",
    "img2 = cv2.drawKeypoints(img2, kp2, None)\n",
    "\n",
    "bf = cv2.BFMatcher(cv2.NORM_HAMMING, crossCheck=True)\n",
    "matches = bf.match(des1, des2)\n",
    "matches = sorted(matches, key=lambda x:x.distance)\n",
    "img3 = cv2.drawMatches(img1, kp1, img2, kp2, matches[:30], None, flags=2)\n",
    "#plt.figure(figsize=(20,10))\n",
    "#plt.imshow(img3)\n",
    "matplotlib.image.imsave(\"imgs/result_training_sample.jpg\",img3)\n"
   ]
  },
  {
   "cell_type": "code",
   "execution_count": 385,
   "metadata": {},
   "outputs": [],
   "source": [
    "for idx in range(len(matches)):\n",
    "    x,y=kp1[matches[idx].queryIdx].pt\n",
    "    kp2[matches[idx].trainIdx].pt=(g(a1,b1,c1,x,y)/f(p,q,x,y), g(a2,b2,c2,x,y)/f(p,q,x,y))\n",
    "    \n",
    "img3 = cv2.drawMatches(img1, kp1, img2, kp2, matches[:30], None, flags=2)\n",
    "#plt.figure(figsize=(20,10))\n",
    "#plt.imshow(img3)\n",
    "matplotlib.image.imsave(\"imgs/result_mine.jpg\",img3)\n"
   ]
  },
  {
   "cell_type": "code",
   "execution_count": null,
   "metadata": {},
   "outputs": [],
   "source": []
  }
 ],
 "metadata": {
  "kernelspec": {
   "display_name": "Python [conda env:thrift]",
   "language": "python",
   "name": "conda-env-thrift-py"
  },
  "language_info": {
   "codemirror_mode": {
    "name": "ipython",
    "version": 3
   },
   "file_extension": ".py",
   "mimetype": "text/x-python",
   "name": "python",
   "nbconvert_exporter": "python",
   "pygments_lexer": "ipython3",
   "version": "3.6.9"
  }
 },
 "nbformat": 4,
 "nbformat_minor": 2
}
