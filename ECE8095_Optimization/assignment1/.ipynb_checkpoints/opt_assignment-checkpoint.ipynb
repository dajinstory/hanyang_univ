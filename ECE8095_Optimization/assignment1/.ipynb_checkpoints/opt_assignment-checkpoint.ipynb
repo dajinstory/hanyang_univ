{
 "cells": [
  {
   "cell_type": "markdown",
   "id": "e1221003",
   "metadata": {},
   "source": [
    "# Import Libraries"
   ]
  },
  {
   "cell_type": "code",
   "execution_count": 1,
   "id": "4ee39c7f",
   "metadata": {},
   "outputs": [],
   "source": [
    "import numpy as np"
   ]
  },
  {
   "cell_type": "markdown",
   "id": "ece79401",
   "metadata": {},
   "source": [
    "# Optimizer - MAX"
   ]
  },
  {
   "cell_type": "code",
   "execution_count": 2,
   "id": "5cc34b82",
   "metadata": {},
   "outputs": [],
   "source": [
    "class Optimizer:\n",
    " \n",
    "    def __init__(self, problem, init_alpha=1.0, beta=1e-4, rho=0.5, epsilon=1e-6):\n",
    "        self.problem = problem         # problem to optimize\n",
    "        self.init_alpha = init_alpha   # init_alpha to control step_size\n",
    "        self.beta = beta               \n",
    "        self.rho = rho                 # parameter to be multiplied to alpha\n",
    "        self.epsilon = epsilon         # very small number to check if there is a significant change\n",
    "    \n",
    "    def optimize(self, x):\n",
    "        while True:\n",
    "            df = self.problem.df(x)\n",
    "            alpha = self.init_alpha\n",
    "            \n",
    "            # Stopping Criterion 1.\n",
    "            if abs(np.dot(df, alpha*df)) < self.epsilon:\n",
    "                # No significant gradient on current point\n",
    "                break\n",
    "            \n",
    "            # Find next_x (= current_x + vector)\n",
    "            # Direction of vector is df, and size of vector is calculated below\n",
    "            # Decrease alpha until next_x satisfying all conditions\n",
    "            while True:\n",
    "                p = df\n",
    "                nx = x + alpha*p\n",
    "                \n",
    "                # Check if next_x is satisfying x's constraints\n",
    "                if self.problem.check_constraints(nx):\n",
    "                    # Check if next_x is satisfying Armijo's rule\n",
    "                    if not self.problem.f(nx) <= self.problem.f(x) + alpha*self.beta*np.dot(p, df):\n",
    "                        break\n",
    "                alpha *= self.rho\n",
    "            \n",
    "            # Stopping Criterion 2.\n",
    "            if np.sqrt(np.dot(nx-x, nx-x)) < self.epsilon:\n",
    "                # Edge case that maximum point is on the edge of domain\n",
    "                # Judge that the point is converged\n",
    "                x = nx\n",
    "                break\n",
    "                \n",
    "            x = nx\n",
    "\n",
    "            \n",
    "        return x\n",
    "        \n",
    "        "
   ]
  },
  {
   "cell_type": "markdown",
   "id": "b76f06c1",
   "metadata": {},
   "source": [
    "# Problems"
   ]
  },
  {
   "cell_type": "code",
   "execution_count": 3,
   "id": "da5d0f5f",
   "metadata": {},
   "outputs": [],
   "source": [
    "class Problem1:\n",
    "    def __init__(self, weights):\n",
    "        w1, w2, w3 = weights\n",
    "        self.w1 = w1\n",
    "        self.w2 = w2\n",
    "        self.w3 = w3\n",
    "\n",
    "    # function f\n",
    "    def f(self, x):\n",
    "        x1, x2, x3 = x\n",
    "        return self.w1*np.log(x1) + self.w2*np.log(x2) + self.w3*np.log(x3) - 1/((1-x1-x2-x3)**2)\n",
    "        \n",
    "    # differential function f about x\n",
    "    def df(self, x):\n",
    "        x1, x2, x3 = x\n",
    "        return np.array([\n",
    "            self.w1/x1 - 2/((1-x1-x2-x3)**3),\n",
    "            self.w2/x2 - 2/((1-x1-x2-x3)**3),\n",
    "            self.w3/x3 - 2/((1-x1-x2-x3)**3)\n",
    "        ])\n",
    "    \n",
    "    # check if x satisfy constraints\n",
    "    def check_constraints(self, x):\n",
    "        x1, x2, x3 = x\n",
    "        if x1<=0 or x2<=0 or x3<=0 or x1+x2+x3>=1:\n",
    "            return False\n",
    "        return True"
   ]
  },
  {
   "cell_type": "code",
   "execution_count": 4,
   "id": "f267611c",
   "metadata": {},
   "outputs": [],
   "source": [
    "class Problem2:\n",
    "    def __init__(self, weights):\n",
    "        w1, w2, w3 = weights\n",
    "        self.w1 = w1\n",
    "        self.w2 = w2\n",
    "        self.w3 = w3\n",
    "\n",
    "    # function f\n",
    "    def f(self, x):\n",
    "        x1, x2, x3 = x\n",
    "        return self.w1*np.log(x1) + self.w2*np.log(x2) + self.w3*np.log(x3) - 1/(1-x1-x2)**2 - 1/(1-x1-x3)**2\n",
    "    \n",
    "    # differential function f about x\n",
    "    def df(self, x):\n",
    "        x1, x2, x3 = x\n",
    "        return np.array([\n",
    "            self.w1/x1 - 2/((1-x1-x2)**3) - 2/((1-x1-x3)**3),\n",
    "            self.w2/x2 - 2/((1-x1-x2)**3),\n",
    "            self.w3/x3 - 2/((1-x1-x3)**3)\n",
    "        ])\n",
    "    \n",
    "    # check if x satisfy constraints\n",
    "    def check_constraints(self, x):\n",
    "        x1, x2, x3 = x\n",
    "        if x1<=0 or x2<=0 or x3<=0 or x1+x2>=1 or x1+x3>=1:\n",
    "            return False\n",
    "        return True"
   ]
  },
  {
   "cell_type": "markdown",
   "id": "5b807621",
   "metadata": {},
   "source": [
    "## Problem #1"
   ]
  },
  {
   "cell_type": "markdown",
   "id": "9057956d",
   "metadata": {},
   "source": [
    "### Case #1 - w1=1, w2=1, w3=1"
   ]
  },
  {
   "cell_type": "code",
   "execution_count": 5,
   "id": "e59d982c",
   "metadata": {},
   "outputs": [
    {
     "name": "stdout",
     "output_type": "stream",
     "text": [
      "x1 : 0.123943\n",
      "x2 : 0.123943\n",
      "x3 : 0.123943\n",
      "\n"
     ]
    }
   ],
   "source": [
    "weights = np.array([1.0, 1.0, 1.0])\n",
    "problem = Problem1(weights)\n",
    "optimizer = Optimizer(problem)\n",
    "\n",
    "x0 = np.array([0.01, 0.01, 0.01])\n",
    "x_opt = optimizer.optimize(x0)\n",
    "print(\"x1 : %.6f\\nx2 : %.6f\\nx3 : %.6f\\n\" % (x_opt[0], x_opt[1], x_opt[2]))"
   ]
  },
  {
   "cell_type": "markdown",
   "id": "1ed36f2a",
   "metadata": {},
   "source": [
    "### Case #2 - w1=1, w2=2, w3=3"
   ]
  },
  {
   "cell_type": "code",
   "execution_count": 6,
   "id": "88cc37cd",
   "metadata": {},
   "outputs": [
    {
     "name": "stdout",
     "output_type": "stream",
     "text": [
      "x1 : 0.077237\n",
      "x2 : 0.154473\n",
      "x3 : 0.231721\n",
      "\n"
     ]
    }
   ],
   "source": [
    "weights = np.array([1.0, 2.0, 3.0])\n",
    "problem = Problem1(weights)\n",
    "optimizer = Optimizer(problem)\n",
    "\n",
    "x0 = np.array([0.01, 0.01, 0.01])\n",
    "x_opt = optimizer.optimize(x0)\n",
    "print(\"x1 : %.6f\\nx2 : %.6f\\nx3 : %.6f\\n\" % (x_opt[0], x_opt[1], x_opt[2]))"
   ]
  },
  {
   "cell_type": "markdown",
   "id": "15eefe26",
   "metadata": {},
   "source": [
    "### Case #3 - custom"
   ]
  },
  {
   "cell_type": "code",
   "execution_count": 7,
   "id": "42896ea4",
   "metadata": {},
   "outputs": [
    {
     "name": "stdout",
     "output_type": "stream",
     "text": [
      "x1 : 0.045776\n",
      "x2 : 0.183098\n",
      "x3 : 0.320429\n",
      "\n"
     ]
    }
   ],
   "source": [
    "weights = np.array([1.0, 4.0, 7.0])\n",
    "problem = Problem1(weights)\n",
    "optimizer = Optimizer(problem)\n",
    "\n",
    "x0 = np.array([0.01, 0.01, 0.01])\n",
    "x_opt = optimizer.optimize(x0)\n",
    "print(\"x1 : %.6f\\nx2 : %.6f\\nx3 : %.6f\\n\" % (x_opt[0], x_opt[1], x_opt[2]))"
   ]
  },
  {
   "cell_type": "markdown",
   "id": "mounted-guyana",
   "metadata": {},
   "source": [
    "### Case #4 - custom2"
   ]
  },
  {
   "cell_type": "code",
   "execution_count": 8,
   "id": "civic-campbell",
   "metadata": {},
   "outputs": [
    {
     "name": "stdout",
     "output_type": "stream",
     "text": [
      "x1 : 0.013358\n",
      "x2 : 0.000000\n",
      "x3 : 0.019860\n",
      "\n"
     ]
    }
   ],
   "source": [
    "weights = np.array([1.0, -2.0, 3.0])\n",
    "problem = Problem1(weights)\n",
    "optimizer = Optimizer(problem)\n",
    "\n",
    "x0 = np.array([0.01, 0.01, 0.01])\n",
    "x_opt = optimizer.optimize(x0)\n",
    "print(\"x1 : %.6f\\nx2 : %.6f\\nx3 : %.6f\\n\" % (x_opt[0], x_opt[1], x_opt[2]))"
   ]
  },
  {
   "cell_type": "markdown",
   "id": "3cd5d86c",
   "metadata": {},
   "source": [
    "## Problem #2"
   ]
  },
  {
   "cell_type": "markdown",
   "id": "a3855daf",
   "metadata": {},
   "source": [
    "### Case #1 - w1=1, w2=1, w3=1"
   ]
  },
  {
   "cell_type": "code",
   "execution_count": 9,
   "id": "6d8f3294",
   "metadata": {},
   "outputs": [
    {
     "name": "stdout",
     "output_type": "stream",
     "text": [
      "x1 : 0.093324\n",
      "x2 : 0.186638\n",
      "x3 : 0.186638\n",
      "\n"
     ]
    }
   ],
   "source": [
    "weights = np.array([1.0, 1.0, 1.0])\n",
    "problem = Problem2(weights)\n",
    "optimizer = Optimizer(problem)\n",
    "\n",
    "x0 = np.array([0.01, 0.01, 0.01])\n",
    "x_opt = optimizer.optimize(x0)\n",
    "print(\"x1 : %.6f\\nx2 : %.6f\\nx3 : %.6f\\n\" % (x_opt[0], x_opt[1], x_opt[2]))"
   ]
  },
  {
   "cell_type": "markdown",
   "id": "e5b39cca",
   "metadata": {},
   "source": [
    "### Case #2 - w1=1, w2=2, w3=3"
   ]
  },
  {
   "cell_type": "code",
   "execution_count": 10,
   "id": "495d7a07",
   "metadata": {},
   "outputs": [
    {
     "name": "stdout",
     "output_type": "stream",
     "text": [
      "x1 : 0.062077\n",
      "x2 : 0.282098\n",
      "x3 : 0.332642\n",
      "\n"
     ]
    }
   ],
   "source": [
    "weights = np.array([1.0, 2.0, 3.0])\n",
    "problem = Problem2(weights)\n",
    "optimizer = Optimizer(problem)\n",
    "\n",
    "x0 = np.array([0.01, 0.01, 0.01])\n",
    "x_opt = optimizer.optimize(x0)\n",
    "print(\"x1 : %.6f\\nx2 : %.6f\\nx3 : %.6f\\n\" % (x_opt[0], x_opt[1], x_opt[2]))"
   ]
  },
  {
   "cell_type": "markdown",
   "id": "443f0e82",
   "metadata": {},
   "source": [
    "### Case #3 - custom"
   ]
  },
  {
   "cell_type": "code",
   "execution_count": 11,
   "id": "932f8bef",
   "metadata": {},
   "outputs": [
    {
     "name": "stdout",
     "output_type": "stream",
     "text": [
      "x1 : 0.038755\n",
      "x2 : 0.384225\n",
      "x3 : 0.454755\n",
      "\n"
     ]
    }
   ],
   "source": [
    "weights = np.array([1.0, 4.0, 7.0])\n",
    "problem = Problem2(weights)\n",
    "optimizer = Optimizer(problem)\n",
    "\n",
    "x0 = np.array([0.01, 0.01, 0.01])\n",
    "x_opt = optimizer.optimize(x0)\n",
    "print(\"x1 : %.6f\\nx2 : %.6f\\nx3 : %.6f\\n\" % (x_opt[0], x_opt[1], x_opt[2]))"
   ]
  },
  {
   "cell_type": "markdown",
   "id": "experimental-mercury",
   "metadata": {},
   "source": [
    "### Case #4 - custom2"
   ]
  },
  {
   "cell_type": "code",
   "execution_count": 12,
   "id": "domestic-birth",
   "metadata": {},
   "outputs": [
    {
     "name": "stdout",
     "output_type": "stream",
     "text": [
      "x1 : 0.013287\n",
      "x2 : 0.000000\n",
      "x3 : 0.019863\n",
      "\n"
     ]
    }
   ],
   "source": [
    "weights = np.array([1.0, -2.0, 3.0])\n",
    "problem = Problem2(weights)\n",
    "optimizer = Optimizer(problem)\n",
    "\n",
    "x0 = np.array([0.01, 0.01, 0.01])\n",
    "x_opt = optimizer.optimize(x0)\n",
    "print(\"x1 : %.6f\\nx2 : %.6f\\nx3 : %.6f\\n\" % (x_opt[0], x_opt[1], x_opt[2]))"
   ]
  }
 ],
 "metadata": {
  "kernelspec": {
   "display_name": "Python [conda env:srflow] *",
   "language": "python",
   "name": "conda-env-srflow-py"
  },
  "language_info": {
   "codemirror_mode": {
    "name": "ipython",
    "version": 3
   },
   "file_extension": ".py",
   "mimetype": "text/x-python",
   "name": "python",
   "nbconvert_exporter": "python",
   "pygments_lexer": "ipython3",
   "version": "3.9.2"
  }
 },
 "nbformat": 4,
 "nbformat_minor": 5
}
