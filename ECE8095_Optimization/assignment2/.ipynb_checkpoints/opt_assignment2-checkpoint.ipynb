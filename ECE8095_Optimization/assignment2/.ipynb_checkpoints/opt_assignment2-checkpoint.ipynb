{
 "cells": [
  {
   "cell_type": "markdown",
   "id": "e1221003",
   "metadata": {},
   "source": [
    "# Import Libraries"
   ]
  },
  {
   "cell_type": "code",
   "execution_count": 1,
   "id": "4ee39c7f",
   "metadata": {},
   "outputs": [],
   "source": [
    "import numpy as np\n",
    "from scipy.optimize import linprog\n"
   ]
  },
  {
   "cell_type": "markdown",
   "id": "b76f06c1",
   "metadata": {},
   "source": [
    "# Optimizer"
   ]
  },
  {
   "cell_type": "code",
   "execution_count": 2,
   "id": "da5d0f5f",
   "metadata": {},
   "outputs": [],
   "source": [
    "class Optimizer_ver_0:\n",
    "    def __init__(self, matrix):\n",
    "        self.A = matrix\n",
    "        self.p_r = np.ones(self.A.shape[0]) / self.A.shape[0] \n",
    "        self.p_c = np.ones(self.A.shape[1]) / self.A.shape[1]\n",
    "    \n",
    "    def optimize_r(self):\n",
    "        A_eq = np.ones(self.p_r.size)\n",
    "        b_eq = np.ones(1)\n",
    "        A_ub = self.A @ self.p_c.T\n",
    "        b_ub = self.p_r @ self.A @ self.p_c.T\n",
    "\n",
    "        c = A_ub.reshape(1,-1)\n",
    "        A_eq = A_eq.reshape(1,-1)\n",
    "        b_eq = b_eq\n",
    "        A_ub = A_ub.reshape(1,-1)\n",
    "        b_ub = b_ub\n",
    "        \n",
    "        print(c.shape, A_eq.shape, b_eq.shape, A_ub.shape, b_ub.shape)\n",
    "        lp_result = linprog(c=c,\n",
    "                               A_eq=A_eq,\n",
    "                               b_eq=b_eq,\n",
    "                               A_ub=A_ub,\n",
    "                               b_ub=b_ub,\n",
    "                               bounds=[(0,1)]*self.p_r.size)\n",
    "        self.p_r = np.array(lp_result.x)\n",
    "\n",
    "    def optimize_c(self):\n",
    "        A_eq = np.ones(self.p_c.size)\n",
    "        b_eq = np.ones(1)\n",
    "        A_ub = self.p_r @ -self.A\n",
    "        b_ub = self.p_r @ -self.A @ self.p_c.T\n",
    "\n",
    "        c = A_ub.reshape(1,-1)\n",
    "        A_eq = A_eq.reshape(1,-1)\n",
    "        b_eq = b_eq\n",
    "        A_ub = A_ub.reshape(1,-1)\n",
    "        b_ub = b_ub\n",
    "        \n",
    "        #print(c.shape, A_eq.shape, b_eq.shape, A_ub.shape, b_ub.shape)\n",
    "        lp_result = linprog(c=c,\n",
    "                          A_eq=A_eq,\n",
    "                          b_eq=b_eq,\n",
    "                          bounds=[(0,1)]*self.p_c.size)\n",
    "        self.p_c = np.array(lp_result.x)\n",
    "    \n",
    "    def optimize(self):\n",
    "        cnt=10\n",
    "        while cnt>0:\n",
    "            self.optimize_r()\n",
    "            self.optimize_c()\n",
    "            print(self.p_r, self.p_c)\n",
    "            cnt-=1"
   ]
  },
  {
   "cell_type": "code",
   "execution_count": 3,
   "id": "crucial-dallas",
   "metadata": {},
   "outputs": [],
   "source": [
    "class Optimizer:\n",
    "    def __init__(self, matrix):\n",
    "        self.A = matrix\n",
    "        self.p_r = np.ones(self.A.shape[0]) / self.A.shape[0] \n",
    "        self.p_c = np.ones(self.A.shape[1]) / self.A.shape[1]\n",
    "    \n",
    "    def optimize_r(self):\n",
    "        A_eq = np.ones((1, self.p_r.size))\n",
    "        b_eq = np.ones(1)\n",
    "        A_ub = self.A\n",
    "        b_ub = np.zeros(self.p_c.size)\n",
    "\n",
    "        # Set input parameters for linprog function\n",
    "        c = np.zeros((1, self.p_r.size + 1))\n",
    "        c[0, -1] = -1\n",
    "        A_eq = np.concatenate((A_eq, np.zeros((1,1))), axis=1)\n",
    "        b_eq = b_eq\n",
    "        A_ub = np.concatenate((-A_ub, np.ones((1, self.p_c.size))), axis=0).T\n",
    "        b_ub = b_ub\n",
    "        \n",
    "        #print(c.shape, A_eq.shape, b_eq.shape, A_ub.shape, b_ub.shape)\n",
    "        lp_result = linprog(c=c,\n",
    "                               A_eq=A_eq,\n",
    "                               b_eq=b_eq,\n",
    "                               A_ub=A_ub,\n",
    "                               b_ub=b_ub,\n",
    "                               bounds=[(0,1)]*self.p_r.size + [(np.min(self.A), np.max(self.A))])\n",
    "        return lp_result\n",
    "\n",
    "    def optimize_c(self):\n",
    "        A_eq = np.ones((1, self.p_c.size))\n",
    "        b_eq = np.ones(1)\n",
    "        A_ub = self.A.T\n",
    "        b_ub = np.zeros(self.p_r.size)\n",
    "\n",
    "        # Set input parameters for linprog function\n",
    "        c = np.zeros((1, self.p_c.size + 1))\n",
    "        c[0, -1] = -1\n",
    "        A_eq = np.concatenate((A_eq, np.zeros((1,1))), axis=1)\n",
    "        b_eq = b_eq\n",
    "        A_ub = np.concatenate((-A_ub, np.ones((1, self.p_r.size))), axis=0).T\n",
    "        b_ub = b_ub\n",
    "        \n",
    "        #print(c.shape, A_eq.shape, b_eq.shape, A_ub.shape, b_ub.shape)\n",
    "        lp_result = linprog(c=c,\n",
    "                               A_eq=A_eq,\n",
    "                               b_eq=b_eq,\n",
    "                               A_ub=A_ub,\n",
    "                               b_ub=b_ub,\n",
    "                               bounds=[(0,1)]*self.p_c.size + [(np.min(self.A), np.max(self.A))])\n",
    "        return lp_result\n",
    "    \n",
    "    def optimize(self):\n",
    "        result_r = self.optimize_r().x\n",
    "        result_c = self.optimize_c().x\n",
    "        print(\"probability of row is \", result_r[:-1])\n",
    "        print(\"value is \", result_r[-1])\n",
    "        print(\"probability of col is \", result_c[:-1])\n",
    "        print(\"value is \", result_c[-1])\n",
    "\n",
    "    \n",
    "    def print_saddle_point(self):\n",
    "        mins = np.amin(self.A, axis=1)\n",
    "        maxs = np.amax(self.A, axis=0)\n",
    "        max_min = np.max(mins)\n",
    "        min_max = np.min(maxs)\n",
    "\n",
    "        if max_min != min_max :\n",
    "            print(\"No Saddle Point\")\n",
    "        else :\n",
    "            row_idxs = np.argwhere(self.A == max_min)\n",
    "            for row_idx in row_idxs:\n",
    "                print(\"(%f, %f)\" %(row_idx[0]+1, row_idx[1]+1))\n",
    "        "
   ]
  },
  {
   "cell_type": "code",
   "execution_count": 4,
   "id": "material-purchase",
   "metadata": {},
   "outputs": [
    {
     "name": "stdout",
     "output_type": "stream",
     "text": [
      "probability of row is  [2.90043314e-12 7.37572829e-12 1.00000000e+00]\n",
      "value is  6.999999999969044\n",
      "probability of col is  [2.04386885e-09 2.77558904e-10 1.00000000e+00]\n",
      "value is  2.9999999964046764\n",
      "(3.000000, 1.000000)\n"
     ]
    }
   ],
   "source": [
    "matrix_0 = np.array([[1,2,3],\n",
    "                     [4,5,6],\n",
    "                     [7,8,9]])\n",
    "problem_0 = Optimizer(matrix_0)\n",
    "\n",
    "problem_0.optimize()\n",
    "problem_0.print_saddle_point()"
   ]
  },
  {
   "cell_type": "code",
   "execution_count": 5,
   "id": "theoretical-blade",
   "metadata": {},
   "outputs": [
    {
     "name": "stdout",
     "output_type": "stream",
     "text": [
      "probability of row is  [5.71428572e-01 4.28571430e-01 4.96688225e-11]\n",
      "value is  3.1428571418520375\n",
      "probability of col is  [6.66666666e-01 6.80372325e-10 3.33333334e-01 3.54626394e-10]\n",
      "value is  2.9999999984208547\n",
      "No Saddle Point\n"
     ]
    }
   ],
   "source": [
    "matrix_1 = np.array([[4,3,1,4],\n",
    "                     [2,5,6,3],\n",
    "                     [1,0,7,0]])\n",
    "problem_1 = Optimizer(matrix_1)\n",
    "\n",
    "problem_1.optimize()\n",
    "problem_1.print_saddle_point()"
   ]
  },
  {
   "cell_type": "code",
   "execution_count": 6,
   "id": "equal-convertible",
   "metadata": {},
   "outputs": [
    {
     "name": "stdout",
     "output_type": "stream",
     "text": [
      "probability of row is  [0.36363636 0.34965035 0.28671329]\n",
      "value is  0.6713286713212918\n",
      "probability of col is  [0.30769231 0.29370629 0.3986014 ]\n",
      "value is  0.6713286713185154\n",
      "No Saddle Point\n"
     ]
    }
   ],
   "source": [
    "matrix_2 = np.array([[0, 5, -2],\n",
    "                     [-3, 0, 4],\n",
    "                     [6, -4, 0]])\n",
    "problem_2 = Optimizer(matrix_2)\n",
    "\n",
    "problem_2.optimize()\n",
    "problem_2.print_saddle_point()"
   ]
  },
  {
   "cell_type": "code",
   "execution_count": 7,
   "id": "fallen-layer",
   "metadata": {},
   "outputs": [
    {
     "name": "stdout",
     "output_type": "stream",
     "text": [
      "probability of row is  [1.62162162e-01 5.40540541e-01 1.55761033e-10 2.97297297e-01]\n",
      "value is  3.270270269636707\n",
      "probability of col is  [1.18721307e-10 1.93277311e-01 1.63865546e-01 4.36974790e-01\n",
      " 2.05882353e-01]\n",
      "value is  3.7100840333440637\n",
      "No Saddle Point\n"
     ]
    }
   ],
   "source": [
    "matrix_3 = np.array([[5,8,3,1,6],\n",
    "                     [4,2,6,3,5],\n",
    "                     [2,4,6,4,1],\n",
    "                     [1,3,2,5,3]])\n",
    "problem_3 = Optimizer(matrix_3)\n",
    "\n",
    "problem_3.optimize()\n",
    "problem_3.print_saddle_point()"
   ]
  },
  {
   "cell_type": "code",
   "execution_count": null,
   "id": "manual-minutes",
   "metadata": {},
   "outputs": [],
   "source": []
  }
 ],
 "metadata": {
  "kernelspec": {
   "display_name": "Python [conda env:web] *",
   "language": "python",
   "name": "conda-env-web-py"
  },
  "language_info": {
   "codemirror_mode": {
    "name": "ipython",
    "version": 3
   },
   "file_extension": ".py",
   "mimetype": "text/x-python",
   "name": "python",
   "nbconvert_exporter": "python",
   "pygments_lexer": "ipython3",
   "version": "3.9.2"
  }
 },
 "nbformat": 4,
 "nbformat_minor": 5
}
