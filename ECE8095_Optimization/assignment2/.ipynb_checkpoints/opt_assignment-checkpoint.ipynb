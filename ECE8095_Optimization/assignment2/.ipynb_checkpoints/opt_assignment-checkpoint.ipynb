{
 "cells": [
  {
   "cell_type": "markdown",
   "id": "e1221003",
   "metadata": {},
   "source": [
    "# Import Libraries"
   ]
  },
  {
   "cell_type": "code",
   "execution_count": 1,
   "id": "4ee39c7f",
   "metadata": {},
   "outputs": [],
   "source": [
    "import numpy as np\n",
    "from scipy.optimize import linprog\n"
   ]
  },
  {
   "cell_type": "markdown",
   "id": "b76f06c1",
   "metadata": {},
   "source": [
    "# Optimizer"
   ]
  },
  {
   "cell_type": "code",
   "execution_count": 2,
   "id": "da5d0f5f",
   "metadata": {},
   "outputs": [],
   "source": [
    "class Optimizer_ver_0:\n",
    "    def __init__(self, matrix):\n",
    "        self.A = matrix\n",
    "        self.p_r = np.ones(self.A.shape[0]) / self.A.shape[0] \n",
    "        self.p_c = np.ones(self.A.shape[1]) / self.A.shape[1]\n",
    "    \n",
    "    def optimize_r(self):\n",
    "        A_eq = np.ones(self.p_r.size)\n",
    "        b_eq = np.ones(1)\n",
    "        A_ub = self.A @ self.p_c.T\n",
    "        b_ub = self.p_r @ self.A @ self.p_c.T\n",
    "\n",
    "        c = A_ub.reshape(1,-1)\n",
    "        A_eq = A_eq.reshape(1,-1)\n",
    "        b_eq = b_eq\n",
    "        A_ub = A_ub.reshape(1,-1)\n",
    "        b_ub = b_ub\n",
    "        \n",
    "        print(c.shape, A_eq.shape, b_eq.shape, A_ub.shape, b_ub.shape)\n",
    "        lp_result = linprog(c=c,\n",
    "                               A_eq=A_eq,\n",
    "                               b_eq=b_eq,\n",
    "                               A_ub=A_ub,\n",
    "                               b_ub=b_ub,\n",
    "                               bounds=[(0,1)]*self.p_r.size)\n",
    "        self.p_r = np.array(lp_result.x)\n",
    "\n",
    "    def optimize_c(self):\n",
    "        A_eq = np.ones(self.p_c.size)\n",
    "        b_eq = np.ones(1)\n",
    "        A_ub = self.p_r @ -self.A\n",
    "        b_ub = self.p_r @ -self.A @ self.p_c.T\n",
    "\n",
    "        c = A_ub.reshape(1,-1)\n",
    "        A_eq = A_eq.reshape(1,-1)\n",
    "        b_eq = b_eq\n",
    "        A_ub = A_ub.reshape(1,-1)\n",
    "        b_ub = b_ub\n",
    "        \n",
    "        #print(c.shape, A_eq.shape, b_eq.shape, A_ub.shape, b_ub.shape)\n",
    "        lp_result = linprog(c=c,\n",
    "                          A_eq=A_eq,\n",
    "                          b_eq=b_eq,\n",
    "                          bounds=[(0,1)]*self.p_c.size)\n",
    "        self.p_c = np.array(lp_result.x)\n",
    "    \n",
    "    def optimize(self):\n",
    "        cnt=10\n",
    "        while cnt>0:\n",
    "            self.optimize_r()\n",
    "            self.optimize_c()\n",
    "            print(self.p_r, self.p_c)\n",
    "            cnt-=1"
   ]
  },
  {
   "cell_type": "code",
   "execution_count": 3,
   "id": "crucial-dallas",
   "metadata": {},
   "outputs": [],
   "source": [
    "class Optimizer:\n",
    "    def __init__(self, matrix):\n",
    "        self.A = matrix\n",
    "        self.p_r = np.ones(self.A.shape[0]) / self.A.shape[0] \n",
    "        self.p_c = np.ones(self.A.shape[1]) / self.A.shape[1]\n",
    "    \n",
    "    def optimize_r(self):\n",
    "        A_eq = np.ones((1, self.p_r.size))\n",
    "        b_eq = np.ones(1)\n",
    "        A_ub = self.A\n",
    "        b_ub = np.zeros(self.p_c.size)\n",
    "\n",
    "        # Set input parameters for linprog function\n",
    "        c = np.zeros((1, self.p_r.size + 1))\n",
    "        c[0, -1] = -1\n",
    "        A_eq = np.concatenate((A_eq, np.zeros((1,1))), axis=1)\n",
    "        b_eq = b_eq\n",
    "        A_ub = np.concatenate((-A_ub, np.ones((1, self.p_c.size))), axis=0).T\n",
    "        b_ub = b_ub\n",
    "        \n",
    "        #print(c.shape, A_eq.shape, b_eq.shape, A_ub.shape, b_ub.shape)\n",
    "        lp_result = linprog(c=c,\n",
    "                               A_eq=A_eq,\n",
    "                               b_eq=b_eq,\n",
    "                               A_ub=A_ub,\n",
    "                               b_ub=b_ub,\n",
    "                               bounds=[(0,1)]*self.p_r.size + [(np.min(self.A), np.max(self.A))])\n",
    "        return lp_result\n",
    "\n",
    "    def optimize_c(self):\n",
    "        A_eq = np.ones((1, self.p_c.size))\n",
    "        b_eq = np.ones(1)\n",
    "        A_ub = self.A.T\n",
    "        b_ub = np.zeros(self.p_r.size)\n",
    "\n",
    "        # Set input parameters for linprog function\n",
    "        c = np.zeros((1, self.p_c.size + 1))\n",
    "        c[0, -1] = -1\n",
    "        A_eq = np.concatenate((A_eq, np.zeros((1,1))), axis=1)\n",
    "        b_eq = b_eq\n",
    "        A_ub = np.concatenate((-A_ub, np.ones((1, self.p_r.size))), axis=0).T\n",
    "        b_ub = b_ub\n",
    "        \n",
    "        #print(c.shape, A_eq.shape, b_eq.shape, A_ub.shape, b_ub.shape)\n",
    "        lp_result = linprog(c=c,\n",
    "                               A_eq=A_eq,\n",
    "                               b_eq=b_eq,\n",
    "                               A_ub=A_ub,\n",
    "                               b_ub=b_ub,\n",
    "                               bounds=[(0,1)]*self.p_c.size + [(np.min(self.A), np.max(self.A))])\n",
    "        return lp_result\n",
    "    \n",
    "    def optimize(self):\n",
    "        print(self.optimize_r().x)\n",
    "        print(self.optimize_c().x)\n",
    "\n",
    "    \n",
    "    def get_saddle_point(self):\n",
    "        min_vals = np.amin(self.A, axis=1)\n",
    "        max_vals = np.amax(self.A, axis=0)\n",
    "        maxmin = np.max(min_vals)\n",
    "        minmax = np.min(max_vals)\n",
    "\n",
    "        if maxmin != minmax :\n",
    "            print(\"No saddle point exists.............\")\n",
    "        else :\n",
    "\n",
    "            saddle_points = \"{\"\n",
    "            indices = np.argwhere(a == maxmin)\n",
    "            for row in indices :\n",
    "                saddle_points += \"(\" + str(row[0]+1) + \",\" +str(row[1]+1) + \")\"\n",
    "\n",
    "            saddle_points += \"}\"\n",
    "            print(\"Saddle points are : \", saddle_points)"
   ]
  },
  {
   "cell_type": "code",
   "execution_count": 4,
   "id": "theoretical-blade",
   "metadata": {},
   "outputs": [
    {
     "name": "stdout",
     "output_type": "stream",
     "text": [
      "[5.71428572e-01 4.28571430e-01 4.96688225e-11 3.14285714e+00]\n",
      "[6.66666666e-01 6.80372325e-10 3.33333334e-01 3.54626394e-10\n",
      " 3.00000000e+00]\n",
      "No saddle point exists.............\n"
     ]
    }
   ],
   "source": [
    "matrix_1 = np.array([[4,3,1,4],\n",
    "                     [2,5,6,3],\n",
    "                     [1,0,7,0]])\n",
    "problem_1 = Optimizer(matrix_1)\n",
    "\n",
    "problem_1.optimize()\n",
    "problem_1.get_saddle_point()"
   ]
  },
  {
   "cell_type": "code",
   "execution_count": 5,
   "id": "equal-convertible",
   "metadata": {},
   "outputs": [
    {
     "name": "stdout",
     "output_type": "stream",
     "text": [
      "[0.36363636 0.34965035 0.28671329 0.67132867]\n",
      "[0.30769231 0.29370629 0.3986014  0.67132867]\n",
      "No saddle point exists.............\n"
     ]
    }
   ],
   "source": [
    "matrix_2 = np.array([[0, 5, -2],\n",
    "                     [-3, 0, 4],\n",
    "                     [6, -4, 0]])\n",
    "problem_2 = Optimizer(matrix_2)\n",
    "\n",
    "problem_2.optimize()\n",
    "problem_2.get_saddle_point()"
   ]
  },
  {
   "cell_type": "code",
   "execution_count": 6,
   "id": "fallen-layer",
   "metadata": {},
   "outputs": [
    {
     "name": "stdout",
     "output_type": "stream",
     "text": [
      "[1.62162162e-01 5.40540541e-01 1.55761033e-10 2.97297297e-01\n",
      " 3.27027027e+00]\n",
      "[1.18721307e-10 1.93277311e-01 1.63865546e-01 4.36974790e-01\n",
      " 2.05882353e-01 3.71008403e+00]\n",
      "No saddle point exists.............\n"
     ]
    }
   ],
   "source": [
    "matrix_3 = np.array([[5,8,3,1,6],\n",
    "                     [4,2,6,3,5],\n",
    "                     [2,4,6,4,1],\n",
    "                     [1,3,2,5,3]])\n",
    "problem_3 = Optimizer(matrix_3)\n",
    "\n",
    "problem_3.optimize()\n",
    "problem_3.get_saddle_point()"
   ]
  },
  {
   "cell_type": "code",
   "execution_count": 7,
   "id": "accepting-cloud",
   "metadata": {},
   "outputs": [
    {
     "data": {
      "text/plain": [
       "      con: array([-1.41876244e-09])\n",
       "      fun: -3.142857141841177\n",
       "  message: 'Optimization terminated successfully.'\n",
       "      nit: 5\n",
       "    slack: array([3.91408816e-09, 7.14285722e-01, 9.29787980e-09, 4.28571434e-01])\n",
       "   status: 0\n",
       " strategy: array([5.71428571e-01, 4.28571430e-01, 5.27789705e-11])\n",
       "  success: True\n",
       "    value: 3.142857141841177\n",
       "        x: array([5.71428571e-01, 4.28571430e-01, 5.27789705e-11, 3.14285714e+00])"
      ]
     },
     "execution_count": 7,
     "metadata": {},
     "output_type": "execute_result"
    }
   ],
   "source": [
    "payoff_matrix = matrix_1\n",
    "\n",
    "row_count, col_count = payoff_matrix.shape\n",
    "    \n",
    "# Variables: Row strategy weights, value of the game.\n",
    "\n",
    "# Objective: Maximize the minimum possible row player's payoff.\n",
    "c = np.zeros((1, row_count + 1))\n",
    "c[0, -1] = -1.0 # SciPy uses the minimization convention.\n",
    "\n",
    "# Payoff when column player plays any strategy must be at least the value of the game.\n",
    "A_ub = np.concatenate((-payoff_matrix.transpose(), np.ones((col_count, 1))), axis = 1)\n",
    "b_ub = np.zeros(col_count)\n",
    "\n",
    "# Probabilities must sum to 1.\n",
    "A_eq = np.ones((1, row_count + 1))\n",
    "A_eq[0, -1] = 0\n",
    "\n",
    "b_eq = np.ones((1))\n",
    "\n",
    "# Weights must be nonnegative. Payoff must be between the minimum and maximum value in the payoff matrix.\n",
    "min_payoff = np.min(payoff_matrix)\n",
    "max_payoff = np.max(payoff_matrix)\n",
    "bounds = [(0, None)] * row_count + [(min_payoff, max_payoff)]\n",
    "\n",
    "result = linprog(c, A_ub, b_ub, A_eq, b_eq, bounds)\n",
    "\n",
    "result.strategy = result.x[:-1]\n",
    "result.value = result.x[-1]\n",
    "\n",
    "result"
   ]
  },
  {
   "cell_type": "code",
   "execution_count": null,
   "id": "manual-minutes",
   "metadata": {},
   "outputs": [],
   "source": []
  }
 ],
 "metadata": {
  "kernelspec": {
   "display_name": "Python [conda env:web] *",
   "language": "python",
   "name": "conda-env-web-py"
  },
  "language_info": {
   "codemirror_mode": {
    "name": "ipython",
    "version": 3
   },
   "file_extension": ".py",
   "mimetype": "text/x-python",
   "name": "python",
   "nbconvert_exporter": "python",
   "pygments_lexer": "ipython3",
   "version": "3.9.2"
  }
 },
 "nbformat": 4,
 "nbformat_minor": 5
}
